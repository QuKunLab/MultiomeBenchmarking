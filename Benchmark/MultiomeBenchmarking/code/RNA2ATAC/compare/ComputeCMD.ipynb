{
 "cells": [
  {
   "cell_type": "code",
   "execution_count": 2,
   "id": "8fd73fbe",
   "metadata": {},
   "outputs": [],
   "source": [
    "import pandas as pd\n",
    "import anndata as ad\n",
    "import numpy as np\n",
    "from scipy.sparse import csr_matrix, coo_matrix, csc_matrix\n",
    "from scipy.io import mmread, mmwrite\n",
    "import os\n",
    "import numpy as np\n",
    "from sklearn.metrics import roc_auc_score\n",
    "from sklearn.utils.multiclass import type_of_target"
   ]
  },
  {
   "cell_type": "code",
   "execution_count": 2,
   "id": "5fdae83e",
   "metadata": {},
   "outputs": [],
   "source": [
    "#seurat"
   ]
  },
  {
   "cell_type": "code",
   "execution_count": null,
   "id": "f758e518",
   "metadata": {},
   "outputs": [],
   "source": [
    "def CMD_dist(A, B):\n",
    "    x = np.trace(A.dot(B))\n",
    "    y = np.linalg.norm(A,'fro')*np.linalg.norm(B,'fro')\n",
    "    return 1- x/(y+1e-8)"
   ]
  },
  {
   "cell_type": "code",
   "execution_count": 4,
   "id": "7bc4aa5a",
   "metadata": {},
   "outputs": [],
   "source": [
    "train_id = \"Dataset35\"\n",
    "test_id = \"Dataset36\""
   ]
  },
  {
   "cell_type": "code",
   "execution_count": 8,
   "id": "1845162a",
   "metadata": {},
   "outputs": [],
   "source": [
    "true=pd.read_csv(\"../results/Seurat/Seurat_\" + train_id + \"_\" + test_id + \"_true.csv\",sep=\",\",index_col=0)\n",
    "pred=pd.read_csv(\"../results/Seurat/Seurat_\" + train_id + \"_\" + test_id + \"_pred.csv\",sep=\",\",index_col=0)"
   ]
  },
  {
   "cell_type": "code",
   "execution_count": 7,
   "id": "896a54fa",
   "metadata": {},
   "outputs": [],
   "source": [
    "pred=pred.sort_index()\n",
    "true=true.sort_index()"
   ]
  },
  {
   "cell_type": "code",
   "execution_count": 11,
   "id": "f3589bba",
   "metadata": {},
   "outputs": [],
   "source": [
    "pred=pred.loc[(pred!=0).any(axis=1)]\n",
    "true=true.loc[(true!=0).any(axis=1)]\n",
    "overlap=true.index.intersection(pred.index)\n",
    "true=true.loc[overlap]\n",
    "pred=pred.loc[overlap]"
   ]
  },
  {
   "cell_type": "code",
   "execution_count": 10,
   "id": "1d8c90f7",
   "metadata": {
    "collapsed": true
   },
   "outputs": [
    {
     "name": "stderr",
     "output_type": "stream",
     "text": [
      "/public/home/maintain/miniconda3/lib/python3.9/site-packages/numpy/lib/function_base.py:2829: RuntimeWarning: invalid value encountered in true_divide\n",
      "  c /= stddev[:, None]\n",
      "/public/home/maintain/miniconda3/lib/python3.9/site-packages/numpy/lib/function_base.py:2830: RuntimeWarning: invalid value encountered in true_divide\n",
      "  c /= stddev[None, :]\n"
     ]
    },
    {
     "ename": "MemoryError",
     "evalue": "Unable to allocate 155. GiB for an array with shape (144336, 144336) and data type float64",
     "output_type": "error",
     "traceback": [
      "\u001b[0;31m---------------------------------------------------------------------------\u001b[0m",
      "\u001b[0;31mMemoryError\u001b[0m                               Traceback (most recent call last)",
      "Input \u001b[0;32mIn [10]\u001b[0m, in \u001b[0;36m<cell line: 3>\u001b[0;34m()\u001b[0m\n\u001b[1;32m      1\u001b[0m \u001b[38;5;66;03m##peak\u001b[39;00m\n\u001b[1;32m      2\u001b[0m corr_pred \u001b[38;5;241m=\u001b[39m np\u001b[38;5;241m.\u001b[39mcorrcoef(pred)\n\u001b[0;32m----> 3\u001b[0m corr_true \u001b[38;5;241m=\u001b[39m \u001b[43mnp\u001b[49m\u001b[38;5;241;43m.\u001b[39;49m\u001b[43mcorrcoef\u001b[49m\u001b[43m(\u001b[49m\u001b[43mtrue\u001b[49m\u001b[43m)\u001b[49m\n\u001b[1;32m      4\u001b[0m corr_pred\u001b[38;5;241m=\u001b[39mpd\u001b[38;5;241m.\u001b[39mDataFrame(corr_pred)\n\u001b[1;32m      5\u001b[0m corr_true\u001b[38;5;241m=\u001b[39mpd\u001b[38;5;241m.\u001b[39mDataFrame(corr_true)\n",
      "File \u001b[0;32m<__array_function__ internals>:180\u001b[0m, in \u001b[0;36mcorrcoef\u001b[0;34m(*args, **kwargs)\u001b[0m\n",
      "File \u001b[0;32m/public/home/maintain/miniconda3/lib/python3.9/site-packages/numpy/lib/function_base.py:2821\u001b[0m, in \u001b[0;36mcorrcoef\u001b[0;34m(x, y, rowvar, bias, ddof, dtype)\u001b[0m\n\u001b[1;32m   2817\u001b[0m \u001b[38;5;28;01mif\u001b[39;00m bias \u001b[38;5;129;01mis\u001b[39;00m \u001b[38;5;129;01mnot\u001b[39;00m np\u001b[38;5;241m.\u001b[39m_NoValue \u001b[38;5;129;01mor\u001b[39;00m ddof \u001b[38;5;129;01mis\u001b[39;00m \u001b[38;5;129;01mnot\u001b[39;00m np\u001b[38;5;241m.\u001b[39m_NoValue:\n\u001b[1;32m   2818\u001b[0m     \u001b[38;5;66;03m# 2015-03-15, 1.10\u001b[39;00m\n\u001b[1;32m   2819\u001b[0m     warnings\u001b[38;5;241m.\u001b[39mwarn(\u001b[38;5;124m'\u001b[39m\u001b[38;5;124mbias and ddof have no effect and are deprecated\u001b[39m\u001b[38;5;124m'\u001b[39m,\n\u001b[1;32m   2820\u001b[0m                   \u001b[38;5;167;01mDeprecationWarning\u001b[39;00m, stacklevel\u001b[38;5;241m=\u001b[39m\u001b[38;5;241m3\u001b[39m)\n\u001b[0;32m-> 2821\u001b[0m c \u001b[38;5;241m=\u001b[39m \u001b[43mcov\u001b[49m\u001b[43m(\u001b[49m\u001b[43mx\u001b[49m\u001b[43m,\u001b[49m\u001b[43m \u001b[49m\u001b[43my\u001b[49m\u001b[43m,\u001b[49m\u001b[43m \u001b[49m\u001b[43mrowvar\u001b[49m\u001b[43m,\u001b[49m\u001b[43m \u001b[49m\u001b[43mdtype\u001b[49m\u001b[38;5;241;43m=\u001b[39;49m\u001b[43mdtype\u001b[49m\u001b[43m)\u001b[49m\n\u001b[1;32m   2822\u001b[0m \u001b[38;5;28;01mtry\u001b[39;00m:\n\u001b[1;32m   2823\u001b[0m     d \u001b[38;5;241m=\u001b[39m diag(c)\n",
      "File \u001b[0;32m<__array_function__ internals>:180\u001b[0m, in \u001b[0;36mcov\u001b[0;34m(*args, **kwargs)\u001b[0m\n",
      "File \u001b[0;32m/public/home/maintain/miniconda3/lib/python3.9/site-packages/numpy/lib/function_base.py:2679\u001b[0m, in \u001b[0;36mcov\u001b[0;34m(m, y, rowvar, bias, ddof, fweights, aweights, dtype)\u001b[0m\n\u001b[1;32m   2677\u001b[0m \u001b[38;5;28;01melse\u001b[39;00m:\n\u001b[1;32m   2678\u001b[0m     X_T \u001b[38;5;241m=\u001b[39m (X\u001b[38;5;241m*\u001b[39mw)\u001b[38;5;241m.\u001b[39mT\n\u001b[0;32m-> 2679\u001b[0m c \u001b[38;5;241m=\u001b[39m \u001b[43mdot\u001b[49m\u001b[43m(\u001b[49m\u001b[43mX\u001b[49m\u001b[43m,\u001b[49m\u001b[43m \u001b[49m\u001b[43mX_T\u001b[49m\u001b[38;5;241;43m.\u001b[39;49m\u001b[43mconj\u001b[49m\u001b[43m(\u001b[49m\u001b[43m)\u001b[49m\u001b[43m)\u001b[49m\n\u001b[1;32m   2680\u001b[0m c \u001b[38;5;241m*\u001b[39m\u001b[38;5;241m=\u001b[39m np\u001b[38;5;241m.\u001b[39mtrue_divide(\u001b[38;5;241m1\u001b[39m, fact)\n\u001b[1;32m   2681\u001b[0m \u001b[38;5;28;01mreturn\u001b[39;00m c\u001b[38;5;241m.\u001b[39msqueeze()\n",
      "File \u001b[0;32m<__array_function__ internals>:180\u001b[0m, in \u001b[0;36mdot\u001b[0;34m(*args, **kwargs)\u001b[0m\n",
      "\u001b[0;31mMemoryError\u001b[0m: Unable to allocate 155. GiB for an array with shape (144336, 144336) and data type float64"
     ]
    }
   ],
   "source": [
    "##peak\n",
    "corr_pred = np.corrcoef(pred)\n",
    "corr_true = np.corrcoef(true)\n",
    "corr_pred=pd.DataFrame(corr_pred)\n",
    "corr_true=pd.DataFrame(corr_true)\n",
    "Seurat_cmd_peak=CMD_dist(corr_pred,corr_true)"
   ]
  },
  {
   "cell_type": "code",
   "execution_count": null,
   "id": "e597fb32",
   "metadata": {},
   "outputs": [],
   "source": [
    "Seurat_cmd_peak"
   ]
  },
  {
   "cell_type": "code",
   "execution_count": null,
   "id": "2f01f28a",
   "metadata": {},
   "outputs": [],
   "source": [
    "#cell\n",
    "corr_pred = np.corrcoef(pred.T)\n",
    "corr_true = np.corrcoef(true.T)\n",
    "corr_pred=pd.DataFrame(corr_pred)\n",
    "corr_true=pd.DataFrame(corr_true)\n",
    "Seurat_cmd_cell=CMD_dist(corr_pred,corr_true)"
   ]
  },
  {
   "cell_type": "code",
   "execution_count": null,
   "id": "a177f29e",
   "metadata": {},
   "outputs": [],
   "source": [
    "Seurat_cmd_cell"
   ]
  },
  {
   "cell_type": "code",
   "execution_count": 42,
   "id": "d14d5c72",
   "metadata": {},
   "outputs": [],
   "source": [
    "#LIGER"
   ]
  },
  {
   "cell_type": "code",
   "execution_count": 43,
   "id": "5ee999ab",
   "metadata": {},
   "outputs": [],
   "source": [
    "true=pd.read_csv(\"../results/LIGER/LIGER_\" + train_id + \"_\" + test_id + \"_true.csv\",sep=\",\",index_col=0)\n",
    "pred=pd.read_csv(\"../results/LIGER/LIGER_\" + train_id + \"_\" + test_id + \"_pred.csv\",sep=\",\",index_col=0)"
   ]
  },
  {
   "cell_type": "code",
   "execution_count": 44,
   "id": "f14299a3",
   "metadata": {},
   "outputs": [],
   "source": [
    "pred=pred.sort_index()\n",
    "true=true.sort_index()\n",
    "# pred=pred.T.sort_index()\n",
    "# true=true.T.sort_index()"
   ]
  },
  {
   "cell_type": "code",
   "execution_count": 45,
   "id": "09dfa22a",
   "metadata": {},
   "outputs": [],
   "source": [
    "pred=pred.loc[(pred!=0).any(axis=1)]\n",
    "true=true.loc[(true!=0).any(axis=1)]\n",
    "overlap=true.index.intersection(pred.index)\n",
    "true=true.loc[overlap]\n",
    "pred=pred.loc[overlap]"
   ]
  },
  {
   "cell_type": "code",
   "execution_count": null,
   "id": "63166a55",
   "metadata": {},
   "outputs": [],
   "source": [
    "corr_pred = np.corrcoef(pred)\n",
    "corr_true = np.corrcoef(true)\n",
    "corr_pred=pd.DataFrame(corr_pred)\n",
    "corr_true=pd.DataFrame(corr_true)"
   ]
  },
  {
   "cell_type": "code",
   "execution_count": null,
   "id": "53081da6",
   "metadata": {},
   "outputs": [],
   "source": [
    "##peak\n",
    "corr_pred = np.corrcoef(pred)\n",
    "corr_true = np.corrcoef(true)\n",
    "corr_pred=pd.DataFrame(corr_pred)\n",
    "corr_true=pd.DataFrame(corr_true)\n",
    "LIGER_cmd_peak=CMD_dist(corr_pred,corr_true)"
   ]
  },
  {
   "cell_type": "code",
   "execution_count": null,
   "id": "70154967",
   "metadata": {},
   "outputs": [],
   "source": [
    "LIGER_cmd_peak"
   ]
  },
  {
   "cell_type": "code",
   "execution_count": null,
   "id": "4a648c92",
   "metadata": {},
   "outputs": [],
   "source": [
    "#cell\n",
    "corr_pred = np.corrcoef(pred.T)\n",
    "corr_true = np.corrcoef(true.T)\n",
    "corr_pred=pd.DataFrame(corr_pred)\n",
    "corr_true=pd.DataFrame(corr_true)\n",
    "LIGER_cmd_cell=CMD_dist(corr_pred,corr_true)"
   ]
  },
  {
   "cell_type": "code",
   "execution_count": null,
   "id": "12db9c2d",
   "metadata": {},
   "outputs": [],
   "source": [
    "LIGER_cmd_cell"
   ]
  },
  {
   "cell_type": "code",
   "execution_count": null,
   "id": "52893210",
   "metadata": {},
   "outputs": [],
   "source": [
    "#CMAE"
   ]
  },
  {
   "cell_type": "code",
   "execution_count": null,
   "id": "cb65e760",
   "metadata": {},
   "outputs": [],
   "source": [
    "true=pd.read_csv(\"../results/CMAE/CMAE_\" + train_id + \"_\" + test_id + \"_true.csv\",sep=\",\",index_col=0)\n",
    "pred=pd.read_csv(\"../results/CMAE/CMAE_\" + train_id + \"_\" + test_id + \"_pred.csv\",sep=\",\",index_col=0)"
   ]
  },
  {
   "cell_type": "code",
   "execution_count": null,
   "id": "c9c6d226",
   "metadata": {},
   "outputs": [],
   "source": [
    "##peak\n",
    "corr_pred = np.corrcoef(pred.T)\n",
    "corr_true = np.corrcoef(true.T)\n",
    "corr_pred=pd.DataFrame(corr_pred)\n",
    "corr_true=pd.DataFrame(corr_true)\n",
    "CMAE_cmd_peak=CMD_dist(corr_pred,corr_true)"
   ]
  },
  {
   "cell_type": "code",
   "execution_count": null,
   "id": "6c7a8794",
   "metadata": {},
   "outputs": [],
   "source": [
    "#cell\n",
    "corr_pred = np.corrcoef(pred)\n",
    "corr_true = np.corrcoef(true)\n",
    "corr_pred=pd.DataFrame(corr_pred)\n",
    "corr_true=pd.DataFrame(corr_true)\n",
    "CMAE_cmd_cell=CMD_dist(corr_pred,corr_true)"
   ]
  },
  {
   "cell_type": "code",
   "execution_count": null,
   "id": "076533f0",
   "metadata": {},
   "outputs": [],
   "source": [
    "##ScMoGCN"
   ]
  },
  {
   "cell_type": "code",
   "execution_count": null,
   "id": "32adda32",
   "metadata": {},
   "outputs": [],
   "source": [
    "true=pd.read_csv(\"../results/ScMoGCN/ScMoGCN_\" + train_id + \"_\" + test_id + \"_true.csv\",sep=\",\",index_col=0)\n",
    "pred=pd.read_csv(\"../results/ScMoGCN/ScMoGCN_\" + train_id + \"_\" + test_id + \"_pred.csv\",sep=\",\",index_col=0)"
   ]
  },
  {
   "cell_type": "code",
   "execution_count": null,
   "id": "63c6a233",
   "metadata": {},
   "outputs": [],
   "source": [
    "##peak\n",
    "corr_pred = np.corrcoef(pred.T)\n",
    "corr_true = np.corrcoef(true.T)\n",
    "corr_pred=pd.DataFrame(corr_pred)\n",
    "corr_true=pd.DataFrame(corr_true)\n",
    "DANCE_cmd_peak=CMD_dist(corr_pred,corr_true)"
   ]
  },
  {
   "cell_type": "code",
   "execution_count": null,
   "id": "e09bc9ac",
   "metadata": {},
   "outputs": [],
   "source": [
    "#cell\n",
    "corr_pred = np.corrcoef(pred)\n",
    "corr_true = np.corrcoef(true)\n",
    "corr_pred=pd.DataFrame(corr_pred)\n",
    "corr_true=pd.DataFrame(corr_true)\n",
    "DANCE_cmd_cell=CMD_dist(corr_pred,corr_true)"
   ]
  },
  {
   "cell_type": "code",
   "execution_count": null,
   "id": "55897e1f",
   "metadata": {},
   "outputs": [],
   "source": [
    "#KAUST"
   ]
  },
  {
   "cell_type": "code",
   "execution_count": null,
   "id": "b9256da8",
   "metadata": {},
   "outputs": [],
   "source": [
    "true=pd.read_csv(\"../results/LS_Lab/LS_Lab_\" + train_id + \"_\" + test_id + \"_true.csv\",sep=\",\",index_col=0)\n",
    "pred=pd.read_csv(\"../results/LS_Lab/LS_Lab_\" + train_id + \"_\" + test_id + \"_pred.csv\",sep=\",\",index_col=0)"
   ]
  },
  {
   "cell_type": "code",
   "execution_count": null,
   "id": "c68bff78",
   "metadata": {},
   "outputs": [],
   "source": [
    "##peak\n",
    "corr_pred = np.corrcoef(pred.T)\n",
    "corr_true = np.corrcoef(true.T)\n",
    "corr_pred=pd.DataFrame(corr_pred)\n",
    "corr_true=pd.DataFrame(corr_true)\n",
    "KAUST_cmd_peak=CMD_dist(corr_pred,corr_true)"
   ]
  },
  {
   "cell_type": "code",
   "execution_count": null,
   "id": "725cf971",
   "metadata": {},
   "outputs": [],
   "source": [
    "#cell\n",
    "corr_pred = np.corrcoef(pred)\n",
    "corr_true = np.corrcoef(true)\n",
    "corr_pred=pd.DataFrame(corr_pred)\n",
    "corr_true=pd.DataFrame(corr_true)\n",
    "KAUST_cmd_cell=CMD_dist(corr_pred,corr_true)"
   ]
  },
  {
   "cell_type": "code",
   "execution_count": null,
   "id": "bf1c34df",
   "metadata": {},
   "outputs": [],
   "source": [
    "#MVI"
   ]
  },
  {
   "cell_type": "code",
   "execution_count": 14,
   "id": "57b0686d",
   "metadata": {},
   "outputs": [],
   "source": [
    "true=pd.read_csv(\"../results/MultiVI/MultiVI_\" + train_id + \"_\" + test_id + \"_true.csv\",sep=\",\",index_col=0)\n",
    "pred=pd.read_csv(\"../results/MultiVI/MultiVI_\" + train_id + \"_\" + test_id + \"_pred.csv\",sep=\",\",index_col=0)"
   ]
  },
  {
   "cell_type": "code",
   "execution_count": 18,
   "id": "e77d82c6",
   "metadata": {},
   "outputs": [],
   "source": [
    "pred=pred.loc[(pred!=0).any(axis=1)]\n",
    "true=true.loc[(true!=0).any(axis=1)]\n",
    "overlap=true.index.intersection(pred.index)\n",
    "true=true.loc[overlap]\n",
    "pred=pred.loc[overlap]"
   ]
  },
  {
   "cell_type": "code",
   "execution_count": 21,
   "id": "f1263773",
   "metadata": {},
   "outputs": [],
   "source": [
    "##peak\n",
    "corr_pred = np.corrcoef(pred.T)\n",
    "corr_true = np.corrcoef(true.T)\n",
    "corr_pred=pd.DataFrame(corr_pred)\n",
    "corr_true=pd.DataFrame(corr_true)\n",
    "MultiVI_cmd_peak=CMD_dist(corr_pred,corr_true)"
   ]
  },
  {
   "cell_type": "code",
   "execution_count": 31,
   "id": "4bf1cd20",
   "metadata": {},
   "outputs": [],
   "source": [
    "#cell\n",
    "corr_pred = np.corrcoef(pred)\n",
    "corr_true = np.corrcoef(true)\n",
    "corr_pred=pd.DataFrame(corr_pred)\n",
    "corr_true=pd.DataFrame(corr_true)\n",
    "MultiVI_cmd_cell=CMD_dist(corr_pred,corr_true)"
   ]
  },
  {
   "cell_type": "code",
   "execution_count": 32,
   "id": "c643d0d1",
   "metadata": {},
   "outputs": [
    {
     "data": {
      "text/plain": [
       "0.5768072346039819"
      ]
     },
     "execution_count": 32,
     "metadata": {},
     "output_type": "execute_result"
    }
   ],
   "source": [
    "MultiVI_cmd_cell"
   ]
  },
  {
   "cell_type": "code",
   "execution_count": null,
   "id": "9e185fbe",
   "metadata": {},
   "outputs": [],
   "source": [
    "#BABEL"
   ]
  },
  {
   "cell_type": "code",
   "execution_count": null,
   "id": "a37a34aa",
   "metadata": {},
   "outputs": [],
   "source": [
    "true=pd.read_csv(\"../results/BABEL/BABEL_\" + train_id + \"_\" + test_id + \"_true.csv\",sep=\",\",index_col=0)\n",
    "pred=pd.read_csv(\"../results/BABEL/BABEL_\" + train_id + \"_\" + test_id + \"_pred.csv\",sep=\",\",index_col=0)"
   ]
  },
  {
   "cell_type": "code",
   "execution_count": null,
   "id": "a45dc50a",
   "metadata": {},
   "outputs": [],
   "source": [
    "pred=pred.loc[(pred!=0).any(axis=1)]\n",
    "true=true.loc[(true!=0).any(axis=1)]\n",
    "overlap=true.index.intersection(pred.index)\n",
    "true=true.loc[overlap]\n",
    "pred=pred.loc[overlap]"
   ]
  },
  {
   "cell_type": "code",
   "execution_count": null,
   "id": "dc10fcfa",
   "metadata": {},
   "outputs": [],
   "source": [
    "##peak\n",
    "corr_pred = np.corrcoef(pred.T)\n",
    "corr_true = np.corrcoef(true.T)\n",
    "corr_pred=pd.DataFrame(corr_pred)\n",
    "corr_true=pd.DataFrame(corr_true)\n",
    "BABEL_cmd_peak=CMD_dist(corr_pred,corr_true)"
   ]
  },
  {
   "cell_type": "code",
   "execution_count": null,
   "id": "6225ae9e",
   "metadata": {},
   "outputs": [],
   "source": [
    "#cell\n",
    "corr_pred = np.corrcoef(pred)\n",
    "corr_true = np.corrcoef(true)\n",
    "corr_pred=pd.DataFrame(corr_pred)\n",
    "corr_true=pd.DataFrame(corr_true)\n",
    "BABEL_cmd_cell=CMD_dist(corr_pred,corr_true)"
   ]
  },
  {
   "cell_type": "code",
   "execution_count": null,
   "id": "7f877635",
   "metadata": {},
   "outputs": [],
   "source": [
    "data_peak = [['LIGER',LIGER_cmd_peak],['Seuart',Seurat_cmd_peak],['CMAE',CMAE_cmd_peak],['BABEL',BABEL_cmd_peak],['DANCE',DANCE_cmd_peak],['KAUST',KAUST_cmd_peak],['MultiVI',MultiVI_cmd_peak]]\n",
    "data_cell = [['LIGER',LIGER_cmd_cell],['Seuart',Seurat_cmd_cell],['CMAE',CMAE_cmd_cell],['BABEL',BABEL_cmd_cell],['DANCE',DANCE_cmd_cell],['KAUST',KAUST_cmd_cell],['MultiVI',MultiVI_cmd_cell]]\n",
    "df_peak = pd.DataFrame(data_peak,columns=['methods','cmd'])\n",
    "df_cell = pd.DataFrame(data_cell,columns=['methods','cmd'])"
   ]
  },
  {
   "cell_type": "code",
   "execution_count": null,
   "id": "a31f724b",
   "metadata": {},
   "outputs": [],
   "source": [
    "df_peak.to_csv(\"../results/CMD/\" + train_id + \"_\" + test_id + \"_peak_cmd.csv\")\n",
    "df_cell.to_csv(\"../results/CMD/\" + train_id + \"_\" + test_id + \"_cell_cmd.csv\")"
   ]
  }
 ],
 "metadata": {
  "kernelspec": {
   "display_name": "base",
   "language": "python",
   "name": "base"
  },
  "language_info": {
   "codemirror_mode": {
    "name": "ipython",
    "version": 3
   },
   "file_extension": ".py",
   "mimetype": "text/x-python",
   "name": "python",
   "nbconvert_exporter": "python",
   "pygments_lexer": "ipython3",
   "version": "3.9.10"
  }
 },
 "nbformat": 4,
 "nbformat_minor": 5
}
