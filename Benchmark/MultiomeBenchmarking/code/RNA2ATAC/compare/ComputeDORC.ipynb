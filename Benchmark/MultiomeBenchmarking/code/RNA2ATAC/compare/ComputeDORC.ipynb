{
 "cells": [
  {
   "cell_type": "code",
   "execution_count": 371,
   "id": "e093dc82",
   "metadata": {},
   "outputs": [],
   "source": [
    "import pandas as pd\n",
    "import anndata as ad\n",
    "import numpy as np\n",
    "from scipy.sparse import csr_matrix, coo_matrix, csc_matrix\n",
    "from scipy.io import mmread, mmwrite\n",
    "import os\n",
    "import numpy as np\n",
    "from sklearn.metrics import roc_auc_score\n",
    "from sklearn.utils.multiclass import type_of_target"
   ]
  },
  {
   "cell_type": "code",
   "execution_count": 372,
   "id": "e3fa404c",
   "metadata": {},
   "outputs": [],
   "source": [
    "###Seurat"
   ]
  },
  {
   "cell_type": "code",
   "execution_count": 373,
   "id": "4fda7082",
   "metadata": {},
   "outputs": [],
   "source": [
    "##读取"
   ]
  },
  {
   "cell_type": "code",
   "execution_count": null,
   "id": "f56807ac",
   "metadata": {},
   "outputs": [],
   "source": [
    "train_id <- \"Dataset35\"\n",
    "test_id <- \"Dataset36\""
   ]
  },
  {
   "cell_type": "code",
   "execution_count": 521,
   "id": "0673fc0c",
   "metadata": {},
   "outputs": [],
   "source": [
    "DORC=pd.read_csv(\"../results/DORC/\"+ test_id \".csv\",index_col=0,sep=' ')"
   ]
  },
  {
   "cell_type": "code",
   "execution_count": 523,
   "id": "60ecf8ba",
   "metadata": {},
   "outputs": [],
   "source": [
    "true=pd.read_csv(\"../results/Seurat/Seurat_\" + train_id + \"_\" + test_id + \"_true.csv\",sep=\",\",index_col=0)\n",
    "pred=pd.read_csv(\"../results/Seurat/Seurat_\" + train_id + \"_\" + test_id + \"_pred.csv\",sep=\",\",index_col=0)"
   ]
  },
  {
   "cell_type": "code",
   "execution_count": 525,
   "id": "5be9711f",
   "metadata": {},
   "outputs": [],
   "source": [
    "pred=pred.sort_index()\n",
    "true=true.sort_index()\n",
    "pred=pred.T.sort_index()\n",
    "true=true.T.sort_index()"
   ]
  },
  {
   "cell_type": "code",
   "execution_count": 533,
   "id": "f608c87d",
   "metadata": {},
   "outputs": [],
   "source": [
    "# true=true.T\n",
    "pred=pred.T\n",
    "pred=pred.loc[true.index.values.flatten(),]"
   ]
  },
  {
   "cell_type": "code",
   "execution_count": 537,
   "id": "776f8ec9",
   "metadata": {},
   "outputs": [],
   "source": [
    "peaks,index_y =np.unique(DORC.peak,return_inverse=True)\n",
    "genes,index_x =np.unique(DORC.gene,return_inverse=True)\n",
    "DORC_gene= coo_matrix((np.ones(shape=(len(index_x),)),(index_x,index_y)))"
   ]
  },
  {
   "cell_type": "code",
   "execution_count": 538,
   "id": "2446962e",
   "metadata": {},
   "outputs": [],
   "source": [
    "DORC_gene.index=genes\n",
    "DORC_gene.columns=peaks"
   ]
  },
  {
   "cell_type": "code",
   "execution_count": 539,
   "id": "20ef1ec6",
   "metadata": {},
   "outputs": [],
   "source": [
    "#dorc转数据框\n",
    "DORC_gene_matrix=pd.DataFrame(DORC_gene.toarray(),index=DORC_gene.index,columns=DORC_gene.columns)"
   ]
  },
  {
   "cell_type": "code",
   "execution_count": 540,
   "id": "4c779ce9",
   "metadata": {},
   "outputs": [],
   "source": [
    "DORC_gene_matrix=DORC_gene_matrix[(DORC_gene_matrix.sum(axis=1)>5)]"
   ]
  },
  {
   "cell_type": "code",
   "execution_count": 541,
   "id": "373fe1ec",
   "metadata": {},
   "outputs": [
    {
     "data": {
      "text/html": [
       "<div>\n",
       "<style scoped>\n",
       "    .dataframe tbody tr th:only-of-type {\n",
       "        vertical-align: middle;\n",
       "    }\n",
       "\n",
       "    .dataframe tbody tr th {\n",
       "        vertical-align: top;\n",
       "    }\n",
       "\n",
       "    .dataframe thead th {\n",
       "        text-align: right;\n",
       "    }\n",
       "</style>\n",
       "<table border=\"1\" class=\"dataframe\">\n",
       "  <thead>\n",
       "    <tr style=\"text-align: right;\">\n",
       "      <th></th>\n",
       "      <th>chr1-100038644-100039418</th>\n",
       "      <th>chr1-1000558-1001151</th>\n",
       "      <th>chr1-10022422-10023370</th>\n",
       "      <th>chr1-10032403-10033291</th>\n",
       "      <th>chr1-100351075-100351920</th>\n",
       "      <th>chr1-100400115-100401032</th>\n",
       "      <th>chr1-100423659-100424535</th>\n",
       "      <th>chr1-100439878-100440768</th>\n",
       "      <th>chr1-100441357-100442289</th>\n",
       "      <th>chr1-100443760-100444664</th>\n",
       "      <th>...</th>\n",
       "      <th>chrX-79133628-79134549</th>\n",
       "      <th>chrX-79144122-79145005</th>\n",
       "      <th>chrX-79161413-79162332</th>\n",
       "      <th>chrX-79258820-79259745</th>\n",
       "      <th>chrX-79270101-79271043</th>\n",
       "      <th>chrX-79325001-79325941</th>\n",
       "      <th>chrX-79337122-79338031</th>\n",
       "      <th>chrX-79360959-79361907</th>\n",
       "      <th>chrX-79366750-79367634</th>\n",
       "      <th>chrX-79400362-79401306</th>\n",
       "    </tr>\n",
       "  </thead>\n",
       "  <tbody>\n",
       "    <tr>\n",
       "      <th>A2M</th>\n",
       "      <td>0.0</td>\n",
       "      <td>0.0</td>\n",
       "      <td>0.0</td>\n",
       "      <td>0.0</td>\n",
       "      <td>0.0</td>\n",
       "      <td>0.0</td>\n",
       "      <td>0.0</td>\n",
       "      <td>0.0</td>\n",
       "      <td>0.0</td>\n",
       "      <td>0.0</td>\n",
       "      <td>...</td>\n",
       "      <td>0.0</td>\n",
       "      <td>0.0</td>\n",
       "      <td>0.0</td>\n",
       "      <td>0.0</td>\n",
       "      <td>0.0</td>\n",
       "      <td>0.0</td>\n",
       "      <td>0.0</td>\n",
       "      <td>0.0</td>\n",
       "      <td>0.0</td>\n",
       "      <td>0.0</td>\n",
       "    </tr>\n",
       "    <tr>\n",
       "      <th>ABHD17A</th>\n",
       "      <td>0.0</td>\n",
       "      <td>0.0</td>\n",
       "      <td>0.0</td>\n",
       "      <td>0.0</td>\n",
       "      <td>0.0</td>\n",
       "      <td>0.0</td>\n",
       "      <td>0.0</td>\n",
       "      <td>0.0</td>\n",
       "      <td>0.0</td>\n",
       "      <td>0.0</td>\n",
       "      <td>...</td>\n",
       "      <td>0.0</td>\n",
       "      <td>0.0</td>\n",
       "      <td>0.0</td>\n",
       "      <td>0.0</td>\n",
       "      <td>0.0</td>\n",
       "      <td>0.0</td>\n",
       "      <td>0.0</td>\n",
       "      <td>0.0</td>\n",
       "      <td>0.0</td>\n",
       "      <td>0.0</td>\n",
       "    </tr>\n",
       "    <tr>\n",
       "      <th>ABLIM1</th>\n",
       "      <td>0.0</td>\n",
       "      <td>0.0</td>\n",
       "      <td>0.0</td>\n",
       "      <td>0.0</td>\n",
       "      <td>0.0</td>\n",
       "      <td>0.0</td>\n",
       "      <td>0.0</td>\n",
       "      <td>0.0</td>\n",
       "      <td>0.0</td>\n",
       "      <td>0.0</td>\n",
       "      <td>...</td>\n",
       "      <td>0.0</td>\n",
       "      <td>0.0</td>\n",
       "      <td>0.0</td>\n",
       "      <td>0.0</td>\n",
       "      <td>0.0</td>\n",
       "      <td>0.0</td>\n",
       "      <td>0.0</td>\n",
       "      <td>0.0</td>\n",
       "      <td>0.0</td>\n",
       "      <td>0.0</td>\n",
       "    </tr>\n",
       "    <tr>\n",
       "      <th>ABR</th>\n",
       "      <td>0.0</td>\n",
       "      <td>0.0</td>\n",
       "      <td>0.0</td>\n",
       "      <td>0.0</td>\n",
       "      <td>0.0</td>\n",
       "      <td>0.0</td>\n",
       "      <td>0.0</td>\n",
       "      <td>0.0</td>\n",
       "      <td>0.0</td>\n",
       "      <td>0.0</td>\n",
       "      <td>...</td>\n",
       "      <td>0.0</td>\n",
       "      <td>0.0</td>\n",
       "      <td>0.0</td>\n",
       "      <td>0.0</td>\n",
       "      <td>0.0</td>\n",
       "      <td>0.0</td>\n",
       "      <td>0.0</td>\n",
       "      <td>0.0</td>\n",
       "      <td>0.0</td>\n",
       "      <td>0.0</td>\n",
       "    </tr>\n",
       "    <tr>\n",
       "      <th>ABTB2</th>\n",
       "      <td>0.0</td>\n",
       "      <td>0.0</td>\n",
       "      <td>0.0</td>\n",
       "      <td>0.0</td>\n",
       "      <td>0.0</td>\n",
       "      <td>0.0</td>\n",
       "      <td>0.0</td>\n",
       "      <td>0.0</td>\n",
       "      <td>0.0</td>\n",
       "      <td>0.0</td>\n",
       "      <td>...</td>\n",
       "      <td>0.0</td>\n",
       "      <td>0.0</td>\n",
       "      <td>0.0</td>\n",
       "      <td>0.0</td>\n",
       "      <td>0.0</td>\n",
       "      <td>0.0</td>\n",
       "      <td>0.0</td>\n",
       "      <td>0.0</td>\n",
       "      <td>0.0</td>\n",
       "      <td>0.0</td>\n",
       "    </tr>\n",
       "    <tr>\n",
       "      <th>...</th>\n",
       "      <td>...</td>\n",
       "      <td>...</td>\n",
       "      <td>...</td>\n",
       "      <td>...</td>\n",
       "      <td>...</td>\n",
       "      <td>...</td>\n",
       "      <td>...</td>\n",
       "      <td>...</td>\n",
       "      <td>...</td>\n",
       "      <td>...</td>\n",
       "      <td>...</td>\n",
       "      <td>...</td>\n",
       "      <td>...</td>\n",
       "      <td>...</td>\n",
       "      <td>...</td>\n",
       "      <td>...</td>\n",
       "      <td>...</td>\n",
       "      <td>...</td>\n",
       "      <td>...</td>\n",
       "      <td>...</td>\n",
       "      <td>...</td>\n",
       "    </tr>\n",
       "    <tr>\n",
       "      <th>ZNF608</th>\n",
       "      <td>0.0</td>\n",
       "      <td>0.0</td>\n",
       "      <td>0.0</td>\n",
       "      <td>0.0</td>\n",
       "      <td>0.0</td>\n",
       "      <td>0.0</td>\n",
       "      <td>0.0</td>\n",
       "      <td>0.0</td>\n",
       "      <td>0.0</td>\n",
       "      <td>0.0</td>\n",
       "      <td>...</td>\n",
       "      <td>0.0</td>\n",
       "      <td>0.0</td>\n",
       "      <td>0.0</td>\n",
       "      <td>0.0</td>\n",
       "      <td>0.0</td>\n",
       "      <td>0.0</td>\n",
       "      <td>0.0</td>\n",
       "      <td>0.0</td>\n",
       "      <td>0.0</td>\n",
       "      <td>0.0</td>\n",
       "    </tr>\n",
       "    <tr>\n",
       "      <th>ZNF703</th>\n",
       "      <td>0.0</td>\n",
       "      <td>0.0</td>\n",
       "      <td>0.0</td>\n",
       "      <td>0.0</td>\n",
       "      <td>0.0</td>\n",
       "      <td>0.0</td>\n",
       "      <td>0.0</td>\n",
       "      <td>0.0</td>\n",
       "      <td>0.0</td>\n",
       "      <td>0.0</td>\n",
       "      <td>...</td>\n",
       "      <td>0.0</td>\n",
       "      <td>0.0</td>\n",
       "      <td>0.0</td>\n",
       "      <td>0.0</td>\n",
       "      <td>0.0</td>\n",
       "      <td>0.0</td>\n",
       "      <td>0.0</td>\n",
       "      <td>0.0</td>\n",
       "      <td>0.0</td>\n",
       "      <td>0.0</td>\n",
       "    </tr>\n",
       "    <tr>\n",
       "      <th>ZNF710</th>\n",
       "      <td>0.0</td>\n",
       "      <td>0.0</td>\n",
       "      <td>0.0</td>\n",
       "      <td>0.0</td>\n",
       "      <td>0.0</td>\n",
       "      <td>0.0</td>\n",
       "      <td>0.0</td>\n",
       "      <td>0.0</td>\n",
       "      <td>0.0</td>\n",
       "      <td>0.0</td>\n",
       "      <td>...</td>\n",
       "      <td>0.0</td>\n",
       "      <td>0.0</td>\n",
       "      <td>0.0</td>\n",
       "      <td>0.0</td>\n",
       "      <td>0.0</td>\n",
       "      <td>0.0</td>\n",
       "      <td>0.0</td>\n",
       "      <td>0.0</td>\n",
       "      <td>0.0</td>\n",
       "      <td>0.0</td>\n",
       "    </tr>\n",
       "    <tr>\n",
       "      <th>ZNF831</th>\n",
       "      <td>0.0</td>\n",
       "      <td>0.0</td>\n",
       "      <td>0.0</td>\n",
       "      <td>0.0</td>\n",
       "      <td>0.0</td>\n",
       "      <td>0.0</td>\n",
       "      <td>0.0</td>\n",
       "      <td>0.0</td>\n",
       "      <td>0.0</td>\n",
       "      <td>0.0</td>\n",
       "      <td>...</td>\n",
       "      <td>0.0</td>\n",
       "      <td>0.0</td>\n",
       "      <td>0.0</td>\n",
       "      <td>0.0</td>\n",
       "      <td>0.0</td>\n",
       "      <td>0.0</td>\n",
       "      <td>0.0</td>\n",
       "      <td>0.0</td>\n",
       "      <td>0.0</td>\n",
       "      <td>0.0</td>\n",
       "    </tr>\n",
       "    <tr>\n",
       "      <th>ZNF860</th>\n",
       "      <td>0.0</td>\n",
       "      <td>0.0</td>\n",
       "      <td>0.0</td>\n",
       "      <td>0.0</td>\n",
       "      <td>0.0</td>\n",
       "      <td>0.0</td>\n",
       "      <td>0.0</td>\n",
       "      <td>0.0</td>\n",
       "      <td>0.0</td>\n",
       "      <td>0.0</td>\n",
       "      <td>...</td>\n",
       "      <td>0.0</td>\n",
       "      <td>0.0</td>\n",
       "      <td>0.0</td>\n",
       "      <td>0.0</td>\n",
       "      <td>0.0</td>\n",
       "      <td>0.0</td>\n",
       "      <td>0.0</td>\n",
       "      <td>0.0</td>\n",
       "      <td>0.0</td>\n",
       "      <td>0.0</td>\n",
       "    </tr>\n",
       "  </tbody>\n",
       "</table>\n",
       "<p>902 rows × 10703 columns</p>\n",
       "</div>"
      ],
      "text/plain": [
       "         chr1-100038644-100039418  chr1-1000558-1001151  \\\n",
       "A2M                           0.0                   0.0   \n",
       "ABHD17A                       0.0                   0.0   \n",
       "ABLIM1                        0.0                   0.0   \n",
       "ABR                           0.0                   0.0   \n",
       "ABTB2                         0.0                   0.0   \n",
       "...                           ...                   ...   \n",
       "ZNF608                        0.0                   0.0   \n",
       "ZNF703                        0.0                   0.0   \n",
       "ZNF710                        0.0                   0.0   \n",
       "ZNF831                        0.0                   0.0   \n",
       "ZNF860                        0.0                   0.0   \n",
       "\n",
       "         chr1-10022422-10023370  chr1-10032403-10033291  \\\n",
       "A2M                         0.0                     0.0   \n",
       "ABHD17A                     0.0                     0.0   \n",
       "ABLIM1                      0.0                     0.0   \n",
       "ABR                         0.0                     0.0   \n",
       "ABTB2                       0.0                     0.0   \n",
       "...                         ...                     ...   \n",
       "ZNF608                      0.0                     0.0   \n",
       "ZNF703                      0.0                     0.0   \n",
       "ZNF710                      0.0                     0.0   \n",
       "ZNF831                      0.0                     0.0   \n",
       "ZNF860                      0.0                     0.0   \n",
       "\n",
       "         chr1-100351075-100351920  chr1-100400115-100401032  \\\n",
       "A2M                           0.0                       0.0   \n",
       "ABHD17A                       0.0                       0.0   \n",
       "ABLIM1                        0.0                       0.0   \n",
       "ABR                           0.0                       0.0   \n",
       "ABTB2                         0.0                       0.0   \n",
       "...                           ...                       ...   \n",
       "ZNF608                        0.0                       0.0   \n",
       "ZNF703                        0.0                       0.0   \n",
       "ZNF710                        0.0                       0.0   \n",
       "ZNF831                        0.0                       0.0   \n",
       "ZNF860                        0.0                       0.0   \n",
       "\n",
       "         chr1-100423659-100424535  chr1-100439878-100440768  \\\n",
       "A2M                           0.0                       0.0   \n",
       "ABHD17A                       0.0                       0.0   \n",
       "ABLIM1                        0.0                       0.0   \n",
       "ABR                           0.0                       0.0   \n",
       "ABTB2                         0.0                       0.0   \n",
       "...                           ...                       ...   \n",
       "ZNF608                        0.0                       0.0   \n",
       "ZNF703                        0.0                       0.0   \n",
       "ZNF710                        0.0                       0.0   \n",
       "ZNF831                        0.0                       0.0   \n",
       "ZNF860                        0.0                       0.0   \n",
       "\n",
       "         chr1-100441357-100442289  chr1-100443760-100444664  ...  \\\n",
       "A2M                           0.0                       0.0  ...   \n",
       "ABHD17A                       0.0                       0.0  ...   \n",
       "ABLIM1                        0.0                       0.0  ...   \n",
       "ABR                           0.0                       0.0  ...   \n",
       "ABTB2                         0.0                       0.0  ...   \n",
       "...                           ...                       ...  ...   \n",
       "ZNF608                        0.0                       0.0  ...   \n",
       "ZNF703                        0.0                       0.0  ...   \n",
       "ZNF710                        0.0                       0.0  ...   \n",
       "ZNF831                        0.0                       0.0  ...   \n",
       "ZNF860                        0.0                       0.0  ...   \n",
       "\n",
       "         chrX-79133628-79134549  chrX-79144122-79145005  \\\n",
       "A2M                         0.0                     0.0   \n",
       "ABHD17A                     0.0                     0.0   \n",
       "ABLIM1                      0.0                     0.0   \n",
       "ABR                         0.0                     0.0   \n",
       "ABTB2                       0.0                     0.0   \n",
       "...                         ...                     ...   \n",
       "ZNF608                      0.0                     0.0   \n",
       "ZNF703                      0.0                     0.0   \n",
       "ZNF710                      0.0                     0.0   \n",
       "ZNF831                      0.0                     0.0   \n",
       "ZNF860                      0.0                     0.0   \n",
       "\n",
       "         chrX-79161413-79162332  chrX-79258820-79259745  \\\n",
       "A2M                         0.0                     0.0   \n",
       "ABHD17A                     0.0                     0.0   \n",
       "ABLIM1                      0.0                     0.0   \n",
       "ABR                         0.0                     0.0   \n",
       "ABTB2                       0.0                     0.0   \n",
       "...                         ...                     ...   \n",
       "ZNF608                      0.0                     0.0   \n",
       "ZNF703                      0.0                     0.0   \n",
       "ZNF710                      0.0                     0.0   \n",
       "ZNF831                      0.0                     0.0   \n",
       "ZNF860                      0.0                     0.0   \n",
       "\n",
       "         chrX-79270101-79271043  chrX-79325001-79325941  \\\n",
       "A2M                         0.0                     0.0   \n",
       "ABHD17A                     0.0                     0.0   \n",
       "ABLIM1                      0.0                     0.0   \n",
       "ABR                         0.0                     0.0   \n",
       "ABTB2                       0.0                     0.0   \n",
       "...                         ...                     ...   \n",
       "ZNF608                      0.0                     0.0   \n",
       "ZNF703                      0.0                     0.0   \n",
       "ZNF710                      0.0                     0.0   \n",
       "ZNF831                      0.0                     0.0   \n",
       "ZNF860                      0.0                     0.0   \n",
       "\n",
       "         chrX-79337122-79338031  chrX-79360959-79361907  \\\n",
       "A2M                         0.0                     0.0   \n",
       "ABHD17A                     0.0                     0.0   \n",
       "ABLIM1                      0.0                     0.0   \n",
       "ABR                         0.0                     0.0   \n",
       "ABTB2                       0.0                     0.0   \n",
       "...                         ...                     ...   \n",
       "ZNF608                      0.0                     0.0   \n",
       "ZNF703                      0.0                     0.0   \n",
       "ZNF710                      0.0                     0.0   \n",
       "ZNF831                      0.0                     0.0   \n",
       "ZNF860                      0.0                     0.0   \n",
       "\n",
       "         chrX-79366750-79367634  chrX-79400362-79401306  \n",
       "A2M                         0.0                     0.0  \n",
       "ABHD17A                     0.0                     0.0  \n",
       "ABLIM1                      0.0                     0.0  \n",
       "ABR                         0.0                     0.0  \n",
       "ABTB2                       0.0                     0.0  \n",
       "...                         ...                     ...  \n",
       "ZNF608                      0.0                     0.0  \n",
       "ZNF703                      0.0                     0.0  \n",
       "ZNF710                      0.0                     0.0  \n",
       "ZNF831                      0.0                     0.0  \n",
       "ZNF860                      0.0                     0.0  \n",
       "\n",
       "[902 rows x 10703 columns]"
      ]
     },
     "execution_count": 541,
     "metadata": {},
     "output_type": "execute_result"
    }
   ],
   "source": [
    "DORC_gene_matrix"
   ]
  },
  {
   "cell_type": "code",
   "execution_count": 542,
   "id": "d760f988",
   "metadata": {},
   "outputs": [],
   "source": [
    "true_1 = true.loc[DORC_gene_matrix.columns.values.flatten(),]"
   ]
  },
  {
   "cell_type": "code",
   "execution_count": 543,
   "id": "124b8626",
   "metadata": {},
   "outputs": [],
   "source": [
    "pred_1 = pred.loc[DORC_gene_matrix.columns.values.flatten(),]"
   ]
  },
  {
   "cell_type": "code",
   "execution_count": 544,
   "id": "45d884ea",
   "metadata": {},
   "outputs": [],
   "source": [
    "#得到gene cell矩阵 \n",
    "true_matrix=DORC_gene_matrix.dot(true_1)"
   ]
  },
  {
   "cell_type": "code",
   "execution_count": 545,
   "id": "ef13c886",
   "metadata": {},
   "outputs": [],
   "source": [
    "pred_matrix=DORC_gene_matrix.dot(pred_1)"
   ]
  },
  {
   "cell_type": "code",
   "execution_count": 546,
   "id": "90edaff6",
   "metadata": {},
   "outputs": [],
   "source": [
    "pccs_row=[]\n",
    "for i in range(0,true_matrix.shape[0]):\n",
    "    corr = np.corrcoef(true_matrix.iloc[i], pred_matrix.iloc[i])[0,1]\n",
    "    pccs_row.append(corr)"
   ]
  },
  {
   "cell_type": "code",
   "execution_count": 547,
   "id": "2608f2ef",
   "metadata": {},
   "outputs": [],
   "source": [
    "pccs_col=[]\n",
    "for i in range(0,true_matrix.shape[1]):\n",
    "    corr = np.corrcoef(true_matrix.iloc[:,i], pred_matrix.iloc[:,i])[0,1]\n",
    "    pccs_col.append(corr)"
   ]
  },
  {
   "cell_type": "code",
   "execution_count": 548,
   "id": "76d1a0b9",
   "metadata": {},
   "outputs": [
    {
     "data": {
      "text/plain": [
       "0.29216965682741775"
      ]
     },
     "execution_count": 548,
     "metadata": {},
     "output_type": "execute_result"
    }
   ],
   "source": [
    "pccs_row_df=pd.DataFrame(data=pccs_row)\n",
    "np.median(pccs_row_df)"
   ]
  },
  {
   "cell_type": "code",
   "execution_count": 549,
   "id": "ce9e0b53",
   "metadata": {},
   "outputs": [
    {
     "data": {
      "text/plain": [
       "0.5066349016370346"
      ]
     },
     "execution_count": 549,
     "metadata": {},
     "output_type": "execute_result"
    }
   ],
   "source": [
    "pccs_col_df=pd.DataFrame(data=pccs_col)\n",
    "np.nanmedian(pccs_col_df)"
   ]
  },
  {
   "cell_type": "code",
   "execution_count": 550,
   "id": "e2453fc9",
   "metadata": {},
   "outputs": [],
   "source": [
    "pccs_row_df.to_csv(\"../results/DORC/Seurat_\" + train_id + \"_\" + test_id + \"_dorc_pcc.csv\")\n",
    "pccs_col_df.to_csv(\"../results/DORC/Seurat_\" + train_id + \"_\" + test_id + \"_cell_pcc.csv\")"
   ]
  },
  {
   "cell_type": "code",
   "execution_count": 551,
   "id": "8497a6b2",
   "metadata": {},
   "outputs": [],
   "source": [
    "def CMD_dist(A, B):\n",
    "    x = np.trace(A.dot(B))\n",
    "    y = np.linalg.norm(A,'fro')*np.linalg.norm(B,'fro')\n",
    "    return 1- x/(y+1e-8)"
   ]
  },
  {
   "cell_type": "code",
   "execution_count": 552,
   "id": "38818e16",
   "metadata": {},
   "outputs": [],
   "source": [
    "corr_pred = np.corrcoef(pred_matrix)\n",
    "corr_true = np.corrcoef(true_matrix)\n",
    "corr_pred=pd.DataFrame(corr_pred)\n",
    "corr_true=pd.DataFrame(corr_true)\n",
    "Seurat_cmd_dorc=CMD_dist(corr_pred,corr_true)"
   ]
  },
  {
   "cell_type": "code",
   "execution_count": 553,
   "id": "6da14897",
   "metadata": {},
   "outputs": [],
   "source": [
    "corr_pred = np.corrcoef(pred_matrix.T)\n",
    "corr_true = np.corrcoef(true_matrix.T)\n",
    "corr_pred=pd.DataFrame(corr_pred)\n",
    "corr_true=pd.DataFrame(corr_true)\n",
    "Seurat_cmd_cell=CMD_dist(corr_pred,corr_true)"
   ]
  },
  {
   "cell_type": "code",
   "execution_count": 554,
   "id": "fcc8e57b",
   "metadata": {},
   "outputs": [
    {
     "data": {
      "text/plain": [
       "0.04557614442637703"
      ]
     },
     "execution_count": 554,
     "metadata": {},
     "output_type": "execute_result"
    }
   ],
   "source": [
    "Seurat_cmd_dorc"
   ]
  },
  {
   "cell_type": "code",
   "execution_count": 555,
   "id": "1e1a0513",
   "metadata": {},
   "outputs": [
    {
     "data": {
      "text/plain": [
       "0.06322720323626996"
      ]
     },
     "execution_count": 555,
     "metadata": {},
     "output_type": "execute_result"
    }
   ],
   "source": [
    "Seurat_cmd_cell"
   ]
  },
  {
   "cell_type": "code",
   "execution_count": 556,
   "id": "ab3899bb",
   "metadata": {},
   "outputs": [],
   "source": [
    "##LIGER"
   ]
  },
  {
   "cell_type": "code",
   "execution_count": 557,
   "id": "2f0fc748",
   "metadata": {},
   "outputs": [],
   "source": [
    "true=pd.read_csv(\"../results/LIGER/LIGER_\" + train_id + \"_\" + test_id + \"_true.csv\",sep=\",\",index_col=0)\n",
    "pred=pd.read_csv(\"../results/LIGER/LIGER_\" + train_id + \"_\" + test_id + \"_pred.csv\",sep=\",\",index_col=0)\n",
    "true=true.T\n",
    "pred=pred.sort_index()\n",
    "true=true.sort_index()\n",
    "pred=pred.T.sort_index()\n",
    "true=true.T.sort_index()\n",
    "true=true.loc[pred.index]\n",
    "pred=pred.loc[:,true.columns]\n",
    "pred=pred.T.sort_index()\n",
    "true=true.T.sort_index()"
   ]
  },
  {
   "cell_type": "code",
   "execution_count": 559,
   "id": "9be292d6",
   "metadata": {},
   "outputs": [],
   "source": [
    "# pred=pred.T"
   ]
  },
  {
   "cell_type": "code",
   "execution_count": 560,
   "id": "842f1c67",
   "metadata": {},
   "outputs": [],
   "source": [
    "true=true.loc[pred.index]\n",
    "pred=pred.loc[:,true.columns]"
   ]
  },
  {
   "cell_type": "code",
   "execution_count": 561,
   "id": "66f06d2f",
   "metadata": {},
   "outputs": [],
   "source": [
    "true_1 = true.loc[DORC_gene_matrix.columns.values.flatten(),]"
   ]
  },
  {
   "cell_type": "code",
   "execution_count": 562,
   "id": "5839e03b",
   "metadata": {},
   "outputs": [],
   "source": [
    "pred_1 = pred.loc[DORC_gene_matrix.columns.values.flatten(),]"
   ]
  },
  {
   "cell_type": "code",
   "execution_count": 563,
   "id": "a1a03420",
   "metadata": {},
   "outputs": [],
   "source": [
    "#得到gene cell矩阵 \n",
    "true_matrix=DORC_gene_matrix.dot(true_1)"
   ]
  },
  {
   "cell_type": "code",
   "execution_count": 564,
   "id": "ff86dd87",
   "metadata": {},
   "outputs": [],
   "source": [
    "pred_matrix=DORC_gene_matrix.dot(pred_1)"
   ]
  },
  {
   "cell_type": "code",
   "execution_count": 565,
   "id": "1cb27454",
   "metadata": {},
   "outputs": [],
   "source": [
    "pccs_row=[]\n",
    "for i in range(0,true_matrix.shape[0]):\n",
    "    corr = np.corrcoef(true_matrix.iloc[i], pred_matrix.iloc[i])[0,1]\n",
    "    pccs_row.append(corr)"
   ]
  },
  {
   "cell_type": "code",
   "execution_count": 566,
   "id": "5242746d",
   "metadata": {},
   "outputs": [],
   "source": [
    "pccs_col=[]\n",
    "for i in range(0,true_matrix.shape[1]):\n",
    "    corr = np.corrcoef(true_matrix.iloc[:,i], pred_matrix.iloc[:,i])[0,1]\n",
    "    pccs_col.append(corr)"
   ]
  },
  {
   "cell_type": "code",
   "execution_count": 567,
   "id": "2db31264",
   "metadata": {},
   "outputs": [
    {
     "data": {
      "text/plain": [
       "0.3936195296152186"
      ]
     },
     "execution_count": 567,
     "metadata": {},
     "output_type": "execute_result"
    }
   ],
   "source": [
    "pccs_row_df=pd.DataFrame(data=pccs_row)\n",
    "np.median(pccs_row_df)"
   ]
  },
  {
   "cell_type": "code",
   "execution_count": 568,
   "id": "ef40bf83",
   "metadata": {},
   "outputs": [
    {
     "data": {
      "text/plain": [
       "0.5938711696190208"
      ]
     },
     "execution_count": 568,
     "metadata": {},
     "output_type": "execute_result"
    }
   ],
   "source": [
    "pccs_col_df=pd.DataFrame(data=pccs_col)\n",
    "np.nanmedian(pccs_col_df)"
   ]
  },
  {
   "cell_type": "code",
   "execution_count": 569,
   "id": "d2b6a0c2",
   "metadata": {},
   "outputs": [],
   "source": [
    "pccs_row_df.to_csv(\"../results/DORC/LIGER_\" + train_id + \"_\" + test_id + \"_dorc_pcc.csv\")\n",
    "pccs_col_df.to_csv(\"../results/DORC/LIGER_\" + train_id + \"_\" + test_id + \"_cell_pcc.csv\")"
   ]
  },
  {
   "cell_type": "code",
   "execution_count": 570,
   "id": "92a23088",
   "metadata": {},
   "outputs": [],
   "source": [
    "def CMD_dist(A, B):\n",
    "    x = np.trace(A.dot(B))\n",
    "    y = np.linalg.norm(A,'fro')*np.linalg.norm(B,'fro')\n",
    "    return 1- x/(y+1e-8)"
   ]
  },
  {
   "cell_type": "code",
   "execution_count": 571,
   "id": "72c6a4f2",
   "metadata": {},
   "outputs": [],
   "source": [
    "corr_pred = np.corrcoef(pred_matrix)\n",
    "corr_true = np.corrcoef(true_matrix)\n",
    "corr_pred=pd.DataFrame(corr_pred)\n",
    "corr_true=pd.DataFrame(corr_true)\n",
    "LIGER_cmd_dorc=CMD_dist(corr_pred,corr_true)"
   ]
  },
  {
   "cell_type": "code",
   "execution_count": 572,
   "id": "11fd6931",
   "metadata": {},
   "outputs": [],
   "source": [
    "corr_pred = np.corrcoef(pred_matrix.T)\n",
    "corr_true = np.corrcoef(true_matrix.T)\n",
    "corr_pred=pd.DataFrame(corr_pred)\n",
    "corr_true=pd.DataFrame(corr_true)\n",
    "LIGER_cmd_cell=CMD_dist(corr_pred,corr_true)"
   ]
  },
  {
   "cell_type": "code",
   "execution_count": 573,
   "id": "3625a2fd",
   "metadata": {},
   "outputs": [
    {
     "data": {
      "text/plain": [
       "0.19214626650532107"
      ]
     },
     "execution_count": 573,
     "metadata": {},
     "output_type": "execute_result"
    }
   ],
   "source": [
    "LIGER_cmd_dorc"
   ]
  },
  {
   "cell_type": "code",
   "execution_count": 574,
   "id": "dde4d5aa",
   "metadata": {},
   "outputs": [
    {
     "data": {
      "text/plain": [
       "0.06006700026160883"
      ]
     },
     "execution_count": 574,
     "metadata": {},
     "output_type": "execute_result"
    }
   ],
   "source": [
    "LIGER_cmd_cell"
   ]
  },
  {
   "cell_type": "code",
   "execution_count": 575,
   "id": "bd692218",
   "metadata": {},
   "outputs": [],
   "source": [
    "# CMAE\n",
    "true=pd.read_csv(\"../results/CMAE/CMAE_\" + train_id + \"_\" + test_id + \"_true.csv\",sep=\",\",index_col=0)\n",
    "pred=pd.read_csv(\"../results/CMAE/CMAE_\" + train_id + \"_\" + test_id + \"_pred.csv\",sep=\",\",index_col=0)true=true.T\n",
    "pred.index=true.index\n",
    "pred.columns=true.columns\n",
    "pred=pred.sort_index()\n",
    "true=true.sort_index()\n",
    "pred=pred.T.sort_index()\n",
    "true=true.T.sort_index()\n",
    "pred=pred.T.sort_index()\n",
    "true=true.T.sort_index()"
   ]
  },
  {
   "cell_type": "code",
   "execution_count": 577,
   "id": "c9054647",
   "metadata": {},
   "outputs": [],
   "source": [
    "true_1 = true.loc[DORC_gene_matrix.columns.values.flatten(),]"
   ]
  },
  {
   "cell_type": "code",
   "execution_count": 578,
   "id": "040416ad",
   "metadata": {},
   "outputs": [],
   "source": [
    "pred_1 = pred.loc[DORC_gene_matrix.columns.values.flatten(),]"
   ]
  },
  {
   "cell_type": "code",
   "execution_count": 579,
   "id": "033b3b8b",
   "metadata": {},
   "outputs": [],
   "source": [
    "#得到gene cell矩阵 \n",
    "true_matrix=DORC_gene_matrix.dot(true_1)"
   ]
  },
  {
   "cell_type": "code",
   "execution_count": 580,
   "id": "0355d490",
   "metadata": {},
   "outputs": [],
   "source": [
    "pred_matrix=DORC_gene_matrix.dot(pred_1)"
   ]
  },
  {
   "cell_type": "code",
   "execution_count": 581,
   "id": "316fb7cb",
   "metadata": {},
   "outputs": [],
   "source": [
    "pccs_row=[]\n",
    "for i in range(0,true_matrix.shape[0]):\n",
    "    corr = np.corrcoef(true_matrix.iloc[i], pred_matrix.iloc[i])[0,1]\n",
    "    pccs_row.append(corr)"
   ]
  },
  {
   "cell_type": "code",
   "execution_count": 582,
   "id": "7bd5926c",
   "metadata": {},
   "outputs": [],
   "source": [
    "pccs_col=[]\n",
    "for i in range(0,true_matrix.shape[1]):\n",
    "    corr = np.corrcoef(true_matrix.iloc[:,i], pred_matrix.iloc[:,i])[0,1]\n",
    "    pccs_col.append(corr)"
   ]
  },
  {
   "cell_type": "code",
   "execution_count": 583,
   "id": "e3be329b",
   "metadata": {},
   "outputs": [
    {
     "data": {
      "text/plain": [
       "-0.008000488604740173"
      ]
     },
     "execution_count": 583,
     "metadata": {},
     "output_type": "execute_result"
    }
   ],
   "source": [
    "pccs_row_df=pd.DataFrame(data=pccs_row)\n",
    "np.median(pccs_row_df)"
   ]
  },
  {
   "cell_type": "code",
   "execution_count": 584,
   "id": "e3e0f2ca",
   "metadata": {},
   "outputs": [
    {
     "data": {
      "text/plain": [
       "0.24922789252022054"
      ]
     },
     "execution_count": 584,
     "metadata": {},
     "output_type": "execute_result"
    }
   ],
   "source": [
    "pccs_col_df=pd.DataFrame(data=pccs_col)\n",
    "np.nanmedian(pccs_col_df)"
   ]
  },
  {
   "cell_type": "code",
   "execution_count": 585,
   "id": "7acef74f",
   "metadata": {},
   "outputs": [],
   "source": [
    "pccs_row_df.to_csv(\"../results/DORC/CMAE_\" + train_id + \"_\" + test_id + \"_dorc_pcc.csv\")\n",
    "pccs_col_df.to_csv(\"../results/DORC/CMAE_\" + train_id + \"_\" + test_id + \"_cell_pcc.csv\")"
   ]
  },
  {
   "cell_type": "code",
   "execution_count": 586,
   "id": "59abb3b3",
   "metadata": {},
   "outputs": [],
   "source": [
    "def CMD_dist(A, B):\n",
    "    x = np.trace(A.dot(B))\n",
    "    y = np.linalg.norm(A,'fro')*np.linalg.norm(B,'fro')\n",
    "    return 1- x/(y+1e-8)"
   ]
  },
  {
   "cell_type": "code",
   "execution_count": 587,
   "id": "a1b1cc6e",
   "metadata": {},
   "outputs": [],
   "source": [
    "corr_pred = np.corrcoef(pred_matrix)\n",
    "corr_true = np.corrcoef(true_matrix)\n",
    "corr_pred=pd.DataFrame(corr_pred)\n",
    "corr_true=pd.DataFrame(corr_true)\n",
    "CMAE_cmd_dorc=CMD_dist(corr_pred,corr_true)"
   ]
  },
  {
   "cell_type": "code",
   "execution_count": 588,
   "id": "cfcd7f1c",
   "metadata": {},
   "outputs": [],
   "source": [
    "corr_pred = np.corrcoef(pred_matrix.T)\n",
    "corr_true = np.corrcoef(true_matrix.T)\n",
    "corr_pred=pd.DataFrame(corr_pred)\n",
    "corr_true=pd.DataFrame(corr_true)\n",
    "CMAE_cmd_cell=CMD_dist(corr_pred,corr_true)"
   ]
  },
  {
   "cell_type": "code",
   "execution_count": 589,
   "id": "9fd24597",
   "metadata": {},
   "outputs": [
    {
     "data": {
      "text/plain": [
       "0.5749763532679146"
      ]
     },
     "execution_count": 589,
     "metadata": {},
     "output_type": "execute_result"
    }
   ],
   "source": [
    "CMAE_cmd_dorc"
   ]
  },
  {
   "cell_type": "code",
   "execution_count": 590,
   "id": "24450ca0",
   "metadata": {},
   "outputs": [
    {
     "data": {
      "text/plain": [
       "0.22210802881072844"
      ]
     },
     "execution_count": 590,
     "metadata": {},
     "output_type": "execute_result"
    }
   ],
   "source": [
    "CMAE_cmd_cell"
   ]
  },
  {
   "cell_type": "code",
   "execution_count": 591,
   "id": "dcd8516d",
   "metadata": {},
   "outputs": [],
   "source": [
    "#DANCE\n",
    "true=pd.read_csv(\"../results/ScMoGCN/ScMoGCN_\" + train_id + \"_\" + test_id + \"_true.csv\",sep=\",\",index_col=0)\n",
    "pred=pd.read_csv(\"../results/ScMoGCN/ScMoGCN_\" + train_id + \"_\" + test_id + \"_pred.csv\",sep=\",\",index_col=0)pred=pred.T\n",
    "pred.index=true.index\n",
    "pred.columns=true.columns\n",
    "pred=pred.sort_index()\n",
    "true=true.sort_index()\n",
    "pred=pred.T.sort_index()\n",
    "true=true.T.sort_index()"
   ]
  },
  {
   "cell_type": "code",
   "execution_count": 595,
   "id": "9179fd83",
   "metadata": {},
   "outputs": [],
   "source": [
    "true_1 = true.loc[DORC_gene_matrix.columns.values.flatten(),]"
   ]
  },
  {
   "cell_type": "code",
   "execution_count": 596,
   "id": "5fd2b121",
   "metadata": {},
   "outputs": [],
   "source": [
    "pred_1 = pred.loc[DORC_gene_matrix.columns.values.flatten(),]"
   ]
  },
  {
   "cell_type": "code",
   "execution_count": 597,
   "id": "6a33c759",
   "metadata": {},
   "outputs": [],
   "source": [
    "#得到gene cell矩阵 \n",
    "true_matrix=DORC_gene_matrix.dot(true_1)"
   ]
  },
  {
   "cell_type": "code",
   "execution_count": 598,
   "id": "4e4be724",
   "metadata": {},
   "outputs": [],
   "source": [
    "pred_matrix=DORC_gene_matrix.dot(pred_1)"
   ]
  },
  {
   "cell_type": "code",
   "execution_count": 599,
   "id": "540077d8",
   "metadata": {},
   "outputs": [],
   "source": [
    "pccs_row=[]\n",
    "for i in range(0,true_matrix.shape[0]):\n",
    "    corr = np.corrcoef(true_matrix.iloc[i], pred_matrix.iloc[i])[0,1]\n",
    "    pccs_row.append(corr)"
   ]
  },
  {
   "cell_type": "code",
   "execution_count": 600,
   "id": "89a467a8",
   "metadata": {},
   "outputs": [],
   "source": [
    "pccs_col=[]\n",
    "for i in range(0,true_matrix.shape[1]):\n",
    "    corr = np.corrcoef(true_matrix.iloc[:,i], pred_matrix.iloc[:,i])[0,1]\n",
    "    pccs_col.append(corr)"
   ]
  },
  {
   "cell_type": "code",
   "execution_count": 601,
   "id": "cd42a7b8",
   "metadata": {},
   "outputs": [
    {
     "data": {
      "text/plain": [
       "-0.014993073381835793"
      ]
     },
     "execution_count": 601,
     "metadata": {},
     "output_type": "execute_result"
    }
   ],
   "source": [
    "pccs_row_df=pd.DataFrame(data=pccs_row)\n",
    "np.median(pccs_row_df)"
   ]
  },
  {
   "cell_type": "code",
   "execution_count": 602,
   "id": "bca85898",
   "metadata": {},
   "outputs": [
    {
     "data": {
      "text/plain": [
       "-0.03325624136961446"
      ]
     },
     "execution_count": 602,
     "metadata": {},
     "output_type": "execute_result"
    }
   ],
   "source": [
    "pccs_col_df=pd.DataFrame(data=pccs_col)\n",
    "np.nanmedian(pccs_col_df)"
   ]
  },
  {
   "cell_type": "code",
   "execution_count": 603,
   "id": "e3eaa5cb",
   "metadata": {},
   "outputs": [],
   "source": [
    "pccs_row_df.to_csv(\"../results/DORC/ScMoGCN_\" + train_id + \"_\" + test_id + \"_dorc_pcc.csv\")\n",
    "pccs_col_df.to_csv(\"../results/DORC/ScMoGCN_\" + train_id + \"_\" + test_id + \"_cell_pcc.csv\")"
   ]
  },
  {
   "cell_type": "code",
   "execution_count": 604,
   "id": "ced86f90",
   "metadata": {},
   "outputs": [],
   "source": [
    "def CMD_dist(A, B):\n",
    "    x = np.trace(A.dot(B))\n",
    "    y = np.linalg.norm(A,'fro')*np.linalg.norm(B,'fro')\n",
    "    return 1- x/(y+1e-8)"
   ]
  },
  {
   "cell_type": "code",
   "execution_count": 605,
   "id": "6be248f8",
   "metadata": {},
   "outputs": [],
   "source": [
    "corr_pred = np.corrcoef(pred_matrix)\n",
    "corr_true = np.corrcoef(true_matrix)\n",
    "corr_pred=pd.DataFrame(corr_pred)\n",
    "corr_true=pd.DataFrame(corr_true)\n",
    "DANCE_cmd_dorc=CMD_dist(corr_pred,corr_true)"
   ]
  },
  {
   "cell_type": "code",
   "execution_count": 606,
   "id": "09d64f1f",
   "metadata": {},
   "outputs": [],
   "source": [
    "corr_pred = np.corrcoef(pred_matrix.T)\n",
    "corr_true = np.corrcoef(true_matrix.T)\n",
    "corr_pred=pd.DataFrame(corr_pred)\n",
    "corr_true=pd.DataFrame(corr_true)\n",
    "DANCE_cmd_cell=CMD_dist(corr_pred,corr_true)"
   ]
  },
  {
   "cell_type": "code",
   "execution_count": 607,
   "id": "355a263b",
   "metadata": {},
   "outputs": [
    {
     "data": {
      "text/plain": [
       "0.9887154493986612"
      ]
     },
     "execution_count": 607,
     "metadata": {},
     "output_type": "execute_result"
    }
   ],
   "source": [
    "DANCE_cmd_dorc"
   ]
  },
  {
   "cell_type": "code",
   "execution_count": 608,
   "id": "19430cae",
   "metadata": {},
   "outputs": [
    {
     "data": {
      "text/plain": [
       "0.2201628417811291"
      ]
     },
     "execution_count": 608,
     "metadata": {},
     "output_type": "execute_result"
    }
   ],
   "source": [
    "DANCE_cmd_cell"
   ]
  },
  {
   "cell_type": "code",
   "execution_count": 609,
   "id": "6d8cafe1",
   "metadata": {},
   "outputs": [],
   "source": [
    "#KAUST\n",
    "true=pd.read_csv(\"../results/LS_Lab/LS_Lab_\" + train_id + \"_\" + test_id + \"_true.csv\",sep=\",\",index_col=0)\n",
    "pred=pd.read_csv(\"../results/LS_Lab/LS_Lab_\" + train_id + \"_\" + test_id + \"_pred.csv\",sep=\",\",index_col=0)pred.index=true.index\n",
    "pred.columns=true.columns\n",
    "pred=pred.sort_index()\n",
    "true=true.sort_index()\n",
    "pred=pred.T.sort_index()\n",
    "true=true.T.sort_index()"
   ]
  },
  {
   "cell_type": "code",
   "execution_count": 613,
   "id": "0f7d392b",
   "metadata": {},
   "outputs": [],
   "source": [
    "true_1 = true.loc[DORC_gene_matrix.columns.values.flatten(),]"
   ]
  },
  {
   "cell_type": "code",
   "execution_count": 614,
   "id": "a8c2c150",
   "metadata": {},
   "outputs": [],
   "source": [
    "pred_1 = pred.loc[DORC_gene_matrix.columns.values.flatten(),]"
   ]
  },
  {
   "cell_type": "code",
   "execution_count": 615,
   "id": "3e01d426",
   "metadata": {},
   "outputs": [],
   "source": [
    "#得到gene cell矩阵 \n",
    "true_matrix=DORC_gene_matrix.dot(true_1)"
   ]
  },
  {
   "cell_type": "code",
   "execution_count": 616,
   "id": "78b61dcc",
   "metadata": {},
   "outputs": [],
   "source": [
    "pred_matrix=DORC_gene_matrix.dot(pred_1)"
   ]
  },
  {
   "cell_type": "code",
   "execution_count": 617,
   "id": "1297d5a3",
   "metadata": {},
   "outputs": [],
   "source": [
    "pccs_row=[]\n",
    "for i in range(0,true_matrix.shape[0]):\n",
    "    corr = np.corrcoef(true_matrix.iloc[i], pred_matrix.iloc[i])[0,1]\n",
    "    pccs_row.append(corr)"
   ]
  },
  {
   "cell_type": "code",
   "execution_count": 618,
   "id": "47dc81ba",
   "metadata": {},
   "outputs": [],
   "source": [
    "pccs_col=[]\n",
    "for i in range(0,true_matrix.shape[1]):\n",
    "    corr = np.corrcoef(true_matrix.iloc[:,i], pred_matrix.iloc[:,i])[0,1]\n",
    "    pccs_col.append(corr)"
   ]
  },
  {
   "cell_type": "code",
   "execution_count": 619,
   "id": "4030cba7",
   "metadata": {},
   "outputs": [
    {
     "data": {
      "text/plain": [
       "0.3952808480175216"
      ]
     },
     "execution_count": 619,
     "metadata": {},
     "output_type": "execute_result"
    }
   ],
   "source": [
    "pccs_row_df=pd.DataFrame(data=pccs_row)\n",
    "np.median(pccs_row_df)"
   ]
  },
  {
   "cell_type": "code",
   "execution_count": 620,
   "id": "ef5bd62b",
   "metadata": {},
   "outputs": [
    {
     "data": {
      "text/plain": [
       "0.5982380045398107"
      ]
     },
     "execution_count": 620,
     "metadata": {},
     "output_type": "execute_result"
    }
   ],
   "source": [
    "pccs_col_df=pd.DataFrame(data=pccs_col)\n",
    "np.nanmedian(pccs_col_df)"
   ]
  },
  {
   "cell_type": "code",
   "execution_count": 621,
   "id": "d05b6623",
   "metadata": {},
   "outputs": [],
   "source": [
    "pccs_row_df.to_csv(\"../results/DORC/LS_Lab_\" + train_id + \"_\" + test_id + \"_dorc_pcc.csv\")\n",
    "pccs_col_df.to_csv(\"../results/DORC/LS_Lab_\" + train_id + \"_\" + test_id + \"_cell_pcc.csv\")"
   ]
  },
  {
   "cell_type": "code",
   "execution_count": 622,
   "id": "9987156d",
   "metadata": {},
   "outputs": [],
   "source": [
    "def CMD_dist(A, B):\n",
    "    x = np.trace(A.dot(B))\n",
    "    y = np.linalg.norm(A,'fro')*np.linalg.norm(B,'fro')\n",
    "    return 1- x/(y+1e-8)"
   ]
  },
  {
   "cell_type": "code",
   "execution_count": 623,
   "id": "b4e85b71",
   "metadata": {},
   "outputs": [],
   "source": [
    "corr_pred = np.corrcoef(pred_matrix)\n",
    "corr_true = np.corrcoef(true_matrix)\n",
    "corr_pred=pd.DataFrame(corr_pred)\n",
    "corr_true=pd.DataFrame(corr_true)\n",
    "KAUST_cmd_dorc=CMD_dist(corr_pred,corr_true)"
   ]
  },
  {
   "cell_type": "code",
   "execution_count": 624,
   "id": "b439cef4",
   "metadata": {},
   "outputs": [],
   "source": [
    "corr_pred = np.corrcoef(pred_matrix.T)\n",
    "corr_true = np.corrcoef(true_matrix.T)\n",
    "corr_pred=pd.DataFrame(corr_pred)\n",
    "corr_true=pd.DataFrame(corr_true)\n",
    "KAUST_cmd_cell=CMD_dist(corr_pred,corr_true)"
   ]
  },
  {
   "cell_type": "code",
   "execution_count": 625,
   "id": "20442f4b",
   "metadata": {},
   "outputs": [
    {
     "data": {
      "text/plain": [
       "0.1365082862762953"
      ]
     },
     "execution_count": 625,
     "metadata": {},
     "output_type": "execute_result"
    }
   ],
   "source": [
    "KAUST_cmd_dorc"
   ]
  },
  {
   "cell_type": "code",
   "execution_count": 626,
   "id": "50bec7da",
   "metadata": {},
   "outputs": [
    {
     "data": {
      "text/plain": [
       "0.0759634243911973"
      ]
     },
     "execution_count": 626,
     "metadata": {},
     "output_type": "execute_result"
    }
   ],
   "source": [
    "KAUST_cmd_cell"
   ]
  },
  {
   "cell_type": "code",
   "execution_count": 627,
   "id": "346dab98",
   "metadata": {},
   "outputs": [],
   "source": [
    "#MultiVI\n",
    "true=pd.read_csv(\"../results/MultiVI/MultiVI_\" + train_id + \"_\" + test_id + \"_true.csv\",sep=\",\",index_col=0)\n",
    "pred=pd.read_csv(\"../results/MultiVI/MultiVI_\" + train_id + \"_\" + test_id + \"_pred.csv\",sep=\",\",index_col=0)\n",
    "\n",
    "indexes=[pred.index[i].split('_')[0] for i in range(len(pred.index))]\n",
    "pred.index=indexes\n",
    "peak_trim=true.columns.values.flatten().tolist()\n",
    "cell_trim=true.index.values.flatten().tolist()\n",
    "\n",
    "pred=pred.loc[cell_trim]\n",
    "idx = np.unique(pred.index, return_index=True)[1]\n",
    "pred=pred.iloc[idx]\n",
    "overlap=list(set(pred.columns).intersection(set(true.columns)))\n",
    "pred=pred.loc[:,overlap]\n",
    "true=true.loc[:,overlap]\n",
    "pred=pred.T.sort_index()\n",
    "true=true.T.sort_index()"
   ]
  },
  {
   "cell_type": "code",
   "execution_count": 632,
   "id": "f87d166b",
   "metadata": {},
   "outputs": [],
   "source": [
    "overlap=list(set(DORC_gene_matrix.columns.values.flatten()).intersection(set(true.index.values.flatten())))"
   ]
  },
  {
   "cell_type": "code",
   "execution_count": 633,
   "id": "3f9a9713",
   "metadata": {},
   "outputs": [],
   "source": [
    "true_1 = true.loc[overlap,]"
   ]
  },
  {
   "cell_type": "code",
   "execution_count": 634,
   "id": "b3f4a064",
   "metadata": {},
   "outputs": [],
   "source": [
    "pred_1 = pred.loc[overlap,]"
   ]
  },
  {
   "cell_type": "code",
   "execution_count": 635,
   "id": "1e0b5c25",
   "metadata": {},
   "outputs": [],
   "source": [
    "DORC_gene_matrix = DORC_gene_matrix.loc[:,overlap]"
   ]
  },
  {
   "cell_type": "code",
   "execution_count": 637,
   "id": "e3004a6f",
   "metadata": {},
   "outputs": [],
   "source": [
    "#得到gene cell矩阵 \n",
    "true_matrix=DORC_gene_matrix.dot(true_1)"
   ]
  },
  {
   "cell_type": "code",
   "execution_count": 638,
   "id": "ee4c8528",
   "metadata": {},
   "outputs": [],
   "source": [
    "pred_matrix=DORC_gene_matrix.dot(pred_1)"
   ]
  },
  {
   "cell_type": "code",
   "execution_count": 639,
   "id": "3d5fd790",
   "metadata": {},
   "outputs": [],
   "source": [
    "pccs_row=[]\n",
    "for i in range(0,true_matrix.shape[0]):\n",
    "    corr = np.corrcoef(true_matrix.iloc[i], pred_matrix.iloc[i])[0,1]\n",
    "    pccs_row.append(corr)"
   ]
  },
  {
   "cell_type": "code",
   "execution_count": 640,
   "id": "fc9c2418",
   "metadata": {},
   "outputs": [],
   "source": [
    "pccs_col=[]\n",
    "for i in range(0,true_matrix.shape[1]):\n",
    "    corr = np.corrcoef(true_matrix.iloc[:,i], pred_matrix.iloc[:,i])[0,1]\n",
    "    pccs_col.append(corr)"
   ]
  },
  {
   "cell_type": "code",
   "execution_count": 641,
   "id": "e4cb32c3",
   "metadata": {},
   "outputs": [
    {
     "data": {
      "text/plain": [
       "0.41358751133620586"
      ]
     },
     "execution_count": 641,
     "metadata": {},
     "output_type": "execute_result"
    }
   ],
   "source": [
    "pccs_row_df=pd.DataFrame(data=pccs_row)\n",
    "np.median(pccs_row_df)"
   ]
  },
  {
   "cell_type": "code",
   "execution_count": 642,
   "id": "8c9fd1b8",
   "metadata": {},
   "outputs": [
    {
     "data": {
      "text/plain": [
       "0.5990529006887665"
      ]
     },
     "execution_count": 642,
     "metadata": {},
     "output_type": "execute_result"
    }
   ],
   "source": [
    "pccs_col_df=pd.DataFrame(data=pccs_col)\n",
    "np.nanmedian(pccs_col_df)"
   ]
  },
  {
   "cell_type": "code",
   "execution_count": 643,
   "id": "0bc33aff",
   "metadata": {},
   "outputs": [],
   "source": [
    "pccs_row_df.to_csv(\"../results/DORC/MultiVI_\" + train_id + \"_\" + test_id + \"_dorc_pcc.csv\")\n",
    "pccs_col_df.to_csv(\"../results/DORC/MultiVI_\" + train_id + \"_\" + test_id + \"_cell_pcc.csv\")"
   ]
  },
  {
   "cell_type": "code",
   "execution_count": 644,
   "id": "a8106842",
   "metadata": {},
   "outputs": [],
   "source": [
    "def CMD_dist(A, B):\n",
    "    x = np.trace(A.dot(B))\n",
    "    y = np.linalg.norm(A,'fro')*np.linalg.norm(B,'fro')\n",
    "    return 1- x/(y+1e-8)"
   ]
  },
  {
   "cell_type": "code",
   "execution_count": 645,
   "id": "5d9fbef2",
   "metadata": {},
   "outputs": [],
   "source": [
    "corr_pred = np.corrcoef(pred_matrix)\n",
    "corr_true = np.corrcoef(true_matrix)\n",
    "corr_pred=pd.DataFrame(corr_pred)\n",
    "corr_true=pd.DataFrame(corr_true)\n",
    "MultiVI_cmd_dorc=CMD_dist(corr_pred,corr_true)"
   ]
  },
  {
   "cell_type": "code",
   "execution_count": 646,
   "id": "c320791f",
   "metadata": {},
   "outputs": [],
   "source": [
    "corr_pred = np.corrcoef(pred_matrix.T)\n",
    "corr_true = np.corrcoef(true_matrix.T)\n",
    "corr_pred=pd.DataFrame(corr_pred)\n",
    "corr_true=pd.DataFrame(corr_true)\n",
    "MultiVI_cmd_cell=CMD_dist(corr_pred,corr_true)"
   ]
  },
  {
   "cell_type": "code",
   "execution_count": 647,
   "id": "e9b6d57a",
   "metadata": {},
   "outputs": [
    {
     "data": {
      "text/plain": [
       "0.2934559632471905"
      ]
     },
     "execution_count": 647,
     "metadata": {},
     "output_type": "execute_result"
    }
   ],
   "source": [
    "MultiVI_cmd_dorc"
   ]
  },
  {
   "cell_type": "code",
   "execution_count": 648,
   "id": "06c42ad6",
   "metadata": {},
   "outputs": [
    {
     "data": {
      "text/plain": [
       "0.06418920048583887"
      ]
     },
     "execution_count": 648,
     "metadata": {},
     "output_type": "execute_result"
    }
   ],
   "source": [
    "MultiVI_cmd_cell"
   ]
  },
  {
   "cell_type": "code",
   "execution_count": 673,
   "id": "75adb045",
   "metadata": {},
   "outputs": [],
   "source": [
    "#BABEL\n",
    "true=pd.read_csv(\"../results/BABEL/BABEL_\" + train_id + \"_\" + test_id + \"_true.csv\",sep=\",\",index_col=0)\n",
    "pred=pd.read_csv(\"../results/BABEL/BABEL_\" + train_id + \"_\" + test_id + \"_pred.csv\",sep=\",\",index_col=0)true=true.T\n",
    "pred.index=true.index\n",
    "pred.columns=true.columns\n",
    "pred=pred.sort_index()\n",
    "true=true.sort_index()\n",
    "pred=pred.T.sort_index()\n",
    "true=true.T.sort_index()"
   ]
  },
  {
   "cell_type": "code",
   "execution_count": 684,
   "id": "db1f8e8b",
   "metadata": {},
   "outputs": [],
   "source": [
    "pred=pred.T.sort_index()\n",
    "true=true.T.sort_index()"
   ]
  },
  {
   "cell_type": "code",
   "execution_count": 676,
   "id": "c82e1d05",
   "metadata": {},
   "outputs": [],
   "source": [
    "peaks,index_y =np.unique(DORC.peak,return_inverse=True)\n",
    "genes,index_x =np.unique(DORC.gene,return_inverse=True)\n",
    "DORC_gene= coo_matrix((np.ones(shape=(len(index_x),)),(index_x,index_y)))"
   ]
  },
  {
   "cell_type": "code",
   "execution_count": 677,
   "id": "92b24072",
   "metadata": {},
   "outputs": [],
   "source": [
    "DORC_gene.index=genes\n",
    "DORC_gene.columns=peaks"
   ]
  },
  {
   "cell_type": "code",
   "execution_count": 678,
   "id": "a035d2b8",
   "metadata": {},
   "outputs": [],
   "source": [
    "#dorc转数据框\n",
    "DORC_gene_matrix=pd.DataFrame(DORC_gene.toarray(),index=DORC_gene.index,columns=DORC_gene.columns)"
   ]
  },
  {
   "cell_type": "code",
   "execution_count": 679,
   "id": "323d37bc",
   "metadata": {},
   "outputs": [],
   "source": [
    "DORC_gene_matrix=DORC_gene_matrix[(DORC_gene_matrix.sum(axis=1)>5)]"
   ]
  },
  {
   "cell_type": "code",
   "execution_count": 680,
   "id": "3d84e14a",
   "metadata": {},
   "outputs": [
    {
     "data": {
      "text/html": [
       "<div>\n",
       "<style scoped>\n",
       "    .dataframe tbody tr th:only-of-type {\n",
       "        vertical-align: middle;\n",
       "    }\n",
       "\n",
       "    .dataframe tbody tr th {\n",
       "        vertical-align: top;\n",
       "    }\n",
       "\n",
       "    .dataframe thead th {\n",
       "        text-align: right;\n",
       "    }\n",
       "</style>\n",
       "<table border=\"1\" class=\"dataframe\">\n",
       "  <thead>\n",
       "    <tr style=\"text-align: right;\">\n",
       "      <th></th>\n",
       "      <th>chr1-100037674-100038480</th>\n",
       "      <th>chr1-100038644-100039418</th>\n",
       "      <th>chr1-1000558-1001151</th>\n",
       "      <th>chr1-100184356-100185217</th>\n",
       "      <th>chr1-10022422-10023370</th>\n",
       "      <th>chr1-10028788-10029730</th>\n",
       "      <th>chr1-10032403-10033291</th>\n",
       "      <th>chr1-100351075-100351920</th>\n",
       "      <th>chr1-100391470-100392358</th>\n",
       "      <th>chr1-100400115-100401032</th>\n",
       "      <th>...</th>\n",
       "      <th>chrX-79081613-79082535</th>\n",
       "      <th>chrX-79133628-79134549</th>\n",
       "      <th>chrX-79258820-79259745</th>\n",
       "      <th>chrX-79325001-79325941</th>\n",
       "      <th>chrX-79360959-79361907</th>\n",
       "      <th>chrX-79366750-79367634</th>\n",
       "      <th>chrX-79400362-79401306</th>\n",
       "      <th>chrX-81201555-81202477</th>\n",
       "      <th>chrX-9312906-9313844</th>\n",
       "      <th>chrX-96722522-96723463</th>\n",
       "    </tr>\n",
       "  </thead>\n",
       "  <tbody>\n",
       "    <tr>\n",
       "      <th>A2M</th>\n",
       "      <td>0.0</td>\n",
       "      <td>0.0</td>\n",
       "      <td>0.0</td>\n",
       "      <td>0.0</td>\n",
       "      <td>0.0</td>\n",
       "      <td>0.0</td>\n",
       "      <td>0.0</td>\n",
       "      <td>0.0</td>\n",
       "      <td>0.0</td>\n",
       "      <td>0.0</td>\n",
       "      <td>...</td>\n",
       "      <td>0.0</td>\n",
       "      <td>0.0</td>\n",
       "      <td>0.0</td>\n",
       "      <td>0.0</td>\n",
       "      <td>0.0</td>\n",
       "      <td>0.0</td>\n",
       "      <td>0.0</td>\n",
       "      <td>0.0</td>\n",
       "      <td>0.0</td>\n",
       "      <td>0.0</td>\n",
       "    </tr>\n",
       "    <tr>\n",
       "      <th>AAK1</th>\n",
       "      <td>0.0</td>\n",
       "      <td>0.0</td>\n",
       "      <td>0.0</td>\n",
       "      <td>0.0</td>\n",
       "      <td>0.0</td>\n",
       "      <td>0.0</td>\n",
       "      <td>0.0</td>\n",
       "      <td>0.0</td>\n",
       "      <td>0.0</td>\n",
       "      <td>0.0</td>\n",
       "      <td>...</td>\n",
       "      <td>0.0</td>\n",
       "      <td>0.0</td>\n",
       "      <td>0.0</td>\n",
       "      <td>0.0</td>\n",
       "      <td>0.0</td>\n",
       "      <td>0.0</td>\n",
       "      <td>0.0</td>\n",
       "      <td>0.0</td>\n",
       "      <td>0.0</td>\n",
       "      <td>0.0</td>\n",
       "    </tr>\n",
       "    <tr>\n",
       "      <th>AAMP</th>\n",
       "      <td>0.0</td>\n",
       "      <td>0.0</td>\n",
       "      <td>0.0</td>\n",
       "      <td>0.0</td>\n",
       "      <td>0.0</td>\n",
       "      <td>0.0</td>\n",
       "      <td>0.0</td>\n",
       "      <td>0.0</td>\n",
       "      <td>0.0</td>\n",
       "      <td>0.0</td>\n",
       "      <td>...</td>\n",
       "      <td>0.0</td>\n",
       "      <td>0.0</td>\n",
       "      <td>0.0</td>\n",
       "      <td>0.0</td>\n",
       "      <td>0.0</td>\n",
       "      <td>0.0</td>\n",
       "      <td>0.0</td>\n",
       "      <td>0.0</td>\n",
       "      <td>0.0</td>\n",
       "      <td>0.0</td>\n",
       "    </tr>\n",
       "    <tr>\n",
       "      <th>AATK</th>\n",
       "      <td>0.0</td>\n",
       "      <td>0.0</td>\n",
       "      <td>0.0</td>\n",
       "      <td>0.0</td>\n",
       "      <td>0.0</td>\n",
       "      <td>0.0</td>\n",
       "      <td>0.0</td>\n",
       "      <td>0.0</td>\n",
       "      <td>0.0</td>\n",
       "      <td>0.0</td>\n",
       "      <td>...</td>\n",
       "      <td>0.0</td>\n",
       "      <td>0.0</td>\n",
       "      <td>0.0</td>\n",
       "      <td>0.0</td>\n",
       "      <td>0.0</td>\n",
       "      <td>0.0</td>\n",
       "      <td>0.0</td>\n",
       "      <td>0.0</td>\n",
       "      <td>0.0</td>\n",
       "      <td>0.0</td>\n",
       "    </tr>\n",
       "    <tr>\n",
       "      <th>ABCA1</th>\n",
       "      <td>0.0</td>\n",
       "      <td>0.0</td>\n",
       "      <td>0.0</td>\n",
       "      <td>0.0</td>\n",
       "      <td>0.0</td>\n",
       "      <td>0.0</td>\n",
       "      <td>0.0</td>\n",
       "      <td>0.0</td>\n",
       "      <td>0.0</td>\n",
       "      <td>0.0</td>\n",
       "      <td>...</td>\n",
       "      <td>0.0</td>\n",
       "      <td>0.0</td>\n",
       "      <td>0.0</td>\n",
       "      <td>0.0</td>\n",
       "      <td>0.0</td>\n",
       "      <td>0.0</td>\n",
       "      <td>0.0</td>\n",
       "      <td>0.0</td>\n",
       "      <td>0.0</td>\n",
       "      <td>0.0</td>\n",
       "    </tr>\n",
       "    <tr>\n",
       "      <th>...</th>\n",
       "      <td>...</td>\n",
       "      <td>...</td>\n",
       "      <td>...</td>\n",
       "      <td>...</td>\n",
       "      <td>...</td>\n",
       "      <td>...</td>\n",
       "      <td>...</td>\n",
       "      <td>...</td>\n",
       "      <td>...</td>\n",
       "      <td>...</td>\n",
       "      <td>...</td>\n",
       "      <td>...</td>\n",
       "      <td>...</td>\n",
       "      <td>...</td>\n",
       "      <td>...</td>\n",
       "      <td>...</td>\n",
       "      <td>...</td>\n",
       "      <td>...</td>\n",
       "      <td>...</td>\n",
       "      <td>...</td>\n",
       "      <td>...</td>\n",
       "    </tr>\n",
       "    <tr>\n",
       "      <th>ZNF831</th>\n",
       "      <td>0.0</td>\n",
       "      <td>0.0</td>\n",
       "      <td>0.0</td>\n",
       "      <td>0.0</td>\n",
       "      <td>0.0</td>\n",
       "      <td>0.0</td>\n",
       "      <td>0.0</td>\n",
       "      <td>0.0</td>\n",
       "      <td>0.0</td>\n",
       "      <td>0.0</td>\n",
       "      <td>...</td>\n",
       "      <td>0.0</td>\n",
       "      <td>0.0</td>\n",
       "      <td>0.0</td>\n",
       "      <td>0.0</td>\n",
       "      <td>0.0</td>\n",
       "      <td>0.0</td>\n",
       "      <td>0.0</td>\n",
       "      <td>0.0</td>\n",
       "      <td>0.0</td>\n",
       "      <td>0.0</td>\n",
       "    </tr>\n",
       "    <tr>\n",
       "      <th>ZNF860</th>\n",
       "      <td>0.0</td>\n",
       "      <td>0.0</td>\n",
       "      <td>0.0</td>\n",
       "      <td>0.0</td>\n",
       "      <td>0.0</td>\n",
       "      <td>0.0</td>\n",
       "      <td>0.0</td>\n",
       "      <td>0.0</td>\n",
       "      <td>0.0</td>\n",
       "      <td>0.0</td>\n",
       "      <td>...</td>\n",
       "      <td>0.0</td>\n",
       "      <td>0.0</td>\n",
       "      <td>0.0</td>\n",
       "      <td>0.0</td>\n",
       "      <td>0.0</td>\n",
       "      <td>0.0</td>\n",
       "      <td>0.0</td>\n",
       "      <td>0.0</td>\n",
       "      <td>0.0</td>\n",
       "      <td>0.0</td>\n",
       "    </tr>\n",
       "    <tr>\n",
       "      <th>ZNHIT2</th>\n",
       "      <td>0.0</td>\n",
       "      <td>0.0</td>\n",
       "      <td>0.0</td>\n",
       "      <td>0.0</td>\n",
       "      <td>0.0</td>\n",
       "      <td>0.0</td>\n",
       "      <td>0.0</td>\n",
       "      <td>0.0</td>\n",
       "      <td>0.0</td>\n",
       "      <td>0.0</td>\n",
       "      <td>...</td>\n",
       "      <td>0.0</td>\n",
       "      <td>0.0</td>\n",
       "      <td>0.0</td>\n",
       "      <td>0.0</td>\n",
       "      <td>0.0</td>\n",
       "      <td>0.0</td>\n",
       "      <td>0.0</td>\n",
       "      <td>0.0</td>\n",
       "      <td>0.0</td>\n",
       "      <td>0.0</td>\n",
       "    </tr>\n",
       "    <tr>\n",
       "      <th>ZNRF2</th>\n",
       "      <td>0.0</td>\n",
       "      <td>0.0</td>\n",
       "      <td>0.0</td>\n",
       "      <td>0.0</td>\n",
       "      <td>0.0</td>\n",
       "      <td>0.0</td>\n",
       "      <td>0.0</td>\n",
       "      <td>0.0</td>\n",
       "      <td>0.0</td>\n",
       "      <td>0.0</td>\n",
       "      <td>...</td>\n",
       "      <td>0.0</td>\n",
       "      <td>0.0</td>\n",
       "      <td>0.0</td>\n",
       "      <td>0.0</td>\n",
       "      <td>0.0</td>\n",
       "      <td>0.0</td>\n",
       "      <td>0.0</td>\n",
       "      <td>0.0</td>\n",
       "      <td>0.0</td>\n",
       "      <td>0.0</td>\n",
       "    </tr>\n",
       "    <tr>\n",
       "      <th>ZSCAN18</th>\n",
       "      <td>0.0</td>\n",
       "      <td>0.0</td>\n",
       "      <td>0.0</td>\n",
       "      <td>0.0</td>\n",
       "      <td>0.0</td>\n",
       "      <td>0.0</td>\n",
       "      <td>0.0</td>\n",
       "      <td>0.0</td>\n",
       "      <td>0.0</td>\n",
       "      <td>0.0</td>\n",
       "      <td>...</td>\n",
       "      <td>0.0</td>\n",
       "      <td>0.0</td>\n",
       "      <td>0.0</td>\n",
       "      <td>0.0</td>\n",
       "      <td>0.0</td>\n",
       "      <td>0.0</td>\n",
       "      <td>0.0</td>\n",
       "      <td>0.0</td>\n",
       "      <td>0.0</td>\n",
       "      <td>0.0</td>\n",
       "    </tr>\n",
       "  </tbody>\n",
       "</table>\n",
       "<p>1492 rows × 22023 columns</p>\n",
       "</div>"
      ],
      "text/plain": [
       "         chr1-100037674-100038480  chr1-100038644-100039418  \\\n",
       "A2M                           0.0                       0.0   \n",
       "AAK1                          0.0                       0.0   \n",
       "AAMP                          0.0                       0.0   \n",
       "AATK                          0.0                       0.0   \n",
       "ABCA1                         0.0                       0.0   \n",
       "...                           ...                       ...   \n",
       "ZNF831                        0.0                       0.0   \n",
       "ZNF860                        0.0                       0.0   \n",
       "ZNHIT2                        0.0                       0.0   \n",
       "ZNRF2                         0.0                       0.0   \n",
       "ZSCAN18                       0.0                       0.0   \n",
       "\n",
       "         chr1-1000558-1001151  chr1-100184356-100185217  \\\n",
       "A2M                       0.0                       0.0   \n",
       "AAK1                      0.0                       0.0   \n",
       "AAMP                      0.0                       0.0   \n",
       "AATK                      0.0                       0.0   \n",
       "ABCA1                     0.0                       0.0   \n",
       "...                       ...                       ...   \n",
       "ZNF831                    0.0                       0.0   \n",
       "ZNF860                    0.0                       0.0   \n",
       "ZNHIT2                    0.0                       0.0   \n",
       "ZNRF2                     0.0                       0.0   \n",
       "ZSCAN18                   0.0                       0.0   \n",
       "\n",
       "         chr1-10022422-10023370  chr1-10028788-10029730  \\\n",
       "A2M                         0.0                     0.0   \n",
       "AAK1                        0.0                     0.0   \n",
       "AAMP                        0.0                     0.0   \n",
       "AATK                        0.0                     0.0   \n",
       "ABCA1                       0.0                     0.0   \n",
       "...                         ...                     ...   \n",
       "ZNF831                      0.0                     0.0   \n",
       "ZNF860                      0.0                     0.0   \n",
       "ZNHIT2                      0.0                     0.0   \n",
       "ZNRF2                       0.0                     0.0   \n",
       "ZSCAN18                     0.0                     0.0   \n",
       "\n",
       "         chr1-10032403-10033291  chr1-100351075-100351920  \\\n",
       "A2M                         0.0                       0.0   \n",
       "AAK1                        0.0                       0.0   \n",
       "AAMP                        0.0                       0.0   \n",
       "AATK                        0.0                       0.0   \n",
       "ABCA1                       0.0                       0.0   \n",
       "...                         ...                       ...   \n",
       "ZNF831                      0.0                       0.0   \n",
       "ZNF860                      0.0                       0.0   \n",
       "ZNHIT2                      0.0                       0.0   \n",
       "ZNRF2                       0.0                       0.0   \n",
       "ZSCAN18                     0.0                       0.0   \n",
       "\n",
       "         chr1-100391470-100392358  chr1-100400115-100401032  ...  \\\n",
       "A2M                           0.0                       0.0  ...   \n",
       "AAK1                          0.0                       0.0  ...   \n",
       "AAMP                          0.0                       0.0  ...   \n",
       "AATK                          0.0                       0.0  ...   \n",
       "ABCA1                         0.0                       0.0  ...   \n",
       "...                           ...                       ...  ...   \n",
       "ZNF831                        0.0                       0.0  ...   \n",
       "ZNF860                        0.0                       0.0  ...   \n",
       "ZNHIT2                        0.0                       0.0  ...   \n",
       "ZNRF2                         0.0                       0.0  ...   \n",
       "ZSCAN18                       0.0                       0.0  ...   \n",
       "\n",
       "         chrX-79081613-79082535  chrX-79133628-79134549  \\\n",
       "A2M                         0.0                     0.0   \n",
       "AAK1                        0.0                     0.0   \n",
       "AAMP                        0.0                     0.0   \n",
       "AATK                        0.0                     0.0   \n",
       "ABCA1                       0.0                     0.0   \n",
       "...                         ...                     ...   \n",
       "ZNF831                      0.0                     0.0   \n",
       "ZNF860                      0.0                     0.0   \n",
       "ZNHIT2                      0.0                     0.0   \n",
       "ZNRF2                       0.0                     0.0   \n",
       "ZSCAN18                     0.0                     0.0   \n",
       "\n",
       "         chrX-79258820-79259745  chrX-79325001-79325941  \\\n",
       "A2M                         0.0                     0.0   \n",
       "AAK1                        0.0                     0.0   \n",
       "AAMP                        0.0                     0.0   \n",
       "AATK                        0.0                     0.0   \n",
       "ABCA1                       0.0                     0.0   \n",
       "...                         ...                     ...   \n",
       "ZNF831                      0.0                     0.0   \n",
       "ZNF860                      0.0                     0.0   \n",
       "ZNHIT2                      0.0                     0.0   \n",
       "ZNRF2                       0.0                     0.0   \n",
       "ZSCAN18                     0.0                     0.0   \n",
       "\n",
       "         chrX-79360959-79361907  chrX-79366750-79367634  \\\n",
       "A2M                         0.0                     0.0   \n",
       "AAK1                        0.0                     0.0   \n",
       "AAMP                        0.0                     0.0   \n",
       "AATK                        0.0                     0.0   \n",
       "ABCA1                       0.0                     0.0   \n",
       "...                         ...                     ...   \n",
       "ZNF831                      0.0                     0.0   \n",
       "ZNF860                      0.0                     0.0   \n",
       "ZNHIT2                      0.0                     0.0   \n",
       "ZNRF2                       0.0                     0.0   \n",
       "ZSCAN18                     0.0                     0.0   \n",
       "\n",
       "         chrX-79400362-79401306  chrX-81201555-81202477  chrX-9312906-9313844  \\\n",
       "A2M                         0.0                     0.0                   0.0   \n",
       "AAK1                        0.0                     0.0                   0.0   \n",
       "AAMP                        0.0                     0.0                   0.0   \n",
       "AATK                        0.0                     0.0                   0.0   \n",
       "ABCA1                       0.0                     0.0                   0.0   \n",
       "...                         ...                     ...                   ...   \n",
       "ZNF831                      0.0                     0.0                   0.0   \n",
       "ZNF860                      0.0                     0.0                   0.0   \n",
       "ZNHIT2                      0.0                     0.0                   0.0   \n",
       "ZNRF2                       0.0                     0.0                   0.0   \n",
       "ZSCAN18                     0.0                     0.0                   0.0   \n",
       "\n",
       "         chrX-96722522-96723463  \n",
       "A2M                         0.0  \n",
       "AAK1                        0.0  \n",
       "AAMP                        0.0  \n",
       "AATK                        0.0  \n",
       "ABCA1                       0.0  \n",
       "...                         ...  \n",
       "ZNF831                      0.0  \n",
       "ZNF860                      0.0  \n",
       "ZNHIT2                      0.0  \n",
       "ZNRF2                       0.0  \n",
       "ZSCAN18                     0.0  \n",
       "\n",
       "[1492 rows x 22023 columns]"
      ]
     },
     "execution_count": 680,
     "metadata": {},
     "output_type": "execute_result"
    }
   ],
   "source": [
    "DORC_gene_matrix"
   ]
  },
  {
   "cell_type": "code",
   "execution_count": 685,
   "id": "15dc0ed7",
   "metadata": {},
   "outputs": [],
   "source": [
    "true_1 = true.loc[DORC_gene_matrix.columns.values.flatten(),]"
   ]
  },
  {
   "cell_type": "code",
   "execution_count": 686,
   "id": "7d345b3f",
   "metadata": {},
   "outputs": [],
   "source": [
    "pred_1 = pred.loc[DORC_gene_matrix.columns.values.flatten(),]"
   ]
  },
  {
   "cell_type": "code",
   "execution_count": 687,
   "id": "d9586cac",
   "metadata": {},
   "outputs": [],
   "source": [
    "#得到gene cell矩阵 \n",
    "true_matrix=DORC_gene_matrix.dot(true_1)"
   ]
  },
  {
   "cell_type": "code",
   "execution_count": 688,
   "id": "8b69c0d0",
   "metadata": {},
   "outputs": [],
   "source": [
    "pred_matrix=DORC_gene_matrix.dot(pred_1)"
   ]
  },
  {
   "cell_type": "code",
   "execution_count": 689,
   "id": "573ace37",
   "metadata": {},
   "outputs": [],
   "source": [
    "pred_matrix=pred_matrix.loc[(pred_matrix!=0).any(axis=1)]"
   ]
  },
  {
   "cell_type": "code",
   "execution_count": 690,
   "id": "d9414409",
   "metadata": {},
   "outputs": [],
   "source": [
    "true_matrix=true_matrix.loc[(true_matrix!=0).any(axis=1)]"
   ]
  },
  {
   "cell_type": "code",
   "execution_count": 691,
   "id": "3e6bc15c",
   "metadata": {},
   "outputs": [],
   "source": [
    "overlap=list(set(true_matrix.index).intersection(set(pred_matrix.index)))"
   ]
  },
  {
   "cell_type": "code",
   "execution_count": 692,
   "id": "b86072e2",
   "metadata": {},
   "outputs": [],
   "source": [
    "pred_matrix_1=pred_matrix.loc[overlap,]"
   ]
  },
  {
   "cell_type": "code",
   "execution_count": 693,
   "id": "ed95145b",
   "metadata": {},
   "outputs": [],
   "source": [
    "true_matrix_1=true_matrix.loc[overlap,]"
   ]
  },
  {
   "cell_type": "code",
   "execution_count": 694,
   "id": "a871838e",
   "metadata": {},
   "outputs": [],
   "source": [
    "def CMD_dist(A, B):\n",
    "    x = np.trace(A.dot(B))\n",
    "    y = np.linalg.norm(A,'fro')*np.linalg.norm(B,'fro')\n",
    "    return 1- x/(y+1e-8)"
   ]
  },
  {
   "cell_type": "code",
   "execution_count": 695,
   "id": "333213a5",
   "metadata": {},
   "outputs": [],
   "source": [
    "corr_pred = np.corrcoef(pred_matrix_1)\n",
    "corr_true = np.corrcoef(true_matrix_1)\n",
    "corr_pred=pd.DataFrame(corr_pred)\n",
    "corr_true=pd.DataFrame(corr_true)\n",
    "BABEL_cmd_dorc=CMD_dist(corr_pred,corr_true)"
   ]
  },
  {
   "cell_type": "code",
   "execution_count": 696,
   "id": "00aa4cde",
   "metadata": {},
   "outputs": [
    {
     "data": {
      "text/plain": [
       "0.40267689535876905"
      ]
     },
     "execution_count": 696,
     "metadata": {},
     "output_type": "execute_result"
    }
   ],
   "source": [
    "BABEL_cmd_dorc"
   ]
  },
  {
   "cell_type": "code",
   "execution_count": 668,
   "id": "1072060f",
   "metadata": {},
   "outputs": [],
   "source": [
    "data_cell = [['LIGER',LIGER_cmd_cell],['Seurat',Seurat_cmd_cell],['CMAE',CMAE_cmd_cell],['BABEL',BABEL_cmd_cell],['DANCE',DANCE_cmd_cell],['KAUST',KAUST_cmd_cell],['MultiVI',MultiVI_cmd_cell]]\n",
    "df_cell = pd.DataFrame(data_cell,columns=['methods','cmd'])"
   ]
  },
  {
   "cell_type": "code",
   "execution_count": 669,
   "id": "78b612e9",
   "metadata": {},
   "outputs": [],
   "source": [
    "data_dorc = [['LIGER',LIGER_cmd_dorc],['Seurat',Seurat_cmd_dorc],['CMAE',CMAE_cmd_dorc],['BABEL',BABEL_cmd_dorc],['DANCE',DANCE_cmd_dorc],['KAUST',KAUST_cmd_dorc],['MultiVI',MultiVI_cmd_dorc]]\n",
    "df_dorc = pd.DataFrame(data_dorc,columns=['methods','cmd'])"
   ]
  },
  {
   "cell_type": "code",
   "execution_count": 670,
   "id": "140daa60",
   "metadata": {},
   "outputs": [],
   "source": [
    "df_dorc.to_csv(\"../results/DORC/\" + train_id + \"_\" + test_id + \"_dorc_cmd.csv\")\n",
    "df_cell.to_csv(\"../results/DORC/\" + train_id + \"_\" + test_id + \"_cell_cmd.csv\")"
   ]
  }
 ],
 "metadata": {
  "kernelspec": {
   "display_name": "base",
   "language": "python",
   "name": "base"
  },
  "language_info": {
   "codemirror_mode": {
    "name": "ipython",
    "version": 3
   },
   "file_extension": ".py",
   "mimetype": "text/x-python",
   "name": "python",
   "nbconvert_exporter": "python",
   "pygments_lexer": "ipython3",
   "version": "3.9.10"
  }
 },
 "nbformat": 4,
 "nbformat_minor": 5
}
