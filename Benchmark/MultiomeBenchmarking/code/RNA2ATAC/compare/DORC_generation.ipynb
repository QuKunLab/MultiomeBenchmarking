{
 "cells": [
  {
   "cell_type": "code",
   "execution_count": 15,
   "metadata": {
    "scrolled": true
   },
   "outputs": [
    {
     "name": "stderr",
     "output_type": "stream",
     "text": [
      "\n",
      "Attaching package: 'BSgenome.Hsapiens.UCSC.hg38'\n",
      "\n",
      "\n",
      "The following object is masked from 'package:BSgenome.Hsapiens.UCSC.hg19':\n",
      "\n",
      "    Hsapiens\n",
      "\n",
      "\n"
     ]
    }
   ],
   "source": [
    "library(Signac)\n",
    "library(spatstat.geom)\n",
    "library(Seurat)\n",
    "library(ggplot2)\n",
    "library(cowplot)\n",
    "library(GenomeInfoDb)\n",
    "# library(matchSCore2)\n",
    "#library(reticulate)\n",
    "# library(EnsDb.Mmusculus.v79)\n",
    "library(BSgenome.Mmusculus.UCSC.mm10)\n",
    "library(EnsDb.Hsapiens.v86)\n",
    "library(EnsDb.Hsapiens.v79)\n",
    "library(BSgenome.Hsapiens.UCSC.hg38)\n",
    "set.seed(1234)\n",
    "Create_seurat <- function(rna_assay=NULL, atac_assay=NULL, sep=c(\"-\", \"-\"), fragment_file=NULL, genome='hg38'){\n",
    "  #\n",
    "  if (is.null(rna_assay)){stop('Please provide the RNA expression matrix')}\n",
    "  if (is.null(atac_assay)){stop('Please provide the ATAC expression matrix')}\n",
    "  fragments <- fragment_file\n",
    "  #\n",
    "  proj <- CreateSeuratObject(counts = rna_assay)\n",
    "  proj[['ATAC']] <- CreateChromatinAssay(counts = atac_assay, sep = sep,\n",
    "                                         genome = genome, fragments = fragments)\n",
    "  #\n",
    "  if (genome=='hg38'){\n",
    "#     annotations <- GetGRangesFromEnsDb(ensdb = EnsDb.Hsapiens.v86)\n",
    "    annotations <- GetGRangesFromEnsDb(ensdb = EnsDb.Hsapiens.v79)\n",
    "    seqlevelsStyle(annotations) <- 'UCSC'\n",
    "    Annotation(proj[[\"ATAC\"]]) <- annotations\n",
    "  }\n",
    "   if (genome=='hg38'){\n",
    "    annotations <- GetGRangesFromEnsDb(ensdb = EnsDb.Hsapiens.v86)\n",
    "#     annotations <- GetGRangesFromEnsDb(ensdb = EnsDb.Hsapiens.v79)\n",
    "    seqlevelsStyle(annotations) <- 'UCSC'\n",
    "    Annotation(proj[[\"ATAC\"]]) <- annotations\n",
    "  }\n",
    "  if (genome=='mm10'){\n",
    "    annotations <- GetGRangesFromEnsDb(ensdb = EnsDb.Mmusculus.v79)\n",
    "    seqlevelsStyle(annotations) <- 'UCSC'\n",
    "    Annotation(proj[[\"ATAC\"]]) <- annotations\n",
    "  }\n",
    "  #\n",
    "  return(proj)\n",
    "}\n",
    "\n",
    "QC_ATAC <- function(proj=proj, fragment_file=NULL, genome='hg38', group=NULL){\n",
    "  DefaultAssay(proj) <- \"ATAC\"\n",
    "  if (!is.null(fragment_file)){\n",
    "    #TSS and NucleosomeSignal\n",
    "    proj <- TSSEnrichment(proj)\n",
    "    proj <- NucleosomeSignal(proj)\n",
    "    #FRiP\n",
    "    fragments <- fragment_file\n",
    "    total_fragments <- CountFragments(fragments)\n",
    "    total_fragments <- subset(total_fragments, total_fragments$CB %in% colnames(proj))\n",
    "    row.names(total_fragments)=total_fragments$CB\n",
    "    proj$fragments <- total_fragments[colnames(proj), \"reads_count\"]\n",
    "    proj <- FRiP(object = proj,assay = 'ATAC',total.fragments = 'fragments')\n",
    "  }\n",
    "  #Blacklist ratio\n",
    "  if (genome=='hg38'){\n",
    "    proj$blacklist_fraction <- FractionCountsInRegion(proj,assay = 'ATAC',regions = blacklist_hg38)\n",
    "  }\n",
    "  if (genome=='mm10'){\n",
    "    proj$blacklist_fraction <- FractionCountsInRegion(proj,assay = 'ATAC',regions = blacklist_mm10)\n",
    "  }\n",
    "  #Reident\n",
    "  if(is.null(group)){Idents(proj) <- \"all\"}\n",
    "  #\n",
    "  return(proj)\n",
    "}\n",
    "#\n",
    "QC_RNA <- function(proj=proj, genome='hg38'){\n",
    "  DefaultAssay(proj) <- \"RNA\"\n",
    "  #\n",
    "  if (genome=='hg38'){\n",
    "    proj[[\"percent.mt\"]] <- PercentageFeatureSet(proj, pattern = \"^MT-\")\n",
    "    proj[[\"percent.ribo\"]] <- PercentageFeatureSet(proj, pattern = \"^RP[SL]\")\n",
    "  }\n",
    "  if (genome=='mm10'){\n",
    "    features=grep(pattern = \"^MT-\", x = rownames(proj), value = TRUE,ignore.case = TRUE)\n",
    "    proj[[\"percent.mt\"]] <- PercentageFeatureSet(proj, pattern = \"^mt-\",features=features)\n",
    "    proj[[\"percent.ribo\"]] <- PercentageFeatureSet(proj, pattern = \"^Rp[sl]\")\n",
    "  }\n",
    "  #\n",
    "  return(proj)\n",
    "}"
   ]
  },
  {
   "cell_type": "code",
   "execution_count": 87,
   "metadata": {},
   "outputs": [],
   "source": [
    "setwd(\"../results/DORC/\")"
   ]
  },
  {
   "cell_type": "code",
   "execution_count": null,
   "metadata": {},
   "outputs": [],
   "source": [
    "train_id <- \"Dataset35\"\n",
    "test_id <- \"Dataset36\""
   ]
  },
  {
   "cell_type": "code",
   "execution_count": 89,
   "metadata": {
    "scrolled": true
   },
   "outputs": [],
   "source": [
    "RNA_count <- Read10X(data.dir = paste0(\"../data/\",test_id,\"/RNA/\"), gene.column = 1)\n",
    "ATAC_count <- Read10X(data.dir = paste0(\"../data/\",test_id,\"/ATAC/\"), gene.column = 1)"
   ]
  },
  {
   "cell_type": "code",
   "execution_count": 90,
   "metadata": {},
   "outputs": [
    {
     "data": {
      "text/html": [
       "<style>\n",
       ".list-inline {list-style: none; margin:0; padding: 0}\n",
       ".list-inline>li {display: inline-block}\n",
       ".list-inline>li:not(:last-child)::after {content: \"\\00b7\"; padding: 0 .5ex}\n",
       "</style>\n",
       "<ol class=list-inline><li>68951</li><li>68952</li><li>68953</li><li>68954</li><li>68955</li><li>68956</li><li>68957</li><li>68958</li><li>68959</li><li>68960</li><li>68961</li><li>68962</li><li>68963</li></ol>\n"
      ],
      "text/latex": [
       "\\begin{enumerate*}\n",
       "\\item 68951\n",
       "\\item 68952\n",
       "\\item 68953\n",
       "\\item 68954\n",
       "\\item 68955\n",
       "\\item 68956\n",
       "\\item 68957\n",
       "\\item 68958\n",
       "\\item 68959\n",
       "\\item 68960\n",
       "\\item 68961\n",
       "\\item 68962\n",
       "\\item 68963\n",
       "\\end{enumerate*}\n"
      ],
      "text/markdown": [
       "1. 68951\n",
       "2. 68952\n",
       "3. 68953\n",
       "4. 68954\n",
       "5. 68955\n",
       "6. 68956\n",
       "7. 68957\n",
       "8. 68958\n",
       "9. 68959\n",
       "10. 68960\n",
       "11. 68961\n",
       "12. 68962\n",
       "13. 68963\n",
       "\n",
       "\n"
      ],
      "text/plain": [
       " [1] 68951 68952 68953 68954 68955 68956 68957 68958 68959 68960 68961 68962\n",
       "[13] 68963"
      ]
     },
     "metadata": {},
     "output_type": "display_data"
    },
    {
     "data": {
      "text/html": [],
      "text/latex": [],
      "text/markdown": [],
      "text/plain": [
       "integer(0)"
      ]
     },
     "metadata": {},
     "output_type": "display_data"
    }
   ],
   "source": [
    "KI<-grep(rownames(ATAC_count),pattern=\"KI\")\n",
    "GL<-grep(rownames(ATAC_count),pattern=\"GL\")"
   ]
  },
  {
   "cell_type": "code",
   "execution_count": null,
   "metadata": {},
   "outputs": [],
   "source": [
    "ATAC_count <- ATAC_count [-c(KI,GL),]"
   ]
  },
  {
   "cell_type": "code",
   "execution_count": 95,
   "metadata": {
    "scrolled": true
   },
   "outputs": [],
   "source": [
    "# anno"
   ]
  },
  {
   "cell_type": "code",
   "execution_count": 96,
   "metadata": {
    "collapsed": true
   },
   "outputs": [
    {
     "name": "stderr",
     "output_type": "stream",
     "text": [
      "Warning message in .merge_two_Seqinfo_objects(x, y):\n",
      "\"The 2 combined objects have no sequence levels in common. (Use\n",
      "  suppressWarnings() to suppress this warning.)\"\n",
      "Warning message in .merge_two_Seqinfo_objects(x, y):\n",
      "\"The 2 combined objects have no sequence levels in common. (Use\n",
      "  suppressWarnings() to suppress this warning.)\"\n",
      "Warning message in .merge_two_Seqinfo_objects(x, y):\n",
      "\"The 2 combined objects have no sequence levels in common. (Use\n",
      "  suppressWarnings() to suppress this warning.)\"\n",
      "Warning message in .merge_two_Seqinfo_objects(x, y):\n",
      "\"The 2 combined objects have no sequence levels in common. (Use\n",
      "  suppressWarnings() to suppress this warning.)\"\n",
      "Warning message in .merge_two_Seqinfo_objects(x, y):\n",
      "\"The 2 combined objects have no sequence levels in common. (Use\n",
      "  suppressWarnings() to suppress this warning.)\"\n",
      "Warning message in .merge_two_Seqinfo_objects(x, y):\n",
      "\"The 2 combined objects have no sequence levels in common. (Use\n",
      "  suppressWarnings() to suppress this warning.)\"\n",
      "Warning message in .merge_two_Seqinfo_objects(x, y):\n",
      "\"The 2 combined objects have no sequence levels in common. (Use\n",
      "  suppressWarnings() to suppress this warning.)\"\n",
      "Warning message in .merge_two_Seqinfo_objects(x, y):\n",
      "\"The 2 combined objects have no sequence levels in common. (Use\n",
      "  suppressWarnings() to suppress this warning.)\"\n",
      "Warning message in .merge_two_Seqinfo_objects(x, y):\n",
      "\"The 2 combined objects have no sequence levels in common. (Use\n",
      "  suppressWarnings() to suppress this warning.)\"\n",
      "Warning message in .merge_two_Seqinfo_objects(x, y):\n",
      "\"The 2 combined objects have no sequence levels in common. (Use\n",
      "  suppressWarnings() to suppress this warning.)\"\n",
      "Warning message in .merge_two_Seqinfo_objects(x, y):\n",
      "\"The 2 combined objects have no sequence levels in common. (Use\n",
      "  suppressWarnings() to suppress this warning.)\"\n",
      "Warning message in .merge_two_Seqinfo_objects(x, y):\n",
      "\"The 2 combined objects have no sequence levels in common. (Use\n",
      "  suppressWarnings() to suppress this warning.)\"\n",
      "Warning message in .merge_two_Seqinfo_objects(x, y):\n",
      "\"The 2 combined objects have no sequence levels in common. (Use\n",
      "  suppressWarnings() to suppress this warning.)\"\n",
      "Warning message in .merge_two_Seqinfo_objects(x, y):\n",
      "\"The 2 combined objects have no sequence levels in common. (Use\n",
      "  suppressWarnings() to suppress this warning.)\"\n",
      "Warning message in .merge_two_Seqinfo_objects(x, y):\n",
      "\"The 2 combined objects have no sequence levels in common. (Use\n",
      "  suppressWarnings() to suppress this warning.)\"\n",
      "Warning message in .merge_two_Seqinfo_objects(x, y):\n",
      "\"The 2 combined objects have no sequence levels in common. (Use\n",
      "  suppressWarnings() to suppress this warning.)\"\n",
      "Warning message in .merge_two_Seqinfo_objects(x, y):\n",
      "\"The 2 combined objects have no sequence levels in common. (Use\n",
      "  suppressWarnings() to suppress this warning.)\"\n",
      "Warning message in .merge_two_Seqinfo_objects(x, y):\n",
      "\"The 2 combined objects have no sequence levels in common. (Use\n",
      "  suppressWarnings() to suppress this warning.)\"\n",
      "Warning message in .merge_two_Seqinfo_objects(x, y):\n",
      "\"The 2 combined objects have no sequence levels in common. (Use\n",
      "  suppressWarnings() to suppress this warning.)\"\n",
      "Warning message in .merge_two_Seqinfo_objects(x, y):\n",
      "\"The 2 combined objects have no sequence levels in common. (Use\n",
      "  suppressWarnings() to suppress this warning.)\"\n",
      "Warning message in .merge_two_Seqinfo_objects(x, y):\n",
      "\"The 2 combined objects have no sequence levels in common. (Use\n",
      "  suppressWarnings() to suppress this warning.)\"\n",
      "Warning message in .merge_two_Seqinfo_objects(x, y):\n",
      "\"The 2 combined objects have no sequence levels in common. (Use\n",
      "  suppressWarnings() to suppress this warning.)\"\n",
      "Warning message in .merge_two_Seqinfo_objects(x, y):\n",
      "\"The 2 combined objects have no sequence levels in common. (Use\n",
      "  suppressWarnings() to suppress this warning.)\"\n",
      "Warning message in .merge_two_Seqinfo_objects(x, y):\n",
      "\"The 2 combined objects have no sequence levels in common. (Use\n",
      "  suppressWarnings() to suppress this warning.)\"\n",
      "Warning message in .merge_two_Seqinfo_objects(x, y):\n",
      "\"The 2 combined objects have no sequence levels in common. (Use\n",
      "  suppressWarnings() to suppress this warning.)\"\n",
      "Warning message in .merge_two_Seqinfo_objects(x, y):\n",
      "\"The 2 combined objects have no sequence levels in common. (Use\n",
      "  suppressWarnings() to suppress this warning.)\"\n",
      "Warning message in .merge_two_Seqinfo_objects(x, y):\n",
      "\"The 2 combined objects have no sequence levels in common. (Use\n",
      "  suppressWarnings() to suppress this warning.)\"\n",
      "Warning message in .merge_two_Seqinfo_objects(x, y):\n",
      "\"The 2 combined objects have no sequence levels in common. (Use\n",
      "  suppressWarnings() to suppress this warning.)\"\n",
      "Warning message in .merge_two_Seqinfo_objects(x, y):\n",
      "\"The 2 combined objects have no sequence levels in common. (Use\n",
      "  suppressWarnings() to suppress this warning.)\"\n",
      "Warning message in .merge_two_Seqinfo_objects(x, y):\n",
      "\"The 2 combined objects have no sequence levels in common. (Use\n",
      "  suppressWarnings() to suppress this warning.)\"\n",
      "Warning message in .merge_two_Seqinfo_objects(x, y):\n",
      "\"The 2 combined objects have no sequence levels in common. (Use\n",
      "  suppressWarnings() to suppress this warning.)\"\n",
      "Warning message in .merge_two_Seqinfo_objects(x, y):\n",
      "\"The 2 combined objects have no sequence levels in common. (Use\n",
      "  suppressWarnings() to suppress this warning.)\"\n",
      "Warning message in .merge_two_Seqinfo_objects(x, y):\n",
      "\"The 2 combined objects have no sequence levels in common. (Use\n",
      "  suppressWarnings() to suppress this warning.)\"\n",
      "Warning message in .merge_two_Seqinfo_objects(x, y):\n",
      "\"The 2 combined objects have no sequence levels in common. (Use\n",
      "  suppressWarnings() to suppress this warning.)\"\n",
      "Warning message in .merge_two_Seqinfo_objects(x, y):\n",
      "\"The 2 combined objects have no sequence levels in common. (Use\n",
      "  suppressWarnings() to suppress this warning.)\"\n",
      "Warning message in .merge_two_Seqinfo_objects(x, y):\n",
      "\"The 2 combined objects have no sequence levels in common. (Use\n",
      "  suppressWarnings() to suppress this warning.)\"\n",
      "Warning message in .merge_two_Seqinfo_objects(x, y):\n",
      "\"The 2 combined objects have no sequence levels in common. (Use\n",
      "  suppressWarnings() to suppress this warning.)\"\n",
      "Warning message in .merge_two_Seqinfo_objects(x, y):\n",
      "\"The 2 combined objects have no sequence levels in common. (Use\n",
      "  suppressWarnings() to suppress this warning.)\"\n",
      "Warning message in .merge_two_Seqinfo_objects(x, y):\n",
      "\"The 2 combined objects have no sequence levels in common. (Use\n",
      "  suppressWarnings() to suppress this warning.)\"\n",
      "Warning message in .merge_two_Seqinfo_objects(x, y):\n",
      "\"The 2 combined objects have no sequence levels in common. (Use\n",
      "  suppressWarnings() to suppress this warning.)\"\n",
      "Warning message in .merge_two_Seqinfo_objects(x, y):\n",
      "\"The 2 combined objects have no sequence levels in common. (Use\n",
      "  suppressWarnings() to suppress this warning.)\"\n",
      "Warning message in .merge_two_Seqinfo_objects(x, y):\n",
      "\"The 2 combined objects have no sequence levels in common. (Use\n",
      "  suppressWarnings() to suppress this warning.)\"\n",
      "Warning message in .merge_two_Seqinfo_objects(x, y):\n",
      "\"The 2 combined objects have no sequence levels in common. (Use\n",
      "  suppressWarnings() to suppress this warning.)\"\n",
      "Warning message in .merge_two_Seqinfo_objects(x, y):\n",
      "\"The 2 combined objects have no sequence levels in common. (Use\n",
      "  suppressWarnings() to suppress this warning.)\"\n",
      "Warning message in .merge_two_Seqinfo_objects(x, y):\n",
      "\"The 2 combined objects have no sequence levels in common. (Use\n",
      "  suppressWarnings() to suppress this warning.)\"\n",
      "Warning message in .merge_two_Seqinfo_objects(x, y):\n",
      "\"The 2 combined objects have no sequence levels in common. (Use\n",
      "  suppressWarnings() to suppress this warning.)\"\n",
      "Warning message in .merge_two_Seqinfo_objects(x, y):\n",
      "\"The 2 combined objects have no sequence levels in common. (Use\n",
      "  suppressWarnings() to suppress this warning.)\"\n",
      "Warning message in .merge_two_Seqinfo_objects(x, y):\n",
      "\"The 2 combined objects have no sequence levels in common. (Use\n",
      "  suppressWarnings() to suppress this warning.)\"\n"
     ]
    }
   ],
   "source": [
    "snare <- Create_seurat(\n",
    "    rna_assay = RNA_count,\n",
    "    atac_assay = ATAC_count,\n",
    "    sep = c(\"-\", \"-\"),\n",
    "    fragment_file = NULL,\n",
    "    genome = \"hg38\"\n",
    ")"
   ]
  },
  {
   "cell_type": "code",
   "execution_count": 98,
   "metadata": {},
   "outputs": [
    {
     "data": {
      "text/plain": [
       "An object of class Seurat \n",
       "105458 features across 5710 samples within 2 assays \n",
       "Active assay: RNA (36495 features, 0 variable features)\n",
       " 1 other assay present: ATAC"
      ]
     },
     "metadata": {},
     "output_type": "display_data"
    },
    {
     "name": "stderr",
     "output_type": "stream",
     "text": [
      "Performing TF-IDF normalization\n",
      "\n",
      "Warning message in RunTFIDF.default(object = GetAssayData(object = object, slot = \"counts\"), :\n",
      "\"Some features contain 0 total counts\"\n"
     ]
    }
   ],
   "source": [
    "snare=QC_ATAC(proj = snare, fragment_file = NULL, genome = 'hg38', group = NULL)\n",
    "snare=QC_RNA(proj = snare, genome = 'hg38')\n",
    "snare <- subset(\n",
    "      x = snare,\n",
    "      subset = blacklist_fraction < 0.03 &\n",
    "      nCount_RNA > 800 &\n",
    "      nCount_ATAC > 500\n",
    ")\n",
    "snare\n",
    "\n",
    "DefaultAssay(snare) <- 'ATAC'\n",
    "snare <- RunTFIDF(snare)\n",
    "\n",
    "DefaultAssay(snare) <- \"RNA\"\n",
    "snare <- NormalizeData(snare)"
   ]
  },
  {
   "cell_type": "code",
   "execution_count": 101,
   "metadata": {},
   "outputs": [],
   "source": [
    "main.chroms <- standardChromosomes(BSgenome.Hsapiens.UCSC.hg38)\n",
    "keep.peaks <- which(as.character(seqnames(granges(snare@assays$ATAC))) %in% main.chroms)\n",
    "snare[[\"ATAC\"]] <- subset(snare[[\"ATAC\"]], features = rownames(snare[[\"ATAC\"]])[keep.peaks])"
   ]
  },
  {
   "cell_type": "code",
   "execution_count": 102,
   "metadata": {},
   "outputs": [],
   "source": [
    "DefaultAssay(snare) <- \"ATAC\"\n",
    "# first compute the GC content for each peak\n",
    "snare <- RegionStats(snare, genome = BSgenome.Hsapiens.UCSC.hg38)"
   ]
  },
  {
   "cell_type": "code",
   "execution_count": 105,
   "metadata": {
    "collapsed": true
   },
   "outputs": [
    {
     "name": "stderr",
     "output_type": "stream",
     "text": [
      "Warning message in .merge_two_Seqinfo_objects(x, y):\n",
      "\"The 2 combined objects have no sequence levels in common. (Use\n",
      "  suppressWarnings() to suppress this warning.)\"\n",
      "Warning message in .merge_two_Seqinfo_objects(x, y):\n",
      "\"The 2 combined objects have no sequence levels in common. (Use\n",
      "  suppressWarnings() to suppress this warning.)\"\n",
      "Warning message in .merge_two_Seqinfo_objects(x, y):\n",
      "\"The 2 combined objects have no sequence levels in common. (Use\n",
      "  suppressWarnings() to suppress this warning.)\"\n",
      "Warning message in .merge_two_Seqinfo_objects(x, y):\n",
      "\"The 2 combined objects have no sequence levels in common. (Use\n",
      "  suppressWarnings() to suppress this warning.)\"\n",
      "Warning message in .merge_two_Seqinfo_objects(x, y):\n",
      "\"The 2 combined objects have no sequence levels in common. (Use\n",
      "  suppressWarnings() to suppress this warning.)\"\n",
      "Warning message in .merge_two_Seqinfo_objects(x, y):\n",
      "\"The 2 combined objects have no sequence levels in common. (Use\n",
      "  suppressWarnings() to suppress this warning.)\"\n",
      "Warning message in .merge_two_Seqinfo_objects(x, y):\n",
      "\"The 2 combined objects have no sequence levels in common. (Use\n",
      "  suppressWarnings() to suppress this warning.)\"\n",
      "Warning message in .merge_two_Seqinfo_objects(x, y):\n",
      "\"The 2 combined objects have no sequence levels in common. (Use\n",
      "  suppressWarnings() to suppress this warning.)\"\n",
      "Warning message in .merge_two_Seqinfo_objects(x, y):\n",
      "\"The 2 combined objects have no sequence levels in common. (Use\n",
      "  suppressWarnings() to suppress this warning.)\"\n",
      "Warning message in .merge_two_Seqinfo_objects(x, y):\n",
      "\"The 2 combined objects have no sequence levels in common. (Use\n",
      "  suppressWarnings() to suppress this warning.)\"\n",
      "Warning message in .merge_two_Seqinfo_objects(x, y):\n",
      "\"The 2 combined objects have no sequence levels in common. (Use\n",
      "  suppressWarnings() to suppress this warning.)\"\n",
      "Warning message in .merge_two_Seqinfo_objects(x, y):\n",
      "\"The 2 combined objects have no sequence levels in common. (Use\n",
      "  suppressWarnings() to suppress this warning.)\"\n",
      "Warning message in .merge_two_Seqinfo_objects(x, y):\n",
      "\"The 2 combined objects have no sequence levels in common. (Use\n",
      "  suppressWarnings() to suppress this warning.)\"\n",
      "Warning message in .merge_two_Seqinfo_objects(x, y):\n",
      "\"The 2 combined objects have no sequence levels in common. (Use\n",
      "  suppressWarnings() to suppress this warning.)\"\n",
      "Warning message in .merge_two_Seqinfo_objects(x, y):\n",
      "\"The 2 combined objects have no sequence levels in common. (Use\n",
      "  suppressWarnings() to suppress this warning.)\"\n",
      "Warning message in .merge_two_Seqinfo_objects(x, y):\n",
      "\"The 2 combined objects have no sequence levels in common. (Use\n",
      "  suppressWarnings() to suppress this warning.)\"\n",
      "Warning message in .merge_two_Seqinfo_objects(x, y):\n",
      "\"The 2 combined objects have no sequence levels in common. (Use\n",
      "  suppressWarnings() to suppress this warning.)\"\n",
      "Warning message in .merge_two_Seqinfo_objects(x, y):\n",
      "\"The 2 combined objects have no sequence levels in common. (Use\n",
      "  suppressWarnings() to suppress this warning.)\"\n",
      "Warning message in .merge_two_Seqinfo_objects(x, y):\n",
      "\"The 2 combined objects have no sequence levels in common. (Use\n",
      "  suppressWarnings() to suppress this warning.)\"\n",
      "Warning message in .merge_two_Seqinfo_objects(x, y):\n",
      "\"The 2 combined objects have no sequence levels in common. (Use\n",
      "  suppressWarnings() to suppress this warning.)\"\n",
      "Warning message in .merge_two_Seqinfo_objects(x, y):\n",
      "\"The 2 combined objects have no sequence levels in common. (Use\n",
      "  suppressWarnings() to suppress this warning.)\"\n",
      "Warning message in .merge_two_Seqinfo_objects(x, y):\n",
      "\"The 2 combined objects have no sequence levels in common. (Use\n",
      "  suppressWarnings() to suppress this warning.)\"\n",
      "Warning message in .merge_two_Seqinfo_objects(x, y):\n",
      "\"The 2 combined objects have no sequence levels in common. (Use\n",
      "  suppressWarnings() to suppress this warning.)\"\n",
      "Warning message in .merge_two_Seqinfo_objects(x, y):\n",
      "\"The 2 combined objects have no sequence levels in common. (Use\n",
      "  suppressWarnings() to suppress this warning.)\"\n"
     ]
    }
   ],
   "source": [
    "annotations <- GetGRangesFromEnsDb(ensdb =EnsDb.Hsapiens.v86)\n",
    "suppressWarnings(seqlevelsStyle(annotations) <- 'UCSC')\n",
    "Annotation(snare[[\"ATAC\"]]) <- annotations"
   ]
  },
  {
   "cell_type": "code",
   "execution_count": null,
   "metadata": {},
   "outputs": [
    {
     "name": "stderr",
     "output_type": "stream",
     "text": [
      "Testing 17362 genes and 67226 peaks\n",
      "\n",
      "Found gene coordinates for 13242 genes\n",
      "\n"
     ]
    }
   ],
   "source": [
    "snare <- LinkPeaks(\n",
    "  object = snare,\n",
    "  # gene.coords =  gene_coords, \n",
    "  # distance = 10e+05,\n",
    "  peak.assay = \"ATAC\",\n",
    "  expression.assay = \"RNA\",\n",
    "  genes.use = snare@assays$RNA@counts@Dimnames[[1]]\n",
    ")"
   ]
  },
  {
   "cell_type": "code",
   "execution_count": null,
   "metadata": {},
   "outputs": [],
   "source": [
    "write.table(snare@assays$ATAC@links@elementMetadata,\n",
    "            paste0('../results/DORC/',test_id,'.csv'),\n",
    "            row.names = FALSE)"
   ]
  }
 ],
 "metadata": {
  "interpreter": {
   "hash": "839df536e9e75d1ff15f97ccc9ee9a2d66b3ef880df42ecf900c5b37f5a7921a"
  },
  "kernelspec": {
   "display_name": "R",
   "language": "R",
   "name": "ir"
  },
  "language_info": {
   "codemirror_mode": "r",
   "file_extension": ".r",
   "mimetype": "text/x-r-source",
   "name": "R",
   "pygments_lexer": "r",
   "version": "4.1.3"
  }
 },
 "nbformat": 4,
 "nbformat_minor": 2
}
