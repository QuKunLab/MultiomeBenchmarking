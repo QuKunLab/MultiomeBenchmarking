{
 "cells": [
  {
   "cell_type": "code",
   "execution_count": 32,
   "id": "e093dc82",
   "metadata": {},
   "outputs": [],
   "source": [
    "import pandas as pd\n",
    "import anndata as ad\n",
    "import numpy as np\n",
    "from scipy.sparse import csr_matrix, coo_matrix, csc_matrix\n",
    "from scipy.io import mmread, mmwrite\n",
    "import os\n",
    "from sklearn.metrics import roc_auc_score\n",
    "from sklearn.utils.multiclass import type_of_target\n",
    "from APEC import clustering,plot,generate\n",
    "from APEC import convert\n",
    "import scanpy as sc"
   ]
  },
  {
   "cell_type": "code",
   "execution_count": null,
   "id": "58466f18",
   "metadata": {},
   "outputs": [],
   "source": [
    "data_id <- \"Dataset36\""
   ]
  },
  {
   "cell_type": "code",
   "execution_count": 33,
   "id": "8d0d9190",
   "metadata": {},
   "outputs": [],
   "source": [
    "convert.convert_10X('../data/' + data_id ,\"../data/\" + data_id )"
   ]
  },
  {
   "cell_type": "code",
   "execution_count": 34,
   "id": "6bd87c85",
   "metadata": {},
   "outputs": [
    {
     "name": "stdout",
     "output_type": "stream",
     "text": [
      "build_accesson output files:\n",
      "/public/home/luoyuanhanyu/Benchmark/allData/stim_ctrl/matrix/Accesson_peaks.csv\n",
      "/public/home/luoyuanhanyu/Benchmark/allData/stim_ctrl/matrix/Accesson_reads.csv\n"
     ]
    }
   ],
   "source": [
    "clustering.build_accesson('../data/' + data_id, ngroup=600)"
   ]
  }
 ],
 "metadata": {
  "kernelspec": {
   "display_name": "apec_env",
   "language": "python",
   "name": "apec_env"
  },
  "language_info": {
   "codemirror_mode": {
    "name": "ipython",
    "version": 3
   },
   "file_extension": ".py",
   "mimetype": "text/x-python",
   "name": "python",
   "nbconvert_exporter": "python",
   "pygments_lexer": "ipython3",
   "version": "3.6.8"
  }
 },
 "nbformat": 4,
 "nbformat_minor": 5
}
