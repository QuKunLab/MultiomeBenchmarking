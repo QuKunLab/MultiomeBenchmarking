{
 "cells": [
  {
   "cell_type": "code",
   "execution_count": 36,
   "id": "8f6d6f83",
   "metadata": {},
   "outputs": [],
   "source": [
    "import pandas as pd\n",
    "import anndata as ad\n",
    "import numpy as np\n",
    "from scipy.sparse import csr_matrix, coo_matrix, csc_matrix\n",
    "from scipy.io import mmread, mmwrite\n",
    "import os\n",
    "import cv2\n",
    "import numpy as np\n",
    "from sklearn.metrics import roc_auc_score\n",
    "from sklearn.utils.multiclass import type_of_target\n",
    "from sklearn.metrics import roc_curve, auc"
   ]
  },
  {
   "cell_type": "code",
   "execution_count": null,
   "id": "7657c665",
   "metadata": {},
   "outputs": [],
   "source": [
    "train_id = \"Dataset35\"\n",
    "test_id = \"Dataset36\""
   ]
  },
  {
   "cell_type": "code",
   "execution_count": null,
   "id": "2a3841b6",
   "metadata": {},
   "outputs": [],
   "source": [
    "#KAUST\n",
    "true=pd.read_csv(\"../results/LS_Lab/LS_Lab_\" + train_id + \"_\" + test_id + \"_true.csv\",sep=\",\",index_col=0)\n",
    "pred=pd.read_csv(\"../results/LS_Lab/LS_Lab_\" + train_id + \"_\" + test_id + \"_pred.csv\",sep=\",\",index_col=0)"
   ]
  },
  {
   "cell_type": "code",
   "execution_count": null,
   "id": "82384e6b",
   "metadata": {},
   "outputs": [],
   "source": [
    "true.columns=pred.columns\n",
    "true[true > 1] = 1"
   ]
  },
  {
   "cell_type": "code",
   "execution_count": null,
   "id": "74b9b632",
   "metadata": {},
   "outputs": [],
   "source": [
    "roc_peak=[]\n",
    "for i in range(0,true.shape[0]):\n",
    "    sample = np.array(true.iloc[i])\n",
    "    sample = sample.astype(np.int64)\n",
    "    y_type = type_of_target(sample)\n",
    "    roc = roc_auc_score(sample, pred.iloc[i])\n",
    "    roc_peak.append(roc)"
   ]
  },
  {
   "cell_type": "code",
   "execution_count": null,
   "id": "5146feb3",
   "metadata": {},
   "outputs": [],
   "source": [
    "roc_peak_df=pd.DataFrame(roc_peak)\n",
    "roc_peak_df.insert(loc=1, column='identity', value=\"LS_Lab\")\n",
    "roc_peak_df.columns=['roc','identity']"
   ]
  },
  {
   "cell_type": "code",
   "execution_count": null,
   "id": "58fb0150",
   "metadata": {},
   "outputs": [],
   "source": [
    "roc_cell=[]\n",
    "for i in range(0,true.shape[1]):\n",
    "    sample = np.array(true.iloc[:,i])\n",
    "    sample = sample.astype(np.int64)\n",
    "    y_type = type_of_target(sample)\n",
    "    try:\n",
    "        roc = roc_auc_score(sample, pred.iloc[:,i])\n",
    "    except ValueError:\n",
    "        pass\n",
    "    roc_cell.append(roc)"
   ]
  },
  {
   "cell_type": "code",
   "execution_count": null,
   "id": "9e702422",
   "metadata": {},
   "outputs": [],
   "source": [
    "roc_cell_df=pd.DataFrame(roc_cell)\n",
    "roc_cell_df.insert(loc=1, column='identity', value=\"LS_Lab\")\n",
    "roc_cell_df.columns=['roc','identity']"
   ]
  },
  {
   "cell_type": "code",
   "execution_count": null,
   "id": "002cfdd1",
   "metadata": {},
   "outputs": [],
   "source": [
    "roc_peak_df.to_csv(\"../results/ROC/LS_Lab_\" + train_id + \"_\" + test_id + \"_peak_ROC.csv\",index=False)\n",
    "roc_cell_df.to_csv(\"../results/ROC/LS_Lab_\" + train_id + \"_\" + test_id + \"_cell_ROC.csv\",index=False)"
   ]
  },
  {
   "cell_type": "code",
   "execution_count": null,
   "id": "1d3926a4",
   "metadata": {},
   "outputs": [],
   "source": [
    "# BABEL\n",
    "true=pd.read_csv(\"../results/BABEL/BABEL_\" + train_id + \"_\" + test_id + \"_true.csv\",sep=\",\",index_col=0)\n",
    "pred=pd.read_csv(\"../results/BABEL/BABEL_\" + train_id + \"_\" + test_id + \"_pred.csv\",sep=\",\",index_col=0)"
   ]
  },
  {
   "cell_type": "code",
   "execution_count": null,
   "id": "29076d79",
   "metadata": {},
   "outputs": [],
   "source": [
    "true[true > 1] = 1"
   ]
  },
  {
   "cell_type": "code",
   "execution_count": null,
   "id": "1438e3c0",
   "metadata": {},
   "outputs": [],
   "source": [
    "roc_peak=[]\n",
    "for i in range(0,true.shape[0]):\n",
    "    sample = np.array(true.iloc[i])\n",
    "    sample = sample.astype(np.int64)\n",
    "    y_type = type_of_target(sample)\n",
    "    try:\n",
    "        roc = roc_auc_score(sample, pred.iloc[i])\n",
    "    except ValueError:\n",
    "        pass\n",
    "    roc_peak.append(roc)"
   ]
  },
  {
   "cell_type": "code",
   "execution_count": null,
   "id": "917f8a80",
   "metadata": {},
   "outputs": [],
   "source": [
    "roc_peak_df=pd.DataFrame(roc_peak)\n",
    "roc_peak_df.insert(loc=1, column='identity', value=\"BABEL\")\n",
    "roc_peak_df.columns=['roc','identity']"
   ]
  },
  {
   "cell_type": "code",
   "execution_count": null,
   "id": "5335cbdf",
   "metadata": {},
   "outputs": [],
   "source": [
    "roc_cell=[]\n",
    "for i in range(0,true.shape[1]):\n",
    "    sample = np.array(true.iloc[:,i])\n",
    "    sample = sample.astype(np.int64)\n",
    "    y_type = type_of_target(sample)\n",
    "    try:\n",
    "        roc = roc_auc_score(sample, pred.iloc[:,i])\n",
    "    except ValueError:\n",
    "        pass\n",
    "    roc_cell.append(roc)"
   ]
  },
  {
   "cell_type": "code",
   "execution_count": null,
   "id": "882a0d6d",
   "metadata": {},
   "outputs": [],
   "source": [
    "roc_cell_df=pd.DataFrame(roc_cell)\n",
    "roc_cell_df.insert(loc=1, column='identity', value=\"BABEL\")\n",
    "roc_cell_df.columns=['roc','identity']"
   ]
  },
  {
   "cell_type": "code",
   "execution_count": null,
   "id": "d4d19bad",
   "metadata": {},
   "outputs": [],
   "source": [
    "roc_peak_df.to_csv(\"../results/ROC/BABEL_\" + train_id + \"_\" + test_id + \"_peak_ROC.csv\",index=False)\n",
    "roc_cell_df.to_csv(\"../results/ROC/BABEL_\" + train_id + \"_\" + test_id + \"_cell_ROC.csv\",index=False)"
   ]
  },
  {
   "cell_type": "code",
   "execution_count": null,
   "id": "5675a51d",
   "metadata": {},
   "outputs": [],
   "source": [
    "#DANCE"
   ]
  },
  {
   "cell_type": "code",
   "execution_count": null,
   "id": "5936af6b",
   "metadata": {},
   "outputs": [],
   "source": [
    "true=pd.read_csv(\"../results/ScMoGCN/ScMoGCN_\" + train_id + \"_\" + test_id + \"_true.csv\",sep=\",\",index_col=0)\n",
    "pred=pd.read_csv(\"../results/ScMoGCN/ScMoGCN_\" + train_id + \"_\" + test_id + \"_pred.csv\",sep=\",\",index_col=0)"
   ]
  },
  {
   "cell_type": "code",
   "execution_count": null,
   "id": "dc8ab653",
   "metadata": {},
   "outputs": [],
   "source": [
    "true[true > 1] = 1"
   ]
  },
  {
   "cell_type": "code",
   "execution_count": null,
   "id": "5b4950e9",
   "metadata": {},
   "outputs": [],
   "source": [
    "roc_peak=[]\n",
    "for i in range(0,true.shape[0]):\n",
    "    sample = np.array(true.iloc[i])\n",
    "    sample = sample.astype(np.int64)\n",
    "    y_type = type_of_target(sample)\n",
    "    try:\n",
    "        roc = roc_auc_score(sample, pred.iloc[i])\n",
    "    except ValueError:\n",
    "        pass\n",
    "    roc_peak.append(roc)"
   ]
  },
  {
   "cell_type": "code",
   "execution_count": null,
   "id": "49abe69a",
   "metadata": {},
   "outputs": [],
   "source": [
    "roc_peak_df=pd.DataFrame(roc_peak)\n",
    "roc_peak_df.insert(loc=1, column='identity', value=\"ScMoGCN\")\n",
    "roc_peak_df.columns=['roc','identity']"
   ]
  },
  {
   "cell_type": "code",
   "execution_count": null,
   "id": "c260aa5a",
   "metadata": {},
   "outputs": [],
   "source": [
    "roc_cell=[]\n",
    "for i in range(0,true.shape[1]):\n",
    "    sample = np.array(true.iloc[:,i])\n",
    "    sample = sample.astype(np.int64)\n",
    "    y_type = type_of_target(sample)\n",
    "    try:\n",
    "        roc = roc_auc_score(sample, pred.iloc[:,i])\n",
    "    except ValueError:\n",
    "        pass\n",
    "    roc_cell.append(roc)"
   ]
  },
  {
   "cell_type": "code",
   "execution_count": null,
   "id": "46b18458",
   "metadata": {},
   "outputs": [],
   "source": [
    "roc_cell_df=pd.DataFrame(roc_cell)\n",
    "roc_cell_df.insert(loc=1, column='identity', value=\"ScMoGCN\")\n",
    "roc_cell_df.columns=['roc','identity']"
   ]
  },
  {
   "cell_type": "code",
   "execution_count": null,
   "id": "1042d0ca",
   "metadata": {},
   "outputs": [],
   "source": [
    "roc_peak_df.to_csv(\"../results/ROC/ScMoGCN_\" + train_id + \"_\" + test_id + \"_peak_ROC.csv\",index=False)\n",
    "roc_cell_df.to_csv(\"../results/ROC/ScMoGCN_\" + train_id + \"_\" + test_id + \"_cell_ROC.csv\",index=False)"
   ]
  },
  {
   "cell_type": "code",
   "execution_count": null,
   "id": "0671a16d",
   "metadata": {},
   "outputs": [],
   "source": [
    "##MultiVI"
   ]
  },
  {
   "cell_type": "code",
   "execution_count": null,
   "id": "d88bbbc3",
   "metadata": {},
   "outputs": [],
   "source": [
    "true=pd.read_csv(\"../results/MultiVI/MultiVI_\" + train_id + \"_\" + test_id + \"_true.csv\",sep=\",\",index_col=0)\n",
    "pred=pd.read_csv(\"../results/MultiVI/MultiVI_\" + train_id + \"_\" + test_id + \"_pred.csv\",sep=\",\",index_col=0)"
   ]
  },
  {
   "cell_type": "code",
   "execution_count": null,
   "id": "42489157",
   "metadata": {},
   "outputs": [],
   "source": [
    "true[true > 1] = 1"
   ]
  },
  {
   "cell_type": "code",
   "execution_count": null,
   "id": "4d7ab02e",
   "metadata": {},
   "outputs": [],
   "source": [
    "true=true.T\n",
    "indexes=[pred.index[i].split('_')[0] for i in range(len(pred.index))]\n",
    "pred.index=indexes\n",
    "peak_trim=true.columns.values.flatten().tolist()\n",
    "cell_trim=true.index.values.flatten().tolist()\n",
    "pred=pred.loc[cell_trim]\n",
    "idx = np.unique(pred.index, return_index=True)[1]\n",
    "pred=pred.iloc[idx]\n",
    "overlap=list(set(pred.columns).intersection(set(true.columns)))\n",
    "pred=pred.loc[:,overlap]\n",
    "true=true.loc[:,overlap]\n",
    "pred=pred.T.sort_index()\n",
    "true=true.T.sort_index()"
   ]
  },
  {
   "cell_type": "code",
   "execution_count": null,
   "id": "81d4121f",
   "metadata": {},
   "outputs": [],
   "source": [
    "roc_peak=[]\n",
    "for i in range(0,true.shape[0]):\n",
    "    sample = np.array(true.iloc[i])\n",
    "    sample = sample.astype(np.int64)\n",
    "    y_type = type_of_target(sample)\n",
    "    try:\n",
    "        roc = roc_auc_score(sample, pred.iloc[i])\n",
    "    except ValueError:\n",
    "        pass\n",
    "    roc_peak.append(roc)"
   ]
  },
  {
   "cell_type": "code",
   "execution_count": null,
   "id": "97bf481c",
   "metadata": {},
   "outputs": [],
   "source": [
    "roc_peak_df=pd.DataFrame(roc_peak)\n",
    "roc_peak_df.insert(loc=1, column='identity', value=\"MultiVI\")\n",
    "roc_peak_df.columns=['roc','identity']"
   ]
  },
  {
   "cell_type": "code",
   "execution_count": null,
   "id": "ca5b8be9",
   "metadata": {},
   "outputs": [],
   "source": [
    "roc_cell=[]\n",
    "for i in range(0,true.shape[1]):\n",
    "    sample = np.array(true.iloc[:,i])\n",
    "    sample = sample.astype(np.int64)\n",
    "    y_type = type_of_target(sample)\n",
    "    try:\n",
    "        roc = roc_auc_score(sample, pred.iloc[:,i])\n",
    "    except ValueError:\n",
    "        pass\n",
    "    roc_cell.append(roc)"
   ]
  },
  {
   "cell_type": "code",
   "execution_count": null,
   "id": "e37a5a58",
   "metadata": {},
   "outputs": [],
   "source": [
    "roc_cell_df=pd.DataFrame(roc_cell)\n",
    "roc_cell_df.insert(loc=1, column='identity', value=\"MultiVI\")\n",
    "roc_cell_df.columns=['roc','identity']"
   ]
  },
  {
   "cell_type": "code",
   "execution_count": null,
   "id": "9a642ef9",
   "metadata": {},
   "outputs": [],
   "source": [
    "roc_peak_df.to_csv(\"../results/ROC/MultiVI_\" + train_id + \"_\" + test_id + \"_peak_ROC.csv\",index=False)\n",
    "roc_cell_df.to_csv(\"../results/ROC/MultiVI_\" + train_id + \"_\" + test_id + \"_cell_ROC.csv\",index=False)"
   ]
  },
  {
   "cell_type": "code",
   "execution_count": null,
   "id": "b1422c91",
   "metadata": {},
   "outputs": [],
   "source": [
    "#CMAE"
   ]
  },
  {
   "cell_type": "code",
   "execution_count": null,
   "id": "df6f0bee",
   "metadata": {},
   "outputs": [],
   "source": [
    "true=pd.read_csv(\"../results/CMAE/CMAE_\" + train_id + \"_\" + test_id + \"_true.csv\",sep=\",\",index_col=0)\n",
    "pred=pd.read_csv(\"../results/CMAE/CMAE_\" + train_id + \"_\" + test_id + \"_pred.csv\",sep=\",\",index_col=0)"
   ]
  },
  {
   "cell_type": "code",
   "execution_count": null,
   "id": "c9030323",
   "metadata": {},
   "outputs": [],
   "source": [
    "true[true > 1] = 1"
   ]
  },
  {
   "cell_type": "code",
   "execution_count": null,
   "id": "4caf8420",
   "metadata": {},
   "outputs": [],
   "source": [
    "roc_peak=[]\n",
    "for i in range(0,true.shape[0]):\n",
    "    sample = np.array(true.iloc[i])\n",
    "    sample = sample.astype(np.int64)\n",
    "    y_type = type_of_target(sample)\n",
    "    try:\n",
    "        roc = roc_auc_score(sample, pred.iloc[i])\n",
    "    except ValueError:\n",
    "        pass\n",
    "    roc_peak.append(roc)"
   ]
  },
  {
   "cell_type": "code",
   "execution_count": null,
   "id": "f55b3f99",
   "metadata": {},
   "outputs": [],
   "source": [
    "roc_peak_df=pd.DataFrame(roc_peak)\n",
    "roc_peak_df.insert(loc=1, column='identity', value=\"CMAE\")\n",
    "roc_peak_df.columns=['roc','identity']"
   ]
  },
  {
   "cell_type": "code",
   "execution_count": null,
   "id": "a2040f83",
   "metadata": {},
   "outputs": [],
   "source": [
    "roc_cell=[]\n",
    "for i in range(0,true.shape[1]):\n",
    "    sample = np.array(true.iloc[:,i])\n",
    "    sample = sample.astype(np.int64)\n",
    "    y_type = type_of_target(sample)\n",
    "    try:\n",
    "        roc = roc_auc_score(sample, pred.iloc[:,i])\n",
    "    except ValueError:\n",
    "        pass\n",
    "    roc_cell.append(roc)"
   ]
  },
  {
   "cell_type": "code",
   "execution_count": null,
   "id": "c3730750",
   "metadata": {},
   "outputs": [],
   "source": [
    "roc_cell_df=pd.DataFrame(roc_cell)\n",
    "roc_cell_df.insert(loc=1, column='identity', value=\"CMAE\")\n",
    "roc_cell_df.columns=['roc','identity']"
   ]
  },
  {
   "cell_type": "code",
   "execution_count": null,
   "id": "e1473053",
   "metadata": {},
   "outputs": [],
   "source": [
    "roc_peak_df.to_csv(\"../results/ROC/CMAE_\" + train_id + \"_\" + test_id + \"_peak_ROC.csv\",index=False)\n",
    "roc_cell_df.to_csv(\"../results/ROC/CMAE_\" + train_id + \"_\" + test_id + \"_cell_ROC.csv\",index=False)"
   ]
  },
  {
   "cell_type": "code",
   "execution_count": null,
   "id": "c5e3e044",
   "metadata": {},
   "outputs": [],
   "source": [
    "#Seurat"
   ]
  },
  {
   "cell_type": "code",
   "execution_count": null,
   "id": "1de7518e",
   "metadata": {},
   "outputs": [],
   "source": [
    "true=pd.read_csv(\"../results/Seurat/Seurat_\" + train_id + \"_\" + test_id + \"_true.csv\",sep=\",\",index_col=0)\n",
    "pred=pd.read_csv(\"../results/Seurat/Seurat_\" + train_id + \"_\" + test_id + \"_pred.csv\",sep=\",\",index_col=0)"
   ]
  },
  {
   "cell_type": "code",
   "execution_count": null,
   "id": "8f762f21",
   "metadata": {},
   "outputs": [],
   "source": [
    "true[true > 1] = 1"
   ]
  },
  {
   "cell_type": "code",
   "execution_count": null,
   "id": "cd2a7c68",
   "metadata": {},
   "outputs": [],
   "source": [
    "pred=pred.loc[true.index.values.flatten(),]"
   ]
  },
  {
   "cell_type": "code",
   "execution_count": null,
   "id": "a91042e2",
   "metadata": {},
   "outputs": [],
   "source": [
    "roc_peak=[]\n",
    "for i in range(0,true_trim.shape[0]):\n",
    "    sample = np.array(true_trim.iloc[i])\n",
    "    sample = sample.astype(np.int64)\n",
    "    y_type = type_of_target(sample)\n",
    "    try:\n",
    "        roc = roc_auc_score(sample, pred.iloc[i])\n",
    "    except ValueError:\n",
    "        pass\n",
    "    roc_peak.append(roc)"
   ]
  },
  {
   "cell_type": "code",
   "execution_count": null,
   "id": "b5ebf8c4",
   "metadata": {},
   "outputs": [],
   "source": [
    "roc_peak_df=pd.DataFrame(roc_peak)\n",
    "roc_peak_df.insert(loc=1, column='identity', value=\"Seurat\")\n",
    "roc_peak_df.columns=['roc','identity']"
   ]
  },
  {
   "cell_type": "code",
   "execution_count": null,
   "id": "433d7fd4",
   "metadata": {},
   "outputs": [],
   "source": [
    "roc_cell=[]\n",
    "for i in range(0,true_trim.shape[1]):\n",
    "    sample = np.array(true_trim.iloc[:,i])\n",
    "    sample = sample.astype(np.int64)\n",
    "    y_type = type_of_target(sample)\n",
    "    try:\n",
    "        roc = roc_auc_score(sample, pred.iloc[:,i])\n",
    "    except ValueError:\n",
    "        pass\n",
    "    roc_cell.append(roc)"
   ]
  },
  {
   "cell_type": "code",
   "execution_count": null,
   "id": "cd5810be",
   "metadata": {},
   "outputs": [],
   "source": [
    "roc_cell_df=pd.DataFrame(roc_cell)\n",
    "roc_cell_df.insert(loc=1, column='identity', value=\"Seurat\")\n",
    "roc_cell_df.columns=['roc','identity']"
   ]
  },
  {
   "cell_type": "code",
   "execution_count": null,
   "id": "3dd8b5d1",
   "metadata": {},
   "outputs": [],
   "source": [
    "roc_peak_df.to_csv(\"../results/ROC/Seurat_\" + train_id + \"_\" + test_id + \"_peak_ROC.csv\",index=False)\n",
    "roc_cell_df.to_csv(\"../results/ROC/Seurat_\" + train_id + \"_\" + test_id + \"_cell_ROC.csv\",index=False)"
   ]
  },
  {
   "cell_type": "code",
   "execution_count": 38,
   "id": "527401f4",
   "metadata": {},
   "outputs": [],
   "source": [
    "#LIGER"
   ]
  },
  {
   "cell_type": "code",
   "execution_count": 54,
   "id": "db09e7d6",
   "metadata": {},
   "outputs": [],
   "source": [
    "true=pd.read_csv(\"../results/LIGER/LIGER_\" + train_id + \"_\" + test_id + \"_true.csv\",sep=\",\",index_col=0)\n",
    "pred=pd.read_csv(\"../results/LIGER/LIGER_\" + train_id + \"_\" + test_id + \"_pred.csv\",sep=\",\",index_col=0)"
   ]
  },
  {
   "cell_type": "code",
   "execution_count": 56,
   "id": "e965f2d6",
   "metadata": {},
   "outputs": [],
   "source": [
    "true[true > 1] = 1"
   ]
  },
  {
   "cell_type": "code",
   "execution_count": 57,
   "id": "396e29d2",
   "metadata": {},
   "outputs": [],
   "source": [
    "true=true.T"
   ]
  },
  {
   "cell_type": "code",
   "execution_count": 60,
   "id": "160fe79a",
   "metadata": {},
   "outputs": [],
   "source": [
    "pred=pred.loc[true.index]"
   ]
  },
  {
   "cell_type": "code",
   "execution_count": 62,
   "id": "36976c4e",
   "metadata": {},
   "outputs": [],
   "source": [
    "true=true.loc[:,pred.columns]"
   ]
  },
  {
   "cell_type": "code",
   "execution_count": 64,
   "id": "1323fd81",
   "metadata": {},
   "outputs": [],
   "source": [
    "roc_peak=[]\n",
    "for i in range(0,true.shape[0]):\n",
    "    sample = np.array(true.iloc[i])\n",
    "    sample = sample.astype(np.int64)\n",
    "    y_type = type_of_target(sample)\n",
    "    try:\n",
    "        roc = roc_auc_score(sample, pred.iloc[i])\n",
    "    except ValueError:\n",
    "        pass\n",
    "    roc_peak.append(roc)"
   ]
  },
  {
   "cell_type": "code",
   "execution_count": 65,
   "id": "a0ee79e3",
   "metadata": {},
   "outputs": [],
   "source": [
    "roc_peak_df=pd.DataFrame(roc_peak)\n",
    "roc_peak_df.insert(loc=1, column='identity', value=\"LIGER\")\n",
    "roc_peak_df.columns=['roc','identity']"
   ]
  },
  {
   "cell_type": "code",
   "execution_count": 66,
   "id": "9dea5170",
   "metadata": {},
   "outputs": [],
   "source": [
    "roc_cell=[]\n",
    "for i in range(0,true.shape[1]):\n",
    "    sample = np.array(true.iloc[:,i])\n",
    "    sample = sample.astype(np.int64)\n",
    "    y_type = type_of_target(sample)\n",
    "    try:\n",
    "        roc = roc_auc_score(sample, pred.iloc[:,i])\n",
    "    except ValueError:\n",
    "        pass\n",
    "    roc_cell.append(roc)"
   ]
  },
  {
   "cell_type": "code",
   "execution_count": 67,
   "id": "06c3ebba",
   "metadata": {},
   "outputs": [],
   "source": [
    "roc_cell_df=pd.DataFrame(roc_cell)\n",
    "roc_cell_df.insert(loc=1, column='identity', value=\"LIGER\")\n",
    "roc_cell_df.columns=['roc','identity']"
   ]
  },
  {
   "cell_type": "code",
   "execution_count": 68,
   "id": "5d590eb0",
   "metadata": {},
   "outputs": [],
   "source": [
    "roc_peak_df.to_csv(\"../results/ROC/LIGER_\" + train_id + \"_\" + test_id + \"_peak_ROC.csv\",index=False)\n",
    "roc_cell_df.to_csv(\"../results/ROC/LIGER_\" + train_id + \"_\" + test_id + \"_cell_ROC.csv\",index=False)"
   ]
  },
  {
   "cell_type": "code",
   "execution_count": null,
   "id": "b7ef34f2",
   "metadata": {},
   "outputs": [],
   "source": []
  }
 ],
 "metadata": {
  "kernelspec": {
   "display_name": "base",
   "language": "python",
   "name": "base"
  },
  "language_info": {
   "codemirror_mode": {
    "name": "ipython",
    "version": 3
   },
   "file_extension": ".py",
   "mimetype": "text/x-python",
   "name": "python",
   "nbconvert_exporter": "python",
   "pygments_lexer": "ipython3",
   "version": "3.9.10"
  }
 },
 "nbformat": 4,
 "nbformat_minor": 5
}
