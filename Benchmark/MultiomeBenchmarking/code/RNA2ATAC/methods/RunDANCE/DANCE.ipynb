{
 "cells": [
  {
   "cell_type": "code",
   "execution_count": null,
   "metadata": {},
   "outputs": [],
   "source": [
    "import pandas as pd\n",
    "import anndata as ad\n",
    "from scipy.sparse import csr_matrix, coo_matrix, csc_matrix\n",
    "from scipy.io import mmread, mmwrite\n",
    "import os\n",
    "import numpy as np"
   ]
  },
  {
   "cell_type": "code",
   "execution_count": null,
   "metadata": {},
   "outputs": [],
   "source": [
    "def read_RNA_ATAC(RNA_path, ATAC_path):\n",
    "    # gene expression\n",
    "    cell_names = pd.read_csv(RNA_path+'barcodes.tsv', sep = '\\t', header=None, index_col=None)\n",
    "    cell_names.columns =  ['cell_ids'] \n",
    "    X = csr_matrix(mmread(RNA_path+'matrix.mtx').T)\n",
    "    gene_names = pd.read_csv(RNA_path+'genes.tsv', sep = '\\t',  header=None, index_col=None) \n",
    "    gene_names.columns =  ['gene_ids'] \n",
    "    adata_RNA = ad.AnnData(X, obs=pd.DataFrame(index=cell_names.cell_ids), var=pd.DataFrame(index = gene_names.gene_ids))\n",
    "    adata_RNA.var_names_make_unique()\n",
    "    if ATAC_path is None:\n",
    "        return adata_RNA\n",
    "    # peak information\n",
    "    cell_names = pd.read_csv(ATAC_path + 'barcodes.tsv', sep = '\\t', header=None, index_col=None)\n",
    "    cell_names.columns =  ['cell_ids'] \n",
    "    X = csr_matrix(mmread(ATAC_path + 'matrix.mtx').T)\n",
    "    peak_name = pd.read_csv(ATAC_path + 'peaks.bed',header=None,index_col=None)\n",
    "    peak_name.columns = ['peak_ids']\n",
    "    adata_ATAC  = ad.AnnData(X, obs=pd.DataFrame(index=cell_names.cell_ids), var=pd.DataFrame(index = peak_name.peak_ids))\n",
    "    return adata_RNA, adata_ATAC"
   ]
  },
  {
   "cell_type": "code",
   "execution_count": null,
   "metadata": {},
   "outputs": [],
   "source": [
    "# adata = ad.read_h5ad(\"../data_raw/openproblems_bmmc_multiome_phase2_rna/openproblems_bmmc_multiome_phase2_rna.censor_dataset.output_train_mod1.h5ad\")"
   ]
  },
  {
   "cell_type": "code",
   "execution_count": null,
   "metadata": {},
   "outputs": [],
   "source": [
    "train_id = \"Dataset33\"\n",
    "test_id = \"Dataset34\"\n",
    "path_train = \"../data/\"+ train_id\n",
    "path_test = \"../data/\"+ test_id\n",
    "input_train_mod1, input_train_mod2 = read_RNA_ATAC(path_train + \"/RNA/\", path_train + \"/ATAC/\")\n",
    "input_train_mod1.var['feature_types'] = pd.Categorical(len(input_train_mod1.var_names)*['GEX'])\n",
    "input_train_mod1.obs['batch'] = pd.Categorical(len(input_train_mod1.obs)*['batch1'])\n",
    "input_train_mod1.uns = {'dataset_id': 'human_pbmc_3k', 'organism': 'human'}\n",
    "input_train_mod1.layers['counts'] = input_train_mod1.X.copy()\n",
    "input_train_mod2.var['feature_types'] = pd.Categorical(len(input_train_mod2.var_names)*['ATAC'])\n",
    "input_train_mod2.obs['batch'] = pd.Categorical(len(input_train_mod2.obs)*['batch1'])\n",
    "input_train_mod2.uns = {'dataset_id': 'human_pbmc_3k', 'organism': 'human'}\n",
    "input_train_mod2.layers['counts'] = input_train_mod2.X.copy()"
   ]
  },
  {
   "cell_type": "code",
   "execution_count": null,
   "metadata": {},
   "outputs": [],
   "source": [
    "input_test_mod1, input_test_mod2 = read_RNA_ATAC(path_test + \"/RNA/\", path_test + \"/ATAC/\")\n",
    "input_test_mod1.var['feature_types'] = pd.Categorical(len(input_test_mod1.var_names)*['GEX'])\n",
    "input_test_mod1.obs['batch'] = pd.Categorical(len(input_test_mod1.obs)*['batch1'])\n",
    "input_test_mod1.uns = {'dataset_id': 'human_pbmc_3k', 'organism': 'human'}\n",
    "input_train_mod1.layers['counts'] = input_train_mod1.X.copy()\n",
    "input_test_mod2.var['feature_types'] = pd.Categorical(len(input_test_mod2.var_names)*['ATAC'])\n",
    "input_test_mod2.obs['batch'] = pd.Categorical(len(input_test_mod2.obs)*['batch1'])\n",
    "input_test_mod2.uns = {'dataset_id': 'human_pbmc_3k', 'organism': 'human'}\n",
    "input_train_mod2.layers['counts'] = input_train_mod2.X.copy()"
   ]
  },
  {
   "cell_type": "code",
   "execution_count": null,
   "metadata": {},
   "outputs": [],
   "source": [
    "os.chdir(\"../RNA2ATAC/methods/RunDANCE\")"
   ]
  },
  {
   "cell_type": "code",
   "execution_count": null,
   "metadata": {},
   "outputs": [],
   "source": [
    "input_train_mod1.write_h5ad(\"../data/openproblems_bmmc_multiome_phase2_rna/openproblems_bmmc_multiome_phase2_rna.censor_dataset.output_train_mod1.h5ad\", compression = \"gzip\")\n",
    "input_train_mod2.write_h5ad(\"../data/openproblems_bmmc_multiome_phase2_rna/openproblems_bmmc_multiome_phase2_rna.censor_dataset.output_train_mod2.h5ad\", compression = \"gzip\")\n",
    "input_test_mod1.write_h5ad(\"../data/openproblems_bmmc_multiome_phase2_rna/openproblems_bmmc_multiome_phase2_rna.censor_dataset.output_test_mod1.h5ad\", compression = \"gzip\")\n",
    "input_test_mod2.write_h5ad(\"../data/openproblems_bmmc_multiome_phase2_rna/openproblems_bmmc_multiome_phase2_rna.censor_dataset.output_test_mod2.h5ad\", compression = \"gzip\")"
   ]
  },
  {
   "cell_type": "code",
   "execution_count": null,
   "metadata": {},
   "outputs": [],
   "source": [
    "os.system('python ../babel.py --subtask openproblems_bmmc_multiome_phase2_rna --device cuda')"
   ]
  },
  {
   "cell_type": "code",
   "execution_count": null,
   "metadata": {},
   "outputs": [],
   "source": [
    "os.system('python ../cmae.py --subtask openproblems_bmmc_multiome_phase2_rna --device cuda')"
   ]
  },
  {
   "cell_type": "code",
   "execution_count": null,
   "metadata": {},
   "outputs": [],
   "source": [
    "os.system('python ../scmogcn.py --subtask openproblems_bmmc_multiome_phase2_rna --device cuda')"
   ]
  }
 ],
 "metadata": {
  "kernelspec": {
   "display_name": "Python 3 (ipykernel)",
   "language": "python",
   "name": "python3"
  },
  "language_info": {
   "codemirror_mode": {
    "name": "ipython",
    "version": 3
   },
   "file_extension": ".py",
   "mimetype": "text/x-python",
   "name": "python",
   "nbconvert_exporter": "python",
   "pygments_lexer": "ipython3",
   "version": "3.6.8"
  },
  "vscode": {
   "interpreter": {
    "hash": "0e81324b534e4997bc829a639a3448b587a6cbf20312db67bdd95564555a7d46"
   }
  }
 },
 "nbformat": 4,
 "nbformat_minor": 2
}
