{
 "cells": [
  {
   "cell_type": "code",
   "execution_count": 1,
   "id": "afacd1b3-8e85-4a31-9f97-8ac1778c146d",
   "metadata": {},
   "outputs": [],
   "source": [
    "import numpy as np\n",
    "import pandas as pd\n",
    "import scanpy as sc\n",
    "import anndata as ad\n",
    "from scipy.stats import pearsonr\n",
    "import matplotlib.pyplot as plt\n",
    "import seaborn as sns\n",
    "import argparse\n",
    "import os"
   ]
  },
  {
   "cell_type": "code",
   "execution_count": 2,
   "id": "7390f301-7a32-4a53-a089-1225ffaa9226",
   "metadata": {},
   "outputs": [],
   "source": [
    "from scipy.sparse import csr_matrix, coo_matrix, csc_matrix\n",
    "from scipy.io import mmread, mmwrite"
   ]
  },
  {
   "cell_type": "code",
   "execution_count": 3,
   "id": "bdf949da-926d-4492-9372-304c2ded1b48",
   "metadata": {},
   "outputs": [],
   "source": [
    "from scipy import stats"
   ]
  },
  {
   "cell_type": "code",
   "execution_count": 4,
   "id": "bd270edb-1679-4297-a2f4-c8a6432297e8",
   "metadata": {},
   "outputs": [],
   "source": [
    "import seaborn as sns"
   ]
  },
  {
   "cell_type": "code",
   "execution_count": 5,
   "id": "0d54bfa0-a59c-459a-a6c2-dfad8baf0349",
   "metadata": {},
   "outputs": [],
   "source": [
    "import matplotlib\n",
    "\n",
    "matplotlib.rcParams.update(matplotlib.rcParamsDefault)\n",
    "# matplotlib.rcParams['pdf.fonttype'] = 42\n",
    "# matplotlib.rcParams['ps.fonttype'] = 42\n",
    "# matplotlib.rcParams['font.serif'] = ['Arial']\n",
    "# # matplotlib.rcParams['font.serif'] = ['SimHei']\n",
    "# sc.settings.set_figure_params(dpi=150,dpi_save=300,facecolor='white',fontsize=10,figsize=(3,3))\n",
    "matplotlib.rcParams['font.serif'] = ['Arial']"
   ]
  },
  {
   "cell_type": "code",
   "execution_count": 6,
   "id": "e9ec73a7-2725-415a-8403-bad978349e61",
   "metadata": {},
   "outputs": [],
   "source": [
    "import warnings\n",
    "warnings.filterwarnings(\"ignore\")"
   ]
  },
  {
   "cell_type": "markdown",
   "id": "2923069c-743b-4c5b-8b07-ae8984fdb301",
   "metadata": {},
   "source": [
    "# 确定蛋白质所属 #"
   ]
  },
  {
   "cell_type": "code",
   "execution_count": 7,
   "id": "ee13d170-fe75-4b48-9bb5-03df97ada087",
   "metadata": {},
   "outputs": [],
   "source": [
    "dataset_num = \"dataset18_2\""
   ]
  },
  {
   "cell_type": "code",
   "execution_count": 8,
   "id": "fdb3840e-a1d3-4d81-a0b2-fe23525b2a12",
   "metadata": {},
   "outputs": [],
   "source": [
    "true_data_path = \"/home/qukun/wsy1216/WEDGE/TestData/dataset18_2/adata_test.h5ad\"\n",
    "test_data = sc.read(true_data_path)\n",
    "true_data = test_data.obsm['protein_expression']\n",
    "true_data.columns = true_data.columns.str.replace(\"-\",\"_\")\n",
    "true_data.columns = true_data.columns.str.replace(\".\",\"_\")"
   ]
  },
  {
   "cell_type": "code",
   "execution_count": 9,
   "id": "064a5fed-0100-4b25-bf2b-a86ad748b3f9",
   "metadata": {},
   "outputs": [],
   "source": [
    "protein_path = \"/home/qukun/wsy1216/WEDGE/TestData/gene2protein/\" + dataset_num + \"_adtdata.csv\"\n",
    "norm_proteins = pd.read_csv(protein_path,index_col = 0).T"
   ]
  },
  {
   "cell_type": "code",
   "execution_count": 10,
   "id": "3f0539f2-1539-41b9-87c5-356fe9ae3a3a",
   "metadata": {},
   "outputs": [],
   "source": [
    "##稀疏矩阵\n",
    "gene_path = \"/home/qukun/wsy1216/WEDGE/TestData/gene2protein/\" + dataset_num + \"_genedata.mtx\"\n",
    "\n",
    "norm_genes = mmread(gene_path) ##稀疏矩阵\n",
    "norm_genes = norm_genes.toarray()\n",
    "norm_genes = pd.DataFrame(data = norm_genes.T,index = test_data.obs_names,columns = test_data.var_names)"
   ]
  },
  {
   "cell_type": "code",
   "execution_count": 12,
   "id": "18e8132f-c268-4014-985e-2be13da08ac6",
   "metadata": {
    "tags": []
   },
   "outputs": [],
   "source": [
    "PCC_protein2genes = pd.DataFrame()\n",
    "for pro in range(norm_proteins.shape[1]):\n",
    "    pccs_protein2genes = []\n",
    "    for i in range(norm_genes.shape[1]):\n",
    "        x = np.array(norm_proteins[norm_proteins.columns[pro]])\n",
    "        y = np.array(norm_genes[norm_genes.columns[i]])    \n",
    "        pcc = pearsonr(x,y)[0]\n",
    "        pccs_protein2genes.append(pcc)\n",
    "    PCC_protein2genes = pd.concat([PCC_protein2genes,pd.DataFrame(data = pccs_protein2genes,columns = [norm_proteins.columns[pro]])],axis = 1)"
   ]
  },
  {
   "cell_type": "code",
   "execution_count": 13,
   "id": "ea669b17-f319-46ba-9a8b-41f24a2f0d97",
   "metadata": {},
   "outputs": [],
   "source": [
    "high_protein = PCC_protein2genes.max()[(PCC_protein2genes.max() > 0.5 ) == True]\n",
    "high_protein = high_protein.index.str.replace('-','_')\n",
    "high_protein = high_protein.str.replace('.','_')\n",
    "\n",
    "low_protein = PCC_protein2genes.max()[(PCC_protein2genes.max() <= 0.5 ) == True]\n",
    "low_protein = low_protein.index.str.replace('-','_')\n",
    "low_protein = low_protein.str.replace('.','_')"
   ]
  },
  {
   "cell_type": "code",
   "execution_count": 14,
   "id": "8b64e1c3-3aca-492c-bfdb-87dc78c11d3e",
   "metadata": {},
   "outputs": [
    {
     "name": "stdout",
     "output_type": "stream",
     "text": [
      "蛋白质种类共210种，high有22种，low有188种\n"
     ]
    }
   ],
   "source": [
    "print(\"蛋白质种类共{}种，high有{}种，low有{}种\".format(PCC_protein2genes.shape[1],len(high_protein),len(low_protein)))"
   ]
  },
  {
   "cell_type": "markdown",
   "id": "d6525981-488e-4507-adf5-0a3773e7d142",
   "metadata": {},
   "source": [
    "# 读取数据"
   ]
  },
  {
   "cell_type": "code",
   "execution_count": 15,
   "id": "cdfb276b-2f10-4184-8ab1-865e9b30a556",
   "metadata": {},
   "outputs": [],
   "source": [
    "totalVI_path = \"/home/qukun/wsy1216/WEDGE/Results/totalVI/\" + dataset_num + \"_batch2_totalVI.csv\"\n",
    "scArches_path = \"/home/qukun/wsy1216/WEDGE/Results/scArches/\" + dataset_num + \"_data_pre_scArches.csv\"\n",
    "Dengkw_path = \"/home/qukun/wsy1216/WEDGE/Results/Dengkw/\" + dataset_num + \"_data_pre_Dengkw.csv\"\n",
    "cTp_net_path = \"/home/qukun/wsy1216/WEDGE/Results/cTPnet/\" + dataset_num + \"_pre_data_cTPnet.csv\"\n",
    "DANCE_path = \"/home/qukun/wsy1216/WEDGE/Results/DANCE/\" + dataset_num + \"_pre_data_dance.csv\"\n",
    "Seurat_path = \"/home/qukun/wsy1216/WEDGE/Results/seurat/\" + dataset_num + \"_pre_data.csv\"\n",
    "Liger_path = \"/home/qukun/wsy1216/WEDGE/Results/Liger/Liger_\" + dataset_num + \"_pre_data.csv\"\n",
    "BABEL_path = \"/home/qukun/wsy1216/WEDGE/Results/BABEL_new/\" + dataset_num + \"_babel_ADT_predict.csv\"\n",
    "CMAE_path = \"/home/qukun/wsy1216/WEDGE/Results/CMAE/\" + dataset_num + \"_cmae_ADT_predict.csv\"\n",
    "sciPENN_path = \"/home/qukun/wsy1216/WEDGE/Results/sciPENN/\" +dataset_num + \"_pre_sciPENN.csv\""
   ]
  },
  {
   "cell_type": "code",
   "execution_count": 16,
   "id": "f95e6b37-620d-48ba-bd80-2c7776d4d69c",
   "metadata": {},
   "outputs": [],
   "source": [
    "totalVI_pre = pd.read_csv(totalVI_path,index_col = 0)\n",
    "scArches_pre = pd.read_csv(scArches_path,index_col = 0)\n",
    "Dengkw_pre = pd.read_csv(Dengkw_path,index_col = 0)\n",
    "cTp_net_pre = pd.read_csv(cTp_net_path,index_col = 0).T\n",
    "DANCE_pre = pd.read_csv(DANCE_path,index_col = 0).T\n",
    "Seurat_pre = pd.read_csv(Seurat_path,index_col = 0).T\n",
    "Liger_pre = pd.read_csv(Liger_path,index_col = 0).T\n",
    "BABEL_pre = pd.read_csv(BABEL_path,index_col = 0).T\n",
    "CMAE_pre = pd.read_csv(CMAE_path,index_col = 0).T\n",
    "sciPENN_pre = pd.read_csv(sciPENN_path,index_col = 0)"
   ]
  },
  {
   "cell_type": "code",
   "execution_count": 17,
   "id": "75368168-6af1-4a87-ad4c-71db74d63ebf",
   "metadata": {},
   "outputs": [],
   "source": [
    "DANCE_pre = pd.DataFrame(data = DANCE_pre.values, index = true_data.index , columns = true_data.columns)\n",
    "CMAE_pre = pd.DataFrame(data = CMAE_pre.values, index = true_data.index , columns = true_data.columns)\n",
    "BABEL_pre = pd.DataFrame(data = BABEL_pre.values, index = true_data.index , columns = true_data.columns)"
   ]
  },
  {
   "cell_type": "code",
   "execution_count": 18,
   "id": "b10bce75-0dfd-4ea9-ba8d-f98582981a66",
   "metadata": {},
   "outputs": [],
   "source": [
    "totalVI_pre.columns = totalVI_pre.columns.str.replace(\"-\",\"_\")\n",
    "totalVI_pre.columns = totalVI_pre.columns.str.replace(\".\",\"_\")\n",
    "scArches_pre.columns = scArches_pre.columns.str.replace(\"-\",\"_\")\n",
    "Dengkw_pre.columns = Dengkw_pre.columns.str.replace(\"-\",\"_\")\n",
    "cTp_net_pre.columns = cTp_net_pre.columns.str.replace(\"-\",\"_\")\n",
    "Seurat_pre.columns = Seurat_pre.columns.str.replace(\"-\",\"_\")\n",
    "Seurat_pre.columns = Seurat_pre.columns.str.replace(\".\",\"_\")\n",
    "Liger_pre.columns = Liger_pre.columns.str.replace(\"-\",\"_\")\n",
    "Liger_pre.columns = Liger_pre.columns.str.replace(\".\",\"_\")\n",
    "sciPENN_pre.columns = sciPENN_pre.columns.str.replace(\"-\",\"_\")\n",
    "sciPENN_pre.columns = sciPENN_pre.columns.str.replace(\".\",\"_\")"
   ]
  },
  {
   "cell_type": "code",
   "execution_count": 21,
   "id": "84e22dda-d808-45cc-9fd0-f75a1dd1cc7e",
   "metadata": {},
   "outputs": [],
   "source": [
    "totalVI_pre = totalVI_pre[true_data.columns]\n",
    "scArches_pre = scArches_pre[true_data.columns]\n",
    "Dengkw_pre = Dengkw_pre[true_data.columns]\n",
    "cTp_net_pre = cTp_net_pre[true_data.columns]\n",
    "DANCE_pre = DANCE_pre[true_data.columns]\n",
    "Seurat_pre = Seurat_pre[true_data.columns]\n",
    "Liger_pre = Liger_pre[true_data.columns]\n",
    "BABEL_pre = BABEL_pre[true_data.columns]\n",
    "CMAE_pre = CMAE_pre[true_data.columns]\n",
    "sciPENN_pre = sciPENN_pre[true_data.columns]"
   ]
  },
  {
   "cell_type": "code",
   "execution_count": 23,
   "id": "734d3615-f1ee-4fae-a11e-3ce145dc3119",
   "metadata": {},
   "outputs": [],
   "source": [
    "high_true = true_data[high_protein]\n",
    "high_totalVI_pre = totalVI_pre[high_protein]\n",
    "high_scArches_pre = scArches_pre[high_protein]\n",
    "high_Dengkw_pre = Dengkw_pre[high_protein]\n",
    "high_cTp_net_pre = cTp_net_pre[high_protein]\n",
    "high_DANCE_pre = DANCE_pre[high_protein]\n",
    "high_Seurat_pre = Seurat_pre[high_protein]\n",
    "high_Liger_pre = Liger_pre[high_protein]\n",
    "high_BABEL_pre = BABEL_pre[high_protein]\n",
    "high_CMAE_pre = CMAE_pre[high_protein]\n",
    "high_sciPENN_pre = sciPENN_pre[high_protein]"
   ]
  },
  {
   "cell_type": "code",
   "execution_count": 24,
   "id": "44b0ddf0-c0da-40f6-96fa-f97a7ec97189",
   "metadata": {},
   "outputs": [],
   "source": [
    "low_true = true_data[low_protein]\n",
    "low_totalVI_pre = totalVI_pre[low_protein]\n",
    "low_scArches_pre = scArches_pre[low_protein]\n",
    "low_Dengkw_pre = Dengkw_pre[low_protein]\n",
    "low_cTp_net_pre = cTp_net_pre[low_protein]\n",
    "low_DANCE_pre = DANCE_pre[low_protein]\n",
    "low_Seurat_pre = Seurat_pre[low_protein]\n",
    "low_Liger_pre = Liger_pre[low_protein]\n",
    "low_BABEL_pre = BABEL_pre[low_protein]\n",
    "low_CMAE_pre = CMAE_pre[low_protein]\n",
    "low_sciPENN_pre = sciPENN_pre[low_protein]"
   ]
  },
  {
   "cell_type": "markdown",
   "id": "02c48a5f-63e0-4d28-84a8-5ac63e0f1444",
   "metadata": {},
   "source": [
    "# 计算pccs #"
   ]
  },
  {
   "cell_type": "markdown",
   "id": "8450a78f-6a30-4096-b361-a89e90067dfc",
   "metadata": {},
   "source": [
    "### totalVI结果 ###"
   ]
  },
  {
   "cell_type": "code",
   "execution_count": 25,
   "id": "3bee7689-df42-4338-89e8-148d1ff1135a",
   "metadata": {},
   "outputs": [],
   "source": [
    "high_totalVI_pcc_protein = []\n",
    "for i in range(high_totalVI_pre.shape[1]):\n",
    "    x = np.array(high_totalVI_pre[high_totalVI_pre.columns[i]])\n",
    "    y = np.array(high_true[high_true.columns[i]])    \n",
    "    pcc = pearsonr(x,y)[0]\n",
    "    high_totalVI_pcc_protein.append(pcc)\n",
    "high_totalVI_pcc_cell = []\n",
    "for i in range(high_totalVI_pre.shape[0]):\n",
    "    x = np.array((high_totalVI_pre.T)[high_totalVI_pre.index[i]])\n",
    "    y = np.array((high_true.T)[high_true.index[i]])    \n",
    "    pcc = pearsonr(x,y)[0]\n",
    "    high_totalVI_pcc_cell.append(pcc)"
   ]
  },
  {
   "cell_type": "code",
   "execution_count": 26,
   "id": "b84dcee6-f399-4b31-ad34-ddec41c70b8b",
   "metadata": {},
   "outputs": [],
   "source": [
    "low_totalVI_pcc_protein = []\n",
    "for i in range(low_totalVI_pre.shape[1]):\n",
    "    x = np.array(low_totalVI_pre[low_totalVI_pre.columns[i]])\n",
    "    y = np.array(low_true[low_true.columns[i]])    \n",
    "    pcc = pearsonr(x,y)[0]\n",
    "    low_totalVI_pcc_protein.append(pcc)\n",
    "low_totalVI_pcc_cell = []\n",
    "for i in range(low_totalVI_pre.shape[0]):\n",
    "    x = np.array((low_totalVI_pre.T)[low_totalVI_pre.index[i]])\n",
    "    y = np.array((low_true.T)[low_true.index[i]])    \n",
    "    pcc = pearsonr(x,y)[0]\n",
    "    low_totalVI_pcc_cell.append(pcc)"
   ]
  },
  {
   "cell_type": "markdown",
   "id": "2b509dcf-b65b-44b2-9681-80f1a738b1fb",
   "metadata": {},
   "source": [
    "### scArches结果 ###"
   ]
  },
  {
   "cell_type": "code",
   "execution_count": 27,
   "id": "4fa6789a-4310-483a-8508-691a67fca300",
   "metadata": {},
   "outputs": [],
   "source": [
    "high_scArches_pcc_protein = []\n",
    "for i in range(high_scArches_pre.shape[1]):\n",
    "    x = np.array(high_scArches_pre[high_scArches_pre.columns[i]])\n",
    "    y = np.array(high_true[high_true.columns[i]])    \n",
    "    pcc = pearsonr(x,y)[0]\n",
    "    high_scArches_pcc_protein.append(pcc)\n",
    "high_scArches_pcc_cell = []\n",
    "for i in range(high_scArches_pre.shape[0]):\n",
    "    x = np.array((high_scArches_pre.T)[high_scArches_pre.index[i]])\n",
    "    y = np.array((high_true.T)[high_true.index[i]])    \n",
    "    pcc = pearsonr(x,y)[0]\n",
    "    high_scArches_pcc_cell.append(pcc)"
   ]
  },
  {
   "cell_type": "code",
   "execution_count": 28,
   "id": "f262a1af-6362-499f-9ae0-433c14b96142",
   "metadata": {},
   "outputs": [],
   "source": [
    "low_scArches_pcc_protein = []\n",
    "for i in range(low_scArches_pre.shape[1]):\n",
    "    x = np.array(low_scArches_pre[low_scArches_pre.columns[i]])\n",
    "    y = np.array(low_true[low_true.columns[i]])    \n",
    "    pcc = pearsonr(x,y)[0]\n",
    "    low_scArches_pcc_protein.append(pcc)\n",
    "low_scArches_pcc_cell = []\n",
    "for i in range(low_scArches_pre.shape[0]):\n",
    "    x = np.array((low_scArches_pre.T)[low_scArches_pre.index[i]])\n",
    "    y = np.array((low_true.T)[low_true.index[i]])    \n",
    "    pcc = pearsonr(x,y)[0]\n",
    "    low_scArches_pcc_cell.append(pcc)"
   ]
  },
  {
   "cell_type": "markdown",
   "id": "01d6f930-acd1-4439-8e9e-359099c6c304",
   "metadata": {},
   "source": [
    "### Dengkw ###"
   ]
  },
  {
   "cell_type": "code",
   "execution_count": 29,
   "id": "69c0fdec-884a-49ae-99e5-434856a573e0",
   "metadata": {},
   "outputs": [],
   "source": [
    "high_Dengkw_pcc_protein = []\n",
    "for i in range(high_Dengkw_pre.shape[1]):\n",
    "    x = np.array(high_Dengkw_pre[high_Dengkw_pre.columns[i]])\n",
    "    y = np.array(high_true[high_true.columns[i]])    \n",
    "    pcc = pearsonr(x,y)[0]\n",
    "    high_Dengkw_pcc_protein.append(pcc)\n",
    "high_Dengkw_pcc_cell = []\n",
    "for i in range(high_Dengkw_pre.shape[0]):\n",
    "    x = np.array((high_Dengkw_pre.T)[high_Dengkw_pre.index[i]])\n",
    "    y = np.array((high_true.T)[high_true.index[i]])    \n",
    "    pcc = pearsonr(x,y)[0]\n",
    "    high_Dengkw_pcc_cell.append(pcc)"
   ]
  },
  {
   "cell_type": "code",
   "execution_count": 30,
   "id": "d884b408-2c3f-4a1a-8d3f-f86cdb06e9b2",
   "metadata": {},
   "outputs": [],
   "source": [
    "low_Dengkw_pcc_protein = []\n",
    "for i in range(low_Dengkw_pre.shape[1]):\n",
    "    x = np.array(low_Dengkw_pre[low_Dengkw_pre.columns[i]])\n",
    "    y = np.array(low_true[low_true.columns[i]])    \n",
    "    pcc = pearsonr(x,y)[0]\n",
    "    low_Dengkw_pcc_protein.append(pcc)\n",
    "low_Dengkw_pcc_cell = []\n",
    "for i in range(low_Dengkw_pre.shape[0]):\n",
    "    x = np.array((low_Dengkw_pre.T)[low_Dengkw_pre.index[i]])\n",
    "    y = np.array((low_true.T)[low_true.index[i]])    \n",
    "    pcc = pearsonr(x,y)[0]\n",
    "    low_Dengkw_pcc_cell.append(pcc)"
   ]
  },
  {
   "cell_type": "markdown",
   "id": "0128c887-4561-453b-a4c4-b3994fbf8780",
   "metadata": {},
   "source": [
    "### cTp_net ###"
   ]
  },
  {
   "cell_type": "code",
   "execution_count": 31,
   "id": "20d9c5a9-fb92-4b51-bd80-630a86b343d9",
   "metadata": {},
   "outputs": [],
   "source": [
    "clr_true = true_data.apply(lambda x: np.log((x+1.0)/stats.gmean(x+1.0)), axis=0)\n",
    "high_clr = clr_true[high_protein]\n",
    "low_clr = clr_true[low_protein]"
   ]
  },
  {
   "cell_type": "code",
   "execution_count": 32,
   "id": "1f0fd94b-5a5a-4057-8191-cec4321acf2c",
   "metadata": {},
   "outputs": [],
   "source": [
    "high_cTp_net_pcc_protein = []\n",
    "for i in range(high_cTp_net_pre.shape[1]):\n",
    "    x = np.array(high_cTp_net_pre[high_cTp_net_pre.columns[i]])\n",
    "    y = np.array(high_clr[high_clr.columns[i]])    \n",
    "    pcc = pearsonr(x,y)[0]\n",
    "    high_cTp_net_pcc_protein.append(pcc)\n",
    "high_cTp_net_pcc_cell = []\n",
    "for i in range(high_cTp_net_pre.shape[0]):\n",
    "    x = np.array((high_cTp_net_pre.T)[high_cTp_net_pre.index[i]])\n",
    "    y = np.array((high_clr.T)[high_clr.index[i]])    \n",
    "    pcc = pearsonr(x,y)[0]\n",
    "    high_cTp_net_pcc_cell.append(pcc)"
   ]
  },
  {
   "cell_type": "code",
   "execution_count": 33,
   "id": "458ff422-7852-4c36-baaf-31077223719f",
   "metadata": {},
   "outputs": [],
   "source": [
    "low_cTp_net_pcc_protein = []\n",
    "for i in range(low_cTp_net_pre.shape[1]):\n",
    "    x = np.array(low_cTp_net_pre[low_cTp_net_pre.columns[i]])\n",
    "    y = np.array(low_clr[low_clr.columns[i]])    \n",
    "    pcc = pearsonr(x,y)[0]\n",
    "    low_cTp_net_pcc_protein.append(pcc)\n",
    "low_cTp_net_pcc_cell = []\n",
    "for i in range(low_cTp_net_pre.shape[0]):\n",
    "    x = np.array((low_cTp_net_pre.T)[low_cTp_net_pre.index[i]])\n",
    "    y = np.array((low_clr.T)[low_clr.index[i]])    \n",
    "    pcc = pearsonr(x,y)[0]\n",
    "    low_cTp_net_pcc_cell.append(pcc)"
   ]
  },
  {
   "cell_type": "markdown",
   "id": "a2ba2ce7-8bb4-41d0-8448-38a6a2b3d9f3",
   "metadata": {},
   "source": [
    "### Dance ###"
   ]
  },
  {
   "cell_type": "code",
   "execution_count": 34,
   "id": "8388349f-1388-4cb4-8147-9e825bfe6684",
   "metadata": {},
   "outputs": [],
   "source": [
    "high_DANCE_pcc_protein = []\n",
    "for i in range(high_DANCE_pre.shape[1]):\n",
    "    x = np.array(high_DANCE_pre[high_DANCE_pre.columns[i]])\n",
    "    y = np.array(high_true[high_true.columns[i]])    \n",
    "    pcc = pearsonr(x,y)[0]\n",
    "    high_DANCE_pcc_protein.append(pcc)\n",
    "high_DANCE_pcc_cell = []\n",
    "for i in range(high_DANCE_pre.shape[0]):\n",
    "    x = np.array((high_DANCE_pre.T)[high_DANCE_pre.index[i]])\n",
    "    y = np.array((high_true.T)[high_true.index[i]])    \n",
    "    pcc = pearsonr(x,y)[0]\n",
    "    high_DANCE_pcc_cell.append(pcc)"
   ]
  },
  {
   "cell_type": "code",
   "execution_count": 35,
   "id": "37a85662-d48f-4434-9bfb-7ef4b778e64a",
   "metadata": {},
   "outputs": [],
   "source": [
    "low_DANCE_pcc_protein = []\n",
    "for i in range(low_DANCE_pre.shape[1]):\n",
    "    x = np.array(low_DANCE_pre[low_DANCE_pre.columns[i]])\n",
    "    y = np.array(low_true[low_true.columns[i]])    \n",
    "    pcc = pearsonr(x,y)[0]\n",
    "    low_DANCE_pcc_protein.append(pcc)\n",
    "low_DANCE_pcc_cell = []\n",
    "for i in range(low_DANCE_pre.shape[0]):\n",
    "    x = np.array((low_DANCE_pre.T)[low_DANCE_pre.index[i]])\n",
    "    y = np.array((low_true.T)[low_true.index[i]])    \n",
    "    pcc = pearsonr(x,y)[0]\n",
    "    low_DANCE_pcc_cell.append(pcc)"
   ]
  },
  {
   "cell_type": "markdown",
   "id": "ea831972-7a75-4e8f-90a1-1381e5961f0a",
   "metadata": {},
   "source": [
    "### Seurat ###"
   ]
  },
  {
   "cell_type": "code",
   "execution_count": 36,
   "id": "93adc30e-df87-4108-87af-85c87f906265",
   "metadata": {},
   "outputs": [],
   "source": [
    "clr_true = true_data.apply(lambda x: np.log((x+1.0)/stats.gmean(x+1.0)), axis=0)\n",
    "high_clr = clr_true[high_protein]\n",
    "low_clr = clr_true[low_protein]"
   ]
  },
  {
   "cell_type": "code",
   "execution_count": 37,
   "id": "15c653f7-58ef-48d1-87ea-d10af9cfbaa9",
   "metadata": {},
   "outputs": [],
   "source": [
    "high_Seurat_pcc_protein = []\n",
    "for i in range(high_Seurat_pre.shape[1]):\n",
    "    x = np.array(high_Seurat_pre[high_Seurat_pre.columns[i]])\n",
    "    y = np.array(high_clr[high_clr.columns[i]])    \n",
    "    pcc = pearsonr(x,y)[0]\n",
    "    high_Seurat_pcc_protein.append(pcc)\n",
    "high_Seurat_pcc_cell = []\n",
    "for i in range(high_Seurat_pre.shape[0]):\n",
    "    x = np.array((high_Seurat_pre.T)[high_Seurat_pre.index[i]])\n",
    "    y = np.array((high_clr.T)[high_clr.index[i]])    \n",
    "    pcc = pearsonr(x,y)[0]\n",
    "    high_Seurat_pcc_cell.append(pcc)"
   ]
  },
  {
   "cell_type": "code",
   "execution_count": 38,
   "id": "018f9a20-81bc-4036-a061-8936a5bae832",
   "metadata": {},
   "outputs": [],
   "source": [
    "low_Seurat_pcc_protein = []\n",
    "for i in range(low_Seurat_pre.shape[1]):\n",
    "    x = np.array(low_Seurat_pre[low_Seurat_pre.columns[i]])\n",
    "    y = np.array(low_clr[low_clr.columns[i]])    \n",
    "    pcc = pearsonr(x,y)[0]\n",
    "    low_Seurat_pcc_protein.append(pcc)\n",
    "low_Seurat_pcc_cell = []\n",
    "for i in range(low_Seurat_pre.shape[0]):\n",
    "    x = np.array((low_Seurat_pre.T)[low_Seurat_pre.index[i]])\n",
    "    y = np.array((low_clr.T)[low_clr.index[i]])    \n",
    "    pcc = pearsonr(x,y)[0]\n",
    "    low_Seurat_pcc_cell.append(pcc)"
   ]
  },
  {
   "cell_type": "markdown",
   "id": "31d69986-5619-4572-a921-fa46e4375976",
   "metadata": {},
   "source": [
    "## Liger ##"
   ]
  },
  {
   "cell_type": "code",
   "execution_count": 39,
   "id": "45edea97-0ed6-431b-b135-3b0608ab40b7",
   "metadata": {},
   "outputs": [],
   "source": [
    "high_Liger_pcc_protein = []\n",
    "for i in range(high_Liger_pre.shape[1]):\n",
    "    x = np.array(high_Liger_pre[high_Liger_pre.columns[i]])\n",
    "    y = np.array(high_true[high_true.columns[i]])    \n",
    "    pcc = pearsonr(x,y)[0]\n",
    "    high_Liger_pcc_protein.append(pcc)\n",
    "high_Liger_pcc_cell = []\n",
    "for i in range(high_Liger_pre.shape[0]):\n",
    "    x = np.array((high_Liger_pre.T)[high_Liger_pre.index[i]])\n",
    "    y = np.array((high_true.T)[high_true.index[i]])    \n",
    "    pcc = pearsonr(x,y)[0]\n",
    "    high_Liger_pcc_cell.append(pcc)"
   ]
  },
  {
   "cell_type": "code",
   "execution_count": 40,
   "id": "71f1b729-0c39-46a2-9cd1-8b45c27fa944",
   "metadata": {},
   "outputs": [],
   "source": [
    "low_Liger_pcc_protein = []\n",
    "for i in range(low_Liger_pre.shape[1]):\n",
    "    x = np.array(low_Liger_pre[low_Liger_pre.columns[i]])\n",
    "    y = np.array(low_true[low_true.columns[i]])    \n",
    "    pcc = pearsonr(x,y)[0]\n",
    "    low_Liger_pcc_protein.append(pcc)\n",
    "low_Liger_pcc_cell = []\n",
    "for i in range(low_Liger_pre.shape[0]):\n",
    "    x = np.array((low_Liger_pre.T)[low_Liger_pre.index[i]])\n",
    "    y = np.array((low_true.T)[low_true.index[i]])    \n",
    "    pcc = pearsonr(x,y)[0]\n",
    "    low_Liger_pcc_cell.append(pcc)"
   ]
  },
  {
   "cell_type": "markdown",
   "id": "009d0f61-ef75-40e4-9de1-7045b60ece0c",
   "metadata": {},
   "source": [
    "### BABEL ###"
   ]
  },
  {
   "cell_type": "code",
   "execution_count": 41,
   "id": "5c30e835-7af5-4af4-86a5-b817ec37d3a7",
   "metadata": {},
   "outputs": [],
   "source": [
    "high_BABEL_pcc_protein = []\n",
    "for i in range(high_BABEL_pre.shape[1]):\n",
    "    x = np.array(high_BABEL_pre[high_BABEL_pre.columns[i]])\n",
    "    y = np.array(high_true[high_true.columns[i]])    \n",
    "    pcc = pearsonr(x,y)[0]\n",
    "    high_BABEL_pcc_protein.append(pcc)\n",
    "high_BABEL_pcc_cell = []\n",
    "for i in range(high_BABEL_pre.shape[0]):\n",
    "    x = np.array((high_BABEL_pre.T)[high_BABEL_pre.index[i]])\n",
    "    y = np.array((high_true.T)[high_true.index[i]])    \n",
    "    pcc = pearsonr(x,y)[0]\n",
    "    high_BABEL_pcc_cell.append(pcc)"
   ]
  },
  {
   "cell_type": "code",
   "execution_count": 42,
   "id": "12a6cc93-5f00-4f23-8314-bdf3c85233d6",
   "metadata": {},
   "outputs": [],
   "source": [
    "low_BABEL_pcc_protein = []\n",
    "for i in range(low_BABEL_pre.shape[1]):\n",
    "    x = np.array(low_BABEL_pre[low_BABEL_pre.columns[i]])\n",
    "    y = np.array(low_true[low_true.columns[i]])    \n",
    "    pcc = pearsonr(x,y)[0]\n",
    "    low_BABEL_pcc_protein.append(pcc)\n",
    "low_BABEL_pcc_cell = []\n",
    "for i in range(low_BABEL_pre.shape[0]):\n",
    "    x = np.array((low_BABEL_pre.T)[low_BABEL_pre.index[i]])\n",
    "    y = np.array((low_true.T)[low_true.index[i]])    \n",
    "    pcc = pearsonr(x,y)[0]\n",
    "    low_BABEL_pcc_cell.append(pcc)"
   ]
  },
  {
   "cell_type": "markdown",
   "id": "1b5670f3-190d-4183-bcd2-7406a66ba293",
   "metadata": {},
   "source": [
    "## CMAE ##"
   ]
  },
  {
   "cell_type": "code",
   "execution_count": 43,
   "id": "bf8bf591-0f7f-4d53-a76d-b2b0edbd6dc0",
   "metadata": {},
   "outputs": [],
   "source": [
    "high_CMAE_pcc_protein = []\n",
    "for i in range(high_CMAE_pre.shape[1]):\n",
    "    x = np.array(high_CMAE_pre[high_CMAE_pre.columns[i]])\n",
    "    y = np.array(high_true[high_true.columns[i]])    \n",
    "    pcc = pearsonr(x,y)[0]\n",
    "    high_CMAE_pcc_protein.append(pcc)\n",
    "high_CMAE_pcc_cell = []\n",
    "for i in range(high_CMAE_pre.shape[0]):\n",
    "    x = np.array((high_CMAE_pre.T)[high_CMAE_pre.index[i]])\n",
    "    y = np.array((high_true.T)[high_true.index[i]])    \n",
    "    pcc = pearsonr(x,y)[0]\n",
    "    high_CMAE_pcc_cell.append(pcc)"
   ]
  },
  {
   "cell_type": "code",
   "execution_count": 44,
   "id": "4cf689a9-3eb8-43bf-8005-ee945afdb23f",
   "metadata": {},
   "outputs": [],
   "source": [
    "low_CMAE_pcc_protein = []\n",
    "for i in range(low_CMAE_pre.shape[1]):\n",
    "    x = np.array(low_CMAE_pre[low_CMAE_pre.columns[i]])\n",
    "    y = np.array(low_true[low_true.columns[i]])    \n",
    "    pcc = pearsonr(x,y)[0]\n",
    "    low_CMAE_pcc_protein.append(pcc)\n",
    "low_CMAE_pcc_cell = []\n",
    "for i in range(low_CMAE_pre.shape[0]):\n",
    "    x = np.array((low_CMAE_pre.T)[low_CMAE_pre.index[i]])\n",
    "    y = np.array((low_true.T)[low_true.index[i]])    \n",
    "    pcc = pearsonr(x,y)[0]\n",
    "    low_CMAE_pcc_cell.append(pcc)"
   ]
  },
  {
   "cell_type": "markdown",
   "id": "993738d3-3d1f-4e83-8e12-eb574aaed1a7",
   "metadata": {},
   "source": [
    "## sciPENN"
   ]
  },
  {
   "cell_type": "code",
   "execution_count": 45,
   "id": "fac38eef-67b1-437c-a973-472d444dd8b8",
   "metadata": {},
   "outputs": [],
   "source": [
    "A = ad.AnnData(X = true_data).copy()\n",
    "sc.pp.normalize_total(A)\n",
    "sc.pp.log1p(A)\n",
    "sc.pp.scale(A)\n",
    "\n",
    "B = pd.DataFrame(data = A.X,columns = A.var_names,index = A.obs_names)\n",
    "\n",
    "C = (B.T[sciPENN_pre.index]).T\n",
    "# C = B\n",
    "high_C = C[high_protein]\n",
    "low_C = C[low_protein]"
   ]
  },
  {
   "cell_type": "code",
   "execution_count": 46,
   "id": "a12cdb78-353b-404d-a0d9-266b7472ee12",
   "metadata": {},
   "outputs": [],
   "source": [
    "sciPENN_scale = ad.AnnData(sciPENN_pre)\n",
    "sc.pp.scale(sciPENN_scale)\n",
    "sciPENN_scale = pd.DataFrame(data = sciPENN_scale.X,columns = sciPENN_scale.var_names,index = sciPENN_scale.obs_names)\n",
    "\n",
    "high_sciPENN_scale = sciPENN_scale[high_protein]\n",
    "low_sciPENN_scale = sciPENN_scale[low_protein]"
   ]
  },
  {
   "cell_type": "code",
   "execution_count": 47,
   "id": "87966c57-6daf-4c1e-b39e-469cedb9c6af",
   "metadata": {},
   "outputs": [],
   "source": [
    "high_sciPENN_pcc_protein = []\n",
    "for i in range(high_sciPENN_scale.shape[1]):\n",
    "    x = np.array(high_sciPENN_scale[high_sciPENN_scale.columns[i]])\n",
    "    y = np.array(high_C[high_C.columns[i]])    \n",
    "    pcc = pearsonr(x,y)[0]\n",
    "    high_sciPENN_pcc_protein.append(pcc)\n",
    "high_sciPENN_pcc_cell = []\n",
    "for i in range(high_sciPENN_scale.shape[0]):\n",
    "    x = np.array((high_sciPENN_scale.T)[high_sciPENN_scale.index[i]])\n",
    "    y = np.array((high_C.T)[high_C.index[i]])    \n",
    "    pcc = pearsonr(x,y)[0]\n",
    "    high_sciPENN_pcc_cell.append(pcc)"
   ]
  },
  {
   "cell_type": "code",
   "execution_count": 48,
   "id": "1eb842fe-ea7f-4103-9dc7-8357b5d8f33e",
   "metadata": {},
   "outputs": [],
   "source": [
    "low_sciPENN_pcc_protein = []\n",
    "for i in range(low_sciPENN_scale.shape[1]):\n",
    "    x = np.array(low_sciPENN_scale[low_sciPENN_scale.columns[i]])\n",
    "    y = np.array(low_C[low_C.columns[i]])    \n",
    "    pcc = pearsonr(x,y)[0]\n",
    "    low_sciPENN_pcc_protein.append(pcc)\n",
    "low_sciPENN_pcc_cell = []\n",
    "for i in range(low_sciPENN_scale.shape[0]):\n",
    "    x = np.array((low_sciPENN_scale.T)[low_sciPENN_scale.index[i]])\n",
    "    y = np.array((low_C.T)[low_C.index[i]])    \n",
    "    pcc = pearsonr(x,y)[0]\n",
    "    low_sciPENN_pcc_cell.append(pcc)"
   ]
  },
  {
   "cell_type": "markdown",
   "id": "56e1d5ac-0c62-4caa-96f5-733e6648c029",
   "metadata": {},
   "source": [
    "# 综合并绘图 #"
   ]
  },
  {
   "cell_type": "code",
   "execution_count": 51,
   "id": "201b8af5-e373-43a3-9af5-74107a713524",
   "metadata": {},
   "outputs": [],
   "source": [
    "index = ['totalVI','scArches','Dengkw','cTp_net','DANCE','Seurat','Liger','BABEL','CMAE','sciPENN']\n",
    "high_pro_columns = high_true.columns\n",
    "low_pro_columns = low_true.columns\n",
    "cell_columns = true_data.index\n",
    "\n",
    "high_PCCs_protein = pd.DataFrame([high_totalVI_pcc_protein,high_scArches_pcc_protein,high_Dengkw_pcc_protein,high_cTp_net_pcc_protein,high_DANCE_pcc_protein,high_Seurat_pcc_protein,high_Liger_pcc_protein,high_BABEL_pcc_protein,high_CMAE_pcc_protein,high_sciPENN_pcc_protein],index = index,columns = high_pro_columns)\n",
    "high_PCCs_cell = pd.DataFrame([high_totalVI_pcc_cell,high_scArches_pcc_cell,high_Dengkw_pcc_cell,high_cTp_net_pcc_cell,high_DANCE_pcc_cell,high_Seurat_pcc_cell,high_Liger_pcc_cell,high_BABEL_pcc_cell,high_CMAE_pcc_cell,high_sciPENN_pcc_cell],index = index,columns = cell_columns)\n",
    "\n",
    "low_PCCs_protein = pd.DataFrame([low_totalVI_pcc_protein,low_scArches_pcc_protein,low_Dengkw_pcc_protein,low_cTp_net_pcc_protein,low_DANCE_pcc_protein,low_Seurat_pcc_protein,low_Liger_pcc_protein,low_BABEL_pcc_protein,low_CMAE_pcc_protein,low_sciPENN_pcc_protein],index = index,columns = low_pro_columns)\n",
    "low_PCCs_cell = pd.DataFrame([low_totalVI_pcc_cell,low_scArches_pcc_cell,low_Dengkw_pcc_cell,low_cTp_net_pcc_cell,low_DANCE_pcc_cell,low_Seurat_pcc_cell,low_Liger_pcc_cell,low_BABEL_pcc_cell,low_CMAE_pcc_cell,low_sciPENN_pcc_cell],index = index,columns = cell_columns)\n"
   ]
  },
  {
   "cell_type": "code",
   "execution_count": 52,
   "id": "1599d995-1d07-4341-9421-5179eb9b23c8",
   "metadata": {},
   "outputs": [],
   "source": [
    "high_PCCs_protein.to_csv(\"../Results/new_pictures/\"+dataset_num+\"/\"+ dataset_num +\"_pccs_proteins_high.csv\")\n",
    "high_PCCs_cell.to_csv(\"../Results/new_pictures/\"+dataset_num+\"/\"+ dataset_num +\"_pccs_cells_high.csv\")\n",
    "\n",
    "low_PCCs_protein.to_csv(\"../Results/new_pictures/\"+dataset_num+\"/\"+ dataset_num +\"_pccs_proteins_low.csv\")\n",
    "low_PCCs_cell.to_csv(\"../Results/new_pictures/\"+dataset_num+\"/\"+ dataset_num +\"_pccs_cells_low.csv\")"
   ]
  },
  {
   "cell_type": "markdown",
   "id": "d74ff4c9-7a01-4362-985f-423fe1f4074b",
   "metadata": {},
   "source": [
    "### CMD ###"
   ]
  },
  {
   "cell_type": "code",
   "execution_count": 54,
   "id": "0a1537b3-910c-44d1-a905-d0609e47e7e5",
   "metadata": {},
   "outputs": [],
   "source": [
    "List = ['totalVI_pre','scArches_pre','Dengkw_pre','cTp_net_pre','DANCE_pre','Seurat_pre','Liger_pre','BABEL_pre','CMAE_pre','sciPENN_pre']\n",
    "index = ['totalVI','scArches','Dengkw','cTp_net','DANCE','Seurat','Liger','BABEL','CMAE','sciPENN']"
   ]
  },
  {
   "cell_type": "code",
   "execution_count": 55,
   "id": "39cd01d8-210b-43b5-b186-34257fefc04e",
   "metadata": {},
   "outputs": [],
   "source": [
    "def CMD_dist(A, B):\n",
    "    a = np.trace(A.dot(B))\n",
    "    b = np.linalg.norm(A,'fro')*np.linalg.norm(B,'fro')\n",
    "    return 1- a/(b+1e-8)"
   ]
  },
  {
   "cell_type": "markdown",
   "id": "938bcae0-6dd0-4182-9ee2-956de7f9cfe2",
   "metadata": {},
   "source": [
    "### cmd_cell"
   ]
  },
  {
   "cell_type": "code",
   "execution_count": null,
   "id": "c99b08ee-1f84-44f5-a0f2-9f146ed44d69",
   "metadata": {},
   "outputs": [],
   "source": [
    "high_true_corr = high_true.T.corr()\n",
    "high_true_corr.dropna(how='all',axis = 1,inplace = True)\n",
    "high_true_corr.dropna(how='all',inplace = True)\n",
    "\n",
    "low_true_corr = low_true.T.corr()\n",
    "low_true_corr.dropna(how='all',axis = 1,inplace = True)\n",
    "low_true_corr.dropna(how='all',inplace = True)"
   ]
  },
  {
   "cell_type": "code",
   "execution_count": null,
   "id": "282f6405-aadf-4766-a7fc-e1742df1172c",
   "metadata": {},
   "outputs": [],
   "source": [
    "high_cmd_cell = []\n",
    "for i in range(len(List)-1):\n",
    "    A = eval('high_'+List[i]).T.corr()\n",
    "    A.dropna(how='all',axis = 1,inplace = True)\n",
    "    A.dropna(how='all',inplace = True)\n",
    "\n",
    "    B = high_true_corr\n",
    "    \n",
    "    inter_cell = A.index.intersection(B.index)\n",
    "    B = B[inter_cell]\n",
    "    B = (B.T)[inter_cell].T\n",
    "    \n",
    "    A = A[inter_cell]\n",
    "    A = (A.T)[inter_cell].T\n",
    "    \n",
    "    cmd = CMD_dist(A.values.T,B.values)\n",
    "    high_cmd_cell.append(cmd)\n",
    "\n",
    "high_sciPENN_cell_cmd = CMD_dist(high_sciPENN_scale.T.corr().values.T,high_C.T.corr().values)\n",
    "high_cmd_cell.append(high_sciPENN_cell_cmd)"
   ]
  },
  {
   "cell_type": "code",
   "execution_count": null,
   "id": "90dc0655-69cb-48be-98d4-16c1a2929f67",
   "metadata": {},
   "outputs": [],
   "source": [
    "low_cmd_cell = []\n",
    "for i in range(len(List)-1):\n",
    "    A = eval('low_'+List[i]).T.corr()\n",
    "    A.dropna(how='all',axis = 1,inplace = True)\n",
    "    A.dropna(how='all',inplace = True)\n",
    "\n",
    "    B = low_true_corr\n",
    "    \n",
    "    inter_cell = A.index.intersection(B.index)\n",
    "    B = B[inter_cell]\n",
    "    B = (B.T)[inter_cell].T\n",
    "    \n",
    "    A = A[inter_cell]\n",
    "    A = (A.T)[inter_cell].T\n",
    "\n",
    "    cmd = CMD_dist(A.values.T,B.values)\n",
    "    low_cmd_cell.append(cmd)\n",
    "\n",
    "low_sciPENN_cell_cmd = CMD_dist(low_sciPENN_scale.T.corr().values.T,low_C.T.corr().values)\n",
    "low_cmd_cell.append(low_sciPENN_cell_cmd)"
   ]
  },
  {
   "cell_type": "code",
   "execution_count": 59,
   "id": "309af069-09f5-4b17-b422-e4ebed6bfded",
   "metadata": {},
   "outputs": [],
   "source": [
    "high_CMD_cell = pd.DataFrame(data = high_cmd_cell, index = index,columns = ['cmd_values'])\n",
    "low_CMD_cell = pd.DataFrame(data = low_cmd_cell, index = index,columns = ['cmd_values'])"
   ]
  },
  {
   "cell_type": "code",
   "execution_count": 62,
   "id": "ce8539e2-f2ab-438a-9ebb-bad4aea2e8d7",
   "metadata": {},
   "outputs": [],
   "source": [
    "high_CMD_cell.to_csv(\"../Results/new_pictures/\"+dataset_num+\"/\"+ dataset_num +\"_cmd_cells_high.csv\")\n",
    "low_CMD_cell.to_csv(\"../Results/new_pictures/\"+dataset_num+\"/\"+ dataset_num +\"_cmd_cells_low.csv\")"
   ]
  },
  {
   "cell_type": "markdown",
   "id": "39bc8695-a354-4acb-aa6b-fb3d0b02b79d",
   "metadata": {},
   "source": [
    "### cmd_protein"
   ]
  },
  {
   "cell_type": "code",
   "execution_count": null,
   "id": "31db6fb8-8bcc-4b49-b4b2-5d75d89a8960",
   "metadata": {},
   "outputs": [],
   "source": [
    "high_true_protein_corr = high_true.corr()\n",
    "high_true_protein_corr.dropna(how='all',axis = 1,inplace = True)\n",
    "high_true_protein_corr.dropna(how='all',inplace = True)\n",
    "\n",
    "low_true_protein_corr = low_true.corr()\n",
    "low_true_protein_corr.dropna(how='all',axis = 1,inplace = True)\n",
    "low_true_protein_corr.dropna(how='all',inplace = True)"
   ]
  },
  {
   "cell_type": "code",
   "execution_count": null,
   "id": "6bf84053-7b88-4816-aad0-40e86cdea67c",
   "metadata": {},
   "outputs": [],
   "source": [
    "high_cmd_protein = []\n",
    "for i in range(len(List)-1):\n",
    "    A = eval('high_'+List[i]).corr()\n",
    "    A.dropna(how='all',axis = 1,inplace = True)\n",
    "    A.dropna(how='all',inplace = True)\n",
    "\n",
    "    B = high_true_protein_corr\n",
    "    \n",
    "    inter_cell = A.columns.intersection(B.columns)\n",
    "    inter_gene = A.index.intersection(B.index)\n",
    "    B = B[inter_cell]\n",
    "    B = (B.T)[inter_gene].T\n",
    "    A = (A.T)[inter_gene].T\n",
    "    A = A[inter_cell]\n",
    "\n",
    "    cmd = CMD_dist(A.values.T,B.values)\n",
    "    high_cmd_protein.append(cmd)\n",
    "\n",
    "high_sciPENN_protein_cmd = CMD_dist(high_sciPENN_scale.corr().values.T,high_C.corr().values)\n",
    "high_cmd_protein.append(high_sciPENN_protein_cmd)"
   ]
  },
  {
   "cell_type": "code",
   "execution_count": null,
   "id": "697081c8-d93a-4d38-9545-37187ca64935",
   "metadata": {},
   "outputs": [],
   "source": [
    "low_cmd_protein = []\n",
    "for i in range(len(List)-1):\n",
    "    A = eval('low_'+List[i]).corr()\n",
    "    A.dropna(how='all',axis = 1,inplace = True)\n",
    "    A.dropna(how='all',inplace = True)\n",
    "\n",
    "    B = low_true_protein_corr\n",
    "    \n",
    "    inter_cell = A.columns.intersection(B.columns)\n",
    "    inter_gene = A.index.intersection(B.index)\n",
    "    B = B[inter_cell]\n",
    "    B = (B.T)[inter_gene].T\n",
    "    A = (A.T)[inter_gene].T\n",
    "    A = A[inter_cell]\n",
    "\n",
    "    cmd = CMD_dist(A.values.T,B.values)\n",
    "    low_cmd_protein.append(cmd)\n",
    "\n",
    "low_sciPENN_protein_cmd = CMD_dist(low_sciPENN_scale.corr().values.T,low_C.corr().values)\n",
    "low_cmd_protein.append(low_sciPENN_protein_cmd)"
   ]
  },
  {
   "cell_type": "code",
   "execution_count": null,
   "id": "2d61f049-835f-43da-ba12-b22b0312b5e3",
   "metadata": {},
   "outputs": [],
   "source": [
    "high_CMD_protein = pd.DataFrame(data = high_cmd_protein, index = index,columns = ['cmd_values'])\n",
    "low_CMD_protein = pd.DataFrame(data = low_cmd_protein, index = index,columns = ['cmd_values'])"
   ]
  },
  {
   "cell_type": "code",
   "execution_count": 70,
   "id": "8f4beec8-fbdd-4e58-a65c-f044c4e71f89",
   "metadata": {},
   "outputs": [],
   "source": [
    "high_CMD_protein.to_csv(\"../Results/new_pictures/\"+dataset_num+\"/\"+ dataset_num +\"_cmd_proteins_high.csv\")\n",
    "low_CMD_protein.to_csv(\"../Results/new_pictures/\"+dataset_num+\"/\"+ dataset_num +\"_cmd_proteins_low.csv\")"
   ]
  },
  {
   "cell_type": "markdown",
   "id": "e3d47ad4-f2c5-4e20-b7b6-239043b511ff",
   "metadata": {},
   "source": [
    "### 绘制图像"
   ]
  },
  {
   "cell_type": "code",
   "execution_count": 71,
   "id": "351e2ff3-00c6-433c-9683-e982db73c36e",
   "metadata": {},
   "outputs": [],
   "source": [
    "index_new = ['totalVI','scArches','Dengkw','DANCE','CMAE','BABEL','Seurat','Liger','cTp_net','sciPENN']"
   ]
  },
  {
   "cell_type": "code",
   "execution_count": 77,
   "id": "e6fdf9b5-de0c-47e4-9441-77b512a900b6",
   "metadata": {},
   "outputs": [],
   "source": [
    "high_PCCs_protein = high_PCCs_protein.T[index_new].T\n",
    "high_PCCs_cell = high_PCCs_cell.T[index_new].T\n",
    "\n",
    "high_CMD_cell = high_CMD_cell.T[index_new].T\n",
    "high_CMD_protein = high_CMD_protein.T[index_new].T"
   ]
  },
  {
   "cell_type": "code",
   "execution_count": 78,
   "id": "c2c8ff2a-125a-4a7e-95c7-ecd0aa4ab904",
   "metadata": {},
   "outputs": [],
   "source": [
    "low_PCCs_protein = low_PCCs_protein.T[index_new].T\n",
    "low_PCCs_cell = low_PCCs_cell.T[index_new].T\n",
    "\n",
    "low_CMD_cell = low_CMD_cell.T[index_new].T\n",
    "low_CMD_protein = low_CMD_protein.T[index_new].T"
   ]
  },
  {
   "cell_type": "code",
   "execution_count": 79,
   "id": "0041ebee-a95a-4f42-9b3c-faa8447bfb17",
   "metadata": {},
   "outputs": [],
   "source": [
    "my_pal = {'totalVI':'#E6D885','scArches':'#F1C67F','Dengkw':'#E7A365','DANCE':'#EE9185','CMAE':'#E2A6C0','BABEL':'#BEABCB','Seurat':'#7DC9C4','sciPENN':'#84a4e8','Liger':'#65AADD','cTp_net':'#7CC38A'}"
   ]
  },
  {
   "cell_type": "code",
   "execution_count": 80,
   "id": "141e3b56-16eb-4c5c-a747-437f82c3b527",
   "metadata": {},
   "outputs": [
    {
     "data": {
      "image/png": "[encoded data removed]",
      "text/plain": [
       "<Figure size 1440x480 with 8 Axes>"
      ]
     },
     "metadata": {},
     "output_type": "display_data"
    }
   ],
   "source": [
    "font = {'family':'DejaVu Sans','weight':'normal','size':15}\n",
    "plt.figure(figsize=(18,6), dpi= 80)\n",
    "\n",
    "ax1 = plt.subplot(241)\n",
    "ax1 = sns.boxplot(data=high_PCCs_protein.T,orient = \"h\",linewidth=1,width=0.7, palette=my_pal,fliersize=0,flierprops = {'marker':'o'})\n",
    "ax1.set_xlabel(\"high pcc protein\")\n",
    "ax1.set_xlim(-1.1,1.1)\n",
    "ax1.spines['top'].set_visible(False)\n",
    "ax1.spines['right'].set_visible(False)\n",
    "\n",
    "ax2 = plt.subplot(242)\n",
    "ax2 = sns.boxplot(data=high_PCCs_cell.T,orient = \"h\",linewidth=1,width=0.7, palette=my_pal,fliersize=0,flierprops = {'marker':'o'})\n",
    "ax2.set_xlabel(\"high pcc cell\")\n",
    "ax2.set_xlim(-1.1,1.1)\n",
    "ax2.spines['top'].set_visible(False)\n",
    "ax2.spines['right'].set_visible(False)\n",
    "plt.yticks(alpha=0)\n",
    "\n",
    "ax3 = plt.subplot(243)\n",
    "ax3 = sns.barplot(x = \"cmd_values\",y = high_CMD_cell.index,orient = \"h\",data = high_CMD_cell, ci = 95, palette = my_pal)\n",
    "ax3.set_xlabel(\"high cmd cell\")\n",
    "ax3.spines['top'].set_visible(False)\n",
    "ax3.spines['right'].set_visible(False)\n",
    "ax3.set_xticks(np.arange(0,0.55,0.1))\n",
    "plt.yticks(alpha=0)\n",
    "\n",
    "ax4 = plt.subplot(244)\n",
    "ax4 = sns.barplot(x = \"cmd_values\",y = high_CMD_protein.index,orient = \"h\",data = high_CMD_protein, ci = 95, palette = my_pal)\n",
    "ax4.set_xlabel(\"high cmd protein\")\n",
    "ax4.spines['top'].set_visible(False)\n",
    "ax4.spines['right'].set_visible(False)\n",
    "ax4.set_xticks(np.arange(0,0.55,0.1))\n",
    "plt.yticks(alpha=0)\n",
    "\n",
    "ax5 = plt.subplot(245)\n",
    "ax5 = sns.boxplot(data=low_PCCs_protein.T,orient = \"h\",linewidth=1,width=0.7, palette=my_pal,fliersize=0,flierprops = {'marker':'o'})\n",
    "ax5.set_xlabel(\"low pcc protein\")\n",
    "ax5.set_xlim(-1.1,1.1)\n",
    "ax5.spines['top'].set_visible(False)\n",
    "ax5.spines['right'].set_visible(False)\n",
    "\n",
    "ax6 = plt.subplot(246)\n",
    "ax6 = sns.boxplot(data=low_PCCs_cell.T,orient = \"h\",linewidth=1,width=0.7, palette=my_pal,fliersize=0,flierprops = {'marker':'o'})\n",
    "ax6.set_xlabel(\"low pcc cell\")\n",
    "ax6.set_xlim(-1.1,1.1)\n",
    "ax6.spines['top'].set_visible(False)\n",
    "ax6.spines['right'].set_visible(False)\n",
    "plt.yticks(alpha=0)\n",
    "\n",
    "ax7 = plt.subplot(247)\n",
    "ax7 = sns.barplot(x = \"cmd_values\",y = low_CMD_cell.index,orient = \"h\",data = low_CMD_cell, ci = 95, palette = my_pal)\n",
    "ax7.set_xlabel(\"low cmd cell\")\n",
    "ax7.spines['top'].set_visible(False)\n",
    "ax7.spines['right'].set_visible(False)\n",
    "ax7.set_xticks(np.arange(0,0.55,0.1))\n",
    "plt.yticks(alpha=0)\n",
    "\n",
    "ax8 = plt.subplot(248)\n",
    "ax8 = sns.barplot(x = \"cmd_values\",y = low_CMD_protein.index,orient = \"h\",data = low_CMD_protein, ci = 95, palette = my_pal)\n",
    "ax8.set_xlabel(\"low cmd protein\")\n",
    "ax8.spines['top'].set_visible(False)\n",
    "ax8.spines['right'].set_visible(False)\n",
    "ax8.set_xticks(np.arange(0,0.55,0.1))\n",
    "plt.yticks(alpha=0)\n",
    "\n",
    "# plt.savefig(\"../Results/new_pictures/dataset\"+NUM+\"/dataset\"+ NUM +\"_high_low.pdf\", bbox_inches=\"tight\")\n",
    "plt.show()\n"
   ]
  }
 ],
 "metadata": {
  "kernelspec": {
   "display_name": "Python [conda env:celleagle] *",
   "language": "python",
   "name": "conda-env-celleagle-py"
  },
  "language_info": {
   "codemirror_mode": {
    "name": "ipython",
    "version": 3
   },
   "file_extension": ".py",
   "mimetype": "text/x-python",
   "name": "python",
   "nbconvert_exporter": "python",
   "pygments_lexer": "ipython3",
   "version": "3.8.0"
  }
 },
 "nbformat": 4,
 "nbformat_minor": 5
}
