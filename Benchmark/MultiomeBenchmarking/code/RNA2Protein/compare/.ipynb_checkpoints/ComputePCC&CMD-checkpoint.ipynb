{
 "cells": [
  {
   "cell_type": "code",
   "execution_count": 1,
   "id": "afacd1b3-8e85-4a31-9f97-8ac1778c146d",
   "metadata": {},
   "outputs": [],
   "source": [
    "import numpy as np\n",
    "import pandas as pd\n",
    "import scanpy as sc\n",
    "import anndata as ad\n",
    "from scipy.stats import pearsonr\n",
    "import matplotlib.pyplot as plt\n",
    "import seaborn as sns\n",
    "import argparse\n",
    "import os"
   ]
  },
  {
   "cell_type": "code",
   "execution_count": 2,
   "id": "7390f301-7a32-4a53-a089-1225ffaa9226",
   "metadata": {},
   "outputs": [],
   "source": [
    "from scipy.sparse import csr_matrix, coo_matrix, csc_matrix\n",
    "from scipy.io import mmread, mmwrite"
   ]
  },
  {
   "cell_type": "code",
   "execution_count": 3,
   "id": "bdf949da-926d-4492-9372-304c2ded1b48",
   "metadata": {},
   "outputs": [],
   "source": [
    "from scipy import stats"
   ]
  },
  {
   "cell_type": "code",
   "execution_count": 225,
   "id": "bd270edb-1679-4297-a2f4-c8a6432297e8",
   "metadata": {},
   "outputs": [],
   "source": [
    "import seaborn as sns"
   ]
  },
  {
   "cell_type": "code",
   "execution_count": 5,
   "id": "0d54bfa0-a59c-459a-a6c2-dfad8baf0349",
   "metadata": {},
   "outputs": [],
   "source": [
    "import matplotlib\n",
    "\n",
    "matplotlib.rcParams.update(matplotlib.rcParamsDefault)\n",
    "# matplotlib.rcParams['pdf.fonttype'] = 42\n",
    "# matplotlib.rcParams['ps.fonttype'] = 42\n",
    "# matplotlib.rcParams['font.serif'] = ['Arial']\n",
    "# # matplotlib.rcParams['font.serif'] = ['SimHei']\n",
    "# sc.settings.set_figure_params(dpi=150,dpi_save=300,facecolor='white',fontsize=10,figsize=(3,3))\n",
    "matplotlib.rcParams['font.serif'] = ['Arial']"
   ]
  },
  {
   "cell_type": "markdown",
   "id": "2923069c-743b-4c5b-8b07-ae8984fdb301",
   "metadata": {},
   "source": [
    "# Load data #"
   ]
  },
  {
   "cell_type": "code",
   "execution_count": 538,
   "id": "98cc38b5-d337-4657-b9a9-87a56a032898",
   "metadata": {},
   "outputs": [],
   "source": [
    "train_id = \"22\"\n",
    "test_id = \"21\"\n",
    "data_path = \"../dataset/dataset\""
   ]
  },
  {
   "cell_type": "code",
   "execution_count": 539,
   "id": "a1ff3570-a150-4a71-9f02-c298403a4e03",
   "metadata": {},
   "outputs": [
    {
     "name": "stderr",
     "output_type": "stream",
     "text": [
      "/tmp/ipykernel_17376/2258649607.py:5: FutureWarning: The default value of regex will change from True to False in a future version. In addition, single character regular expressions will *not* be treated as literal strings when regex=True.\n",
      "  true_data.columns = true_data.columns.str.replace(\".\",\"_\")\n"
     ]
    }
   ],
   "source": [
    "true_data_path = data_path + test_id +\"_adata.h5ad\"\n",
    "test_data = sc.read(true_data_path)\n",
    "true_data = test_data.obsm['protein_expression']\n",
    "true_data.columns = true_data.columns.str.replace(\"-\",\"_\")\n",
    "true_data.columns = true_data.columns.str.replace(\".\",\"_\")"
   ]
  },
  {
   "cell_type": "code",
   "execution_count": 540,
   "id": "1c4e9adc-7bef-4b04-a600-26e17682d9e9",
   "metadata": {},
   "outputs": [
    {
     "name": "stderr",
     "output_type": "stream",
     "text": [
      "/tmp/ipykernel_17376/3239701228.py:3: FutureWarning: The default value of regex will change from True to False in a future version. In addition, single character regular expressions will *not* be treated as literal strings when regex=True.\n",
      "  train_data.obsm['protein_expression'].columns = train_data.obsm['protein_expression'].columns.str.replace(\".\",\"_\")\n"
     ]
    }
   ],
   "source": [
    "train_data = sc.read(data_path + train_id +\"_adata.h5ad\")\n",
    "train_data.obsm['protein_expression'].columns = train_data.obsm['protein_expression'].columns.str.replace(\"-\",\"_\")\n",
    "train_data.obsm['protein_expression'].columns = train_data.obsm['protein_expression'].columns.str.replace(\".\",\"_\")"
   ]
  },
  {
   "cell_type": "code",
   "execution_count": 552,
   "id": "cdfb276b-2f10-4184-8ab1-865e9b30a556",
   "metadata": {},
   "outputs": [],
   "source": [
    "totalVI_path = \"../Results/\" + test_id + \"_from_\" + train_id + \"_totalVI.csv\"\n",
    "scArches_path = \"../Results/\" + test_id + \"_from_\" + train_id + \"_scArches.csv\"\n",
    "Dengkw_path = \"../Results/\" + test_id + \"_from_\" + train_id + \"_Dengkw.csv\"\n",
    "cTp_net_path = \"../Results/\" + test_id + \"_from_\" + train_id + \"_cTPnet.csv\"\n",
    "DANCE_path = \"../Results/\" + test_id + \"_from_\" + train_id + \"_dance.csv\"\n",
    "Seurat_path = \"../Results/\" + test_id + \"_from_\" + train_id + \"_seurat.csv\"\n",
    "Liger_path = \"../Results/\" + test_id + \"_from_\" + train_id + \"_Liger.csv\"\n",
    "BABEL_path = \"../Results/\" + test_id + \"_from_\" + train_id + \"_babel.csv\"\n",
    "CMAE_path = \"../Results/\" + test_id + \"_from_\" + train_id + \"_cmae.csv\"\n",
    "sciPENN_path = \"../Results/\" + test_id + \"_from_\" + train_id + \"_sciPENN.csv\""
   ]
  },
  {
   "cell_type": "code",
   "execution_count": 553,
   "id": "f95e6b37-620d-48ba-bd80-2c7776d4d69c",
   "metadata": {},
   "outputs": [],
   "source": [
    "totalVI_pre = pd.read_csv(totalVI_path,index_col = 0)\n",
    "scArches_pre = pd.read_csv(scArches_path,index_col = 0)\n",
    "Dengkw_pre = pd.read_csv(Dengkw_path,index_col = 0)\n",
    "cTp_net_pre = pd.read_csv(cTp_net_path,index_col = 0).T\n",
    "DANCE_pre = pd.read_csv(DANCE_path,index_col = 0).T\n",
    "Seurat_pre = pd.read_csv(Seurat_path,index_col = 0).T\n",
    "Liger_pre = pd.read_csv(Liger_path,index_col = 0).T\n",
    "BABEL_pre = pd.read_csv(BABEL_path,index_col = 0).T\n",
    "CMAE_pre = pd.read_csv(CMAE_path,index_col = 0).T\n",
    "sciPENN_pre = pd.read_csv(sciPENN_path,index_col = 0)"
   ]
  },
  {
   "cell_type": "code",
   "execution_count": 554,
   "id": "cb540631-eedc-4014-885f-80c1489f4230",
   "metadata": {},
   "outputs": [
    {
     "name": "stderr",
     "output_type": "stream",
     "text": [
      "/tmp/ipykernel_17376/3960920538.py:2: FutureWarning: The default value of regex will change from True to False in a future version. In addition, single character regular expressions will *not* be treated as literal strings when regex=True.\n",
      "  totalVI_pre.columns = totalVI_pre.columns.str.replace(\".\",\"_\")\n",
      "/tmp/ipykernel_17376/3960920538.py:8: FutureWarning: The default value of regex will change from True to False in a future version. In addition, single character regular expressions will *not* be treated as literal strings when regex=True.\n",
      "  Seurat_pre.columns = Seurat_pre.columns.str.replace(\".\",\"_\")\n",
      "/tmp/ipykernel_17376/3960920538.py:10: FutureWarning: The default value of regex will change from True to False in a future version. In addition, single character regular expressions will *not* be treated as literal strings when regex=True.\n",
      "  Liger_pre.columns = Liger_pre.columns.str.replace(\".\",\"_\")\n",
      "/tmp/ipykernel_17376/3960920538.py:12: FutureWarning: The default value of regex will change from True to False in a future version. In addition, single character regular expressions will *not* be treated as literal strings when regex=True.\n",
      "  sciPENN_pre.columns = sciPENN_pre.columns.str.replace(\".\",\"_\")\n"
     ]
    }
   ],
   "source": [
    "totalVI_pre.columns = totalVI_pre.columns.str.replace(\"-\",\"_\")\n",
    "totalVI_pre.columns = totalVI_pre.columns.str.replace(\".\",\"_\")\n",
    "scArches_pre.columns = scArches_pre.columns.str.replace(\"-\",\"_\")\n",
    "Dengkw_pre.columns = Dengkw_pre.columns.str.replace(\"-\",\"_\")\n",
    "cTp_net_pre.columns = cTp_net_pre.columns.str.replace(\"-\",\"_\")\n",
    "Seurat_pre.columns = Seurat_pre.columns.str.replace(\"-\",\"_\")\n",
    "Seurat_pre.columns = Seurat_pre.columns.str.replace(\".\",\"_\")\n",
    "Liger_pre.columns = Liger_pre.columns.str.replace(\"-\",\"_\")\n",
    "Liger_pre.columns = Liger_pre.columns.str.replace(\".\",\"_\")\n",
    "sciPENN_pre.columns = sciPENN_pre.columns.str.replace(\"-\",\"_\")\n",
    "sciPENN_pre.columns = sciPENN_pre.columns.str.replace(\".\",\"_\")"
   ]
  },
  {
   "cell_type": "code",
   "execution_count": 555,
   "id": "36b7016f-4bf3-43b8-b5ab-71c935c1c135",
   "metadata": {},
   "outputs": [],
   "source": [
    "DANCE_pre = pd.DataFrame(data = DANCE_pre.values, index = true_data.index , columns = proteins_inter)\n",
    "CMAE_pre = pd.DataFrame(data = CMAE_pre.values, index = true_data.index , columns = train_data.obsm['protein_expression'].columns)\n",
    "CMAE_pre = CMAE_pre[proteins_inter]\n",
    "BABEL_pre = pd.DataFrame(data = BABEL_pre.values, index = true_data.index , columns = train_data.obsm['protein_expression'].columns)\n",
    "BABEL_pre = BABEL_pre[proteins_inter]\n",
    "scArches_pre = scArches_pre[proteins_inter]\n",
    "Dengkw_pre = Dengkw_pre[proteins_inter]\n",
    "cTp_net_pre = cTp_net_pre[proteins_inter]\n",
    "Seurat_pre = Seurat_pre[proteins_inter]\n",
    "Liger_pre = Liger_pre[proteins_inter]\n",
    "sciPENN_pre = sciPENN_pre[proteins_inter]\n",
    "true_data = true_data[proteins_inter]"
   ]
  },
  {
   "cell_type": "code",
   "execution_count": 556,
   "id": "a2f61448-6acb-494b-8373-3f94e5910f4a",
   "metadata": {},
   "outputs": [
    {
     "name": "stdout",
     "output_type": "stream",
     "text": [
      "(7624, 210)\n",
      "(7624, 210)\n",
      "(7624, 210)\n",
      "(7624, 210)\n",
      "(7624, 210)\n",
      "(7624, 210)\n",
      "(7624, 210)\n",
      "(7624, 210)\n",
      "(7624, 210)\n",
      "(7624, 210)\n"
     ]
    }
   ],
   "source": [
    "print(DANCE_pre.shape)\n",
    "print(totalVI_pre.shape)\n",
    "print(scArches_pre.shape)\n",
    "print(Dengkw_pre.shape)\n",
    "print(cTp_net_pre.shape)\n",
    "print(Seurat_pre.shape)\n",
    "print(Liger_pre.shape)\n",
    "print(BABEL_pre.shape)\n",
    "print(CMAE_pre.shape)\n",
    "print(sciPENN_pre.shape)"
   ]
  },
  {
   "cell_type": "markdown",
   "id": "02c48a5f-63e0-4d28-84a8-5ac63e0f1444",
   "metadata": {},
   "source": [
    "# compute PCCs #"
   ]
  },
  {
   "cell_type": "markdown",
   "id": "8450a78f-6a30-4096-b361-a89e90067dfc",
   "metadata": {},
   "source": [
    "### totalVI ###"
   ]
  },
  {
   "cell_type": "code",
   "execution_count": 558,
   "id": "3bee7689-df42-4338-89e8-148d1ff1135a",
   "metadata": {},
   "outputs": [],
   "source": [
    "totalVI_pcc_protein = []\n",
    "for i in range(totalVI_pre.shape[1]):\n",
    "    x = np.array(totalVI_pre[totalVI_pre.columns[i]])\n",
    "    y = np.array(true_data[true_data.columns[i]])    \n",
    "    pcc = pearsonr(x,y)[0]\n",
    "    totalVI_pcc_protein.append(pcc)\n",
    "totalVI_pcc_cell = []\n",
    "for i in range(totalVI_pre.shape[0]):\n",
    "    x = np.array((totalVI_pre.T)[totalVI_pre.index[i]])\n",
    "    y = np.array((true_data.T)[true_data.index[i]])    \n",
    "    pcc = pearsonr(x,y)[0]\n",
    "    totalVI_pcc_cell.append(pcc)"
   ]
  },
  {
   "cell_type": "markdown",
   "id": "2b509dcf-b65b-44b2-9681-80f1a738b1fb",
   "metadata": {},
   "source": [
    "### scArches ###"
   ]
  },
  {
   "cell_type": "code",
   "execution_count": 559,
   "id": "4fa6789a-4310-483a-8508-691a67fca300",
   "metadata": {},
   "outputs": [],
   "source": [
    "scArches_pcc_protein = []\n",
    "for i in range(scArches_pre.shape[1]):\n",
    "    x = np.array(scArches_pre[scArches_pre.columns[i]])\n",
    "    y = np.array(true_data[true_data.columns[i]])    \n",
    "    pcc = pearsonr(x,y)[0]\n",
    "    scArches_pcc_protein.append(pcc)\n",
    "scArches_pcc_cell = []\n",
    "for i in range(scArches_pre.shape[0]):\n",
    "    x = np.array((scArches_pre.T)[scArches_pre.index[i]])\n",
    "    y = np.array((true_data.T)[true_data.index[i]])    \n",
    "    pcc = pearsonr(x,y)[0]\n",
    "    scArches_pcc_cell.append(pcc)"
   ]
  },
  {
   "cell_type": "markdown",
   "id": "01d6f930-acd1-4439-8e9e-359099c6c304",
   "metadata": {},
   "source": [
    "### Guanlab-dengkw ###"
   ]
  },
  {
   "cell_type": "code",
   "execution_count": 560,
   "id": "69c0fdec-884a-49ae-99e5-434856a573e0",
   "metadata": {},
   "outputs": [],
   "source": [
    "Dengkw_pcc_protein = []\n",
    "for i in range(Dengkw_pre.shape[1]):\n",
    "    x = np.array(Dengkw_pre[Dengkw_pre.columns[i]])\n",
    "    y = np.array(true_data[true_data.columns[i]])    \n",
    "    pcc = pearsonr(x,y)[0]\n",
    "    Dengkw_pcc_protein.append(pcc)\n",
    "Dengkw_pcc_cell = []\n",
    "for i in range(Dengkw_pre.shape[0]):\n",
    "    x = np.array((Dengkw_pre.T)[Dengkw_pre.index[i]])\n",
    "    y = np.array((true_data.T)[true_data.index[i]])    \n",
    "    pcc = pearsonr(x,y)[0]\n",
    "    Dengkw_pcc_cell.append(pcc)"
   ]
  },
  {
   "cell_type": "markdown",
   "id": "0128c887-4561-453b-a4c4-b3994fbf8780",
   "metadata": {},
   "source": [
    "### cTP-net ###"
   ]
  },
  {
   "cell_type": "code",
   "execution_count": 561,
   "id": "20d9c5a9-fb92-4b51-bd80-630a86b343d9",
   "metadata": {},
   "outputs": [],
   "source": [
    "clr_true = true_data.apply(lambda x: np.log((x+1.0)/stats.gmean(x+1.0)), axis=0)"
   ]
  },
  {
   "cell_type": "code",
   "execution_count": 562,
   "id": "1f0fd94b-5a5a-4057-8191-cec4321acf2c",
   "metadata": {},
   "outputs": [],
   "source": [
    "cTp_net_pcc_protein = []\n",
    "for i in range(cTp_net_pre.shape[1]):\n",
    "    x = np.array(cTp_net_pre[cTp_net_pre.columns[i]])\n",
    "    y = np.array(clr_true[clr_true.columns[i]])    \n",
    "    pcc = pearsonr(x,y)[0]\n",
    "    cTp_net_pcc_protein.append(pcc)\n",
    "cTp_net_pcc_cell = []\n",
    "for i in range(cTp_net_pre.shape[0]):\n",
    "    x = np.array((cTp_net_pre.T)[cTp_net_pre.index[i]])\n",
    "    y = np.array((clr_true.T)[clr_true.index[i]])    \n",
    "    pcc = pearsonr(x,y)[0]\n",
    "    cTp_net_pcc_cell.append(pcc)"
   ]
  },
  {
   "cell_type": "markdown",
   "id": "a2ba2ce7-8bb4-41d0-8448-38a6a2b3d9f3",
   "metadata": {},
   "source": [
    "### ScMoGCN ###"
   ]
  },
  {
   "cell_type": "code",
   "execution_count": 563,
   "id": "8388349f-1388-4cb4-8147-9e825bfe6684",
   "metadata": {},
   "outputs": [],
   "source": [
    "DANCE_pcc_protein = []\n",
    "for i in range(DANCE_pre.shape[1]):\n",
    "    x = np.array(DANCE_pre[DANCE_pre.columns[i]])\n",
    "    y = np.array(true_data[true_data.columns[i]])    \n",
    "    pcc = pearsonr(x,y)[0]\n",
    "    DANCE_pcc_protein.append(pcc)\n",
    "DANCE_pcc_cell = []\n",
    "for i in range(DANCE_pre.shape[0]):\n",
    "    x = np.array((DANCE_pre.T)[DANCE_pre.index[i]])\n",
    "    y = np.array((true_data.T)[true_data.index[i]])    \n",
    "    pcc = pearsonr(x,y)[0]\n",
    "    DANCE_pcc_cell.append(pcc)"
   ]
  },
  {
   "cell_type": "markdown",
   "id": "ea831972-7a75-4e8f-90a1-1381e5961f0a",
   "metadata": {},
   "source": [
    "### Seurat ###"
   ]
  },
  {
   "cell_type": "code",
   "execution_count": 564,
   "id": "93adc30e-df87-4108-87af-85c87f906265",
   "metadata": {},
   "outputs": [],
   "source": [
    "clr_true = true_data.apply(lambda x: np.log((x+1.0)/stats.gmean(x+1.0)), axis=0)"
   ]
  },
  {
   "cell_type": "code",
   "execution_count": 565,
   "id": "15c653f7-58ef-48d1-87ea-d10af9cfbaa9",
   "metadata": {},
   "outputs": [],
   "source": [
    "Seurat_pcc_protein = []\n",
    "for i in range(Seurat_pre.shape[1]):\n",
    "    x = np.array(Seurat_pre[Seurat_pre.columns[i]])\n",
    "    y = np.array(clr_true[clr_true.columns[i]])    \n",
    "    pcc = pearsonr(x,y)[0]\n",
    "    Seurat_pcc_protein.append(pcc)\n",
    "Seurat_pcc_cell = []\n",
    "for i in range(Seurat_pre.shape[0]):\n",
    "    x = np.array((Seurat_pre.T)[Seurat_pre.index[i]])\n",
    "    y = np.array((clr_true.T)[clr_true.index[i]])    \n",
    "    pcc = pearsonr(x,y)[0]\n",
    "    Seurat_pcc_cell.append(pcc)"
   ]
  },
  {
   "cell_type": "markdown",
   "id": "31d69986-5619-4572-a921-fa46e4375976",
   "metadata": {},
   "source": [
    "### LIGER ##"
   ]
  },
  {
   "cell_type": "code",
   "execution_count": 566,
   "id": "45edea97-0ed6-431b-b135-3b0608ab40b7",
   "metadata": {},
   "outputs": [
    {
     "name": "stderr",
     "output_type": "stream",
     "text": [
      "/home/qukun/wsy1216/miniconda3/envs/celleagle/lib/python3.8/site-packages/scipy/stats/_stats_py.py:4068: PearsonRConstantInputWarning: An input array is constant; the correlation coefficient is not defined.\n",
      "  warnings.warn(PearsonRConstantInputWarning())\n"
     ]
    }
   ],
   "source": [
    "Liger_pcc_protein = []\n",
    "for i in range(Liger_pre.shape[1]):\n",
    "    x = np.array(Liger_pre[Liger_pre.columns[i]])\n",
    "    y = np.array(true_data[true_data.columns[i]])    \n",
    "    pcc = pearsonr(x,y)[0]\n",
    "    Liger_pcc_protein.append(pcc)\n",
    "Liger_pcc_cell = []\n",
    "for i in range(Liger_pre.shape[0]):\n",
    "    x = np.array((Liger_pre.T)[Liger_pre.index[i]])\n",
    "    y = np.array((true_data.T)[true_data.index[i]])    \n",
    "    pcc = pearsonr(x,y)[0]\n",
    "    Liger_pcc_cell.append(pcc)"
   ]
  },
  {
   "cell_type": "markdown",
   "id": "009d0f61-ef75-40e4-9de1-7045b60ece0c",
   "metadata": {},
   "source": [
    "### BABEL ###"
   ]
  },
  {
   "cell_type": "code",
   "execution_count": 567,
   "id": "5c30e835-7af5-4af4-86a5-b817ec37d3a7",
   "metadata": {},
   "outputs": [],
   "source": [
    "BABEL_pcc_protein = []\n",
    "for i in range(BABEL_pre.shape[1]):\n",
    "    x = np.array(BABEL_pre[BABEL_pre.columns[i]])\n",
    "    y = np.array(true_data[true_data.columns[i]])    \n",
    "    pcc = pearsonr(x,y)[0]\n",
    "    BABEL_pcc_protein.append(pcc)\n",
    "BABEL_pcc_cell = []\n",
    "for i in range(BABEL_pre.shape[0]):\n",
    "    x = np.array((BABEL_pre.T)[BABEL_pre.index[i]])\n",
    "    y = np.array((true_data.T)[true_data.index[i]])    \n",
    "    pcc = pearsonr(x,y)[0]\n",
    "    BABEL_pcc_cell.append(pcc)"
   ]
  },
  {
   "cell_type": "markdown",
   "id": "1b5670f3-190d-4183-bcd2-7406a66ba293",
   "metadata": {},
   "source": [
    "### CMAE ##"
   ]
  },
  {
   "cell_type": "code",
   "execution_count": 568,
   "id": "bf8bf591-0f7f-4d53-a76d-b2b0edbd6dc0",
   "metadata": {},
   "outputs": [],
   "source": [
    "CMAE_pcc_protein = []\n",
    "for i in range(CMAE_pre.shape[1]):\n",
    "    x = np.array(CMAE_pre[CMAE_pre.columns[i]])\n",
    "    y = np.array(true_data[true_data.columns[i]])    \n",
    "    pcc = pearsonr(x,y)[0]\n",
    "    CMAE_pcc_protein.append(pcc)\n",
    "CMAE_pcc_cell = []\n",
    "for i in range(CMAE_pre.shape[0]):\n",
    "    x = np.array((CMAE_pre.T)[CMAE_pre.index[i]])\n",
    "    y = np.array((true_data.T)[true_data.index[i]])    \n",
    "    pcc = pearsonr(x,y)[0]\n",
    "    CMAE_pcc_cell.append(pcc)"
   ]
  },
  {
   "cell_type": "markdown",
   "id": "a38ab07a-984f-4999-8490-0a55e887fbc6",
   "metadata": {},
   "source": [
    "### sciPENN"
   ]
  },
  {
   "cell_type": "code",
   "execution_count": 569,
   "id": "6a6d20da-3338-40c9-b80e-fa0a8a0afaaa",
   "metadata": {},
   "outputs": [],
   "source": [
    "A = ad.AnnData(X = true_data).copy()\n",
    "sc.pp.normalize_total(A)\n",
    "sc.pp.log1p(A)\n",
    "sc.pp.scale(A)\n",
    "\n",
    "B = pd.DataFrame(data = A.X,columns = A.var_names,index = A.obs_names)\n",
    "\n",
    "C = (B.T[sciPENN_pre.index]).T"
   ]
  },
  {
   "cell_type": "code",
   "execution_count": 570,
   "id": "a1c5311c-b55f-4b53-ac62-4c04a574efd2",
   "metadata": {},
   "outputs": [],
   "source": [
    "sciPENN_scale = ad.AnnData(sciPENN_pre)\n",
    "sc.pp.scale(sciPENN_scale)\n",
    "sciPENN_scale = pd.DataFrame(data = sciPENN_scale.X,columns = sciPENN_scale.var_names,index = sciPENN_scale.obs_names)"
   ]
  },
  {
   "cell_type": "code",
   "execution_count": 571,
   "id": "42b6344b-9535-4a29-b0bc-509d2ad57655",
   "metadata": {},
   "outputs": [],
   "source": [
    "sciPENN_pcc_protein = []\n",
    "for i in range(sciPENN_scale.shape[1]):\n",
    "    x = np.array(sciPENN_scale[sciPENN_scale.columns[i]])\n",
    "    y = np.array(C[C.columns[i]])    \n",
    "    pcc = pearsonr(x,y)[0]\n",
    "    sciPENN_pcc_protein.append(pcc)\n",
    "sciPENN_pcc_cell = []\n",
    "for i in range(sciPENN_scale.shape[0]):\n",
    "    x = np.array((sciPENN_scale.T)[sciPENN_scale.index[i]])\n",
    "    y = np.array((C.T)[C.index[i]])    \n",
    "    pcc = pearsonr(x,y)[0]\n",
    "    sciPENN_pcc_cell.append(pcc)"
   ]
  },
  {
   "cell_type": "markdown",
   "id": "56e1d5ac-0c62-4caa-96f5-733e6648c029",
   "metadata": {},
   "source": [
    "### Summary PCC results"
   ]
  },
  {
   "cell_type": "code",
   "execution_count": 574,
   "id": "1ee84785-9527-440a-84f7-d3e8c6d80e45",
   "metadata": {},
   "outputs": [],
   "source": [
    "index = ['totalVI','scArches','Dengkw','cTp_net','DANCE','Seurat','Liger','BABEL','CMAE','sciPENN']\n",
    "pro_columns = true_data.columns\n",
    "cell_columns = true_data.index\n",
    "PCCs_protein = pd.DataFrame([totalVI_pcc_protein,scArches_pcc_protein,Dengkw_pcc_protein,cTp_net_pcc_protein,DANCE_pcc_protein,Seurat_pcc_protein,Liger_pcc_protein,BABEL_pcc_protein,CMAE_pcc_protein,sciPENN_pcc_protein],index = index,columns = pro_columns)\n",
    "PCCs_cell = pd.DataFrame([totalVI_pcc_cell,scArches_pcc_cell,Dengkw_pcc_cell,cTp_net_pcc_cell,DANCE_pcc_cell,Seurat_pcc_cell,Liger_pcc_cell,BABEL_pcc_cell,CMAE_pcc_cell,sciPENN_pcc_cell],index = index,columns = cell_columns)"
   ]
  },
  {
   "cell_type": "code",
   "execution_count": 576,
   "id": "a4edd1bb-3bd1-4353-b1dc-e825e46c9def",
   "metadata": {},
   "outputs": [],
   "source": [
    "PCCs_protein.to_csv(\"../Results/\"+ test_id + \"_from_\" + train_id +\"_pccs_proteins_ten.csv\")\n",
    "PCCs_cell.to_csv(\"../Results/\"+ test_id + \"_from_\" + train_id +\"_pccs_cells_ten.csv\")"
   ]
  },
  {
   "cell_type": "code",
   "execution_count": 577,
   "id": "5ca4f46f-d05a-410a-9ccf-8c789fb99470",
   "metadata": {},
   "outputs": [
    {
     "data": {
      "image/png": "[encoded data removed]",
      "text/plain": [
       "<Figure size 400x320 with 1 Axes>"
      ]
     },
     "metadata": {},
     "output_type": "display_data"
    }
   ],
   "source": [
    "font = {'family':'DejaVu Sans','weight':'normal','size':15}\n",
    "plt.figure(figsize=(5,4), dpi= 80)\n",
    "fig1 = sns.boxplot(data=PCCs_protein.T,orient = \"h\",linewidth=1,width=0.7, palette=\"Blues_r\",fliersize=0,flierprops = {'marker':'o'})\n",
    "fig1.set_xlabel(\"pcc_protein\")\n",
    "fig1.set_xlim(-1.1,1.1)\n",
    "fig1.spines['top'].set_visible(False)\n",
    "fig1.spines['right'].set_visible(False)\n",
    "plt.title(test_id + \"_from_\" + train_id, fontdict={'size': 12})\n",
    "# plt.savefig(\"../Results/\"+ test_id + \"_from_\" + train_id +\"_pccs_proteins_ten.pdf\", bbox_inches=\"tight\")\n",
    "plt.show()"
   ]
  },
  {
   "cell_type": "code",
   "execution_count": 579,
   "id": "b4d2663b-7eeb-4d90-91d1-d443b4a0ba1f",
   "metadata": {},
   "outputs": [
    {
     "data": {
      "image/png": "[encoded data removed]",
      "text/plain": [
       "<Figure size 400x320 with 1 Axes>"
      ]
     },
     "metadata": {},
     "output_type": "display_data"
    }
   ],
   "source": [
    "font = {'family':'DejaVu Sans','weight':'normal','size':15}\n",
    "plt.figure(figsize=(5,4), dpi= 80)\n",
    "fig2 = sns.boxplot(data=PCCs_cell.T,orient = \"h\",linewidth=1,width=0.7, palette=\"Blues_r\",fliersize=0,flierprops = {'marker':'o'})\n",
    "fig2.set_xlabel(\"pcc_cell\")\n",
    "fig2.set_xlim(-1.1,1.1)\n",
    "fig2.spines['top'].set_visible(False)\n",
    "fig2.spines['right'].set_visible(False)\n",
    "plt.title(test_id + \"_from_\" + train_id, fontdict={'size': 12})\n",
    "# plt.savefig(\"../Results/\"+ test_id + \"_from_\" + train_id +\"_pccs_cells_ten.pdf\", bbox_inches=\"tight\")\n",
    "plt.show()"
   ]
  },
  {
   "cell_type": "markdown",
   "id": "d74ff4c9-7a01-4362-985f-423fe1f4074b",
   "metadata": {},
   "source": [
    "# Compute CMDs #"
   ]
  },
  {
   "cell_type": "code",
   "execution_count": 580,
   "id": "a47816d2-abb1-463c-a74c-1d042c069d13",
   "metadata": {},
   "outputs": [],
   "source": [
    "List = ['totalVI_pre','scArches_pre','Dengkw_pre','cTp_net_pre','DANCE_pre','Seurat_pre','Liger_pre','BABEL_pre','CMAE_pre','sciPENN_pre']\n",
    "index = ['totalVI','scArches','Dengkw','cTp_net','DANCE','Seurat','Liger','BABEL','CMAE','sciPENN']"
   ]
  },
  {
   "cell_type": "code",
   "execution_count": 582,
   "id": "39cd01d8-210b-43b5-b186-34257fefc04e",
   "metadata": {},
   "outputs": [],
   "source": [
    "def CMD_dist(A, B):\n",
    "    a = np.multiply(A,B).sum()\n",
    "    # a = np.trace(A.dot(B))\n",
    "    b = np.linalg.norm(A,'fro')*np.linalg.norm(B,'fro')\n",
    "    return 1- a/(b+1e-8)"
   ]
  },
  {
   "cell_type": "code",
   "execution_count": null,
   "id": "7f634355-6a07-41e0-ad09-93ca96805d9f",
   "metadata": {},
   "outputs": [],
   "source": [
    "# compute cmd_cell\n",
    "true_corr = true_data.T.corr()\n",
    "true_corr.dropna(how='all',axis = 1,inplace = True)\n",
    "true_corr.dropna(how='all',inplace = True)\n",
    "\n",
    "cmd_cell = []\n",
    "\n",
    "for i in range(len(List)-1):\n",
    "    A = eval(List[i]).T.corr()\n",
    "    A.dropna(how='all',axis = 1,inplace = True)\n",
    "    A.dropna(how='all',inplace = True)\n",
    "\n",
    "    B = true_corr\n",
    "    \n",
    "    inter_cell = A.index.intersection(B.index)\n",
    "    B = B[inter_cell]\n",
    "    B = (B.T)[inter_cell].T\n",
    "    \n",
    "    A = A[inter_cell]\n",
    "    A = (A.T)[inter_cell].T\n",
    "    \n",
    "    cmd = CMD_dist(A.values.T,B.values)\n",
    "\n",
    "    cmd_cell.append(cmd)\n",
    "\n",
    "sciPENN_cell_cmd = CMD_dist(sciPENN_scale.T.corr().values.T,C.T.corr().values)\n",
    "cmd_cell.append(sciPENN_cell_cmd)\n",
    "\n",
    "CMD_cell = pd.DataFrame(data = cmd_cell, index = index,columns = ['cmd_values'])"
   ]
  },
  {
   "cell_type": "code",
   "execution_count": null,
   "id": "51d377e6-e8d3-4717-a9eb-77a348e80327",
   "metadata": {},
   "outputs": [],
   "source": [
    "# compute cmd_protein\n",
    "true_protein_corr = true_data.corr()\n",
    "true_protein_corr.dropna(how='all',axis = 1,inplace = True)\n",
    "true_protein_corr.dropna(how='all',inplace = True)\n",
    "\n",
    "cmd_protein = []\n",
    "for i in range(len(List)-1):\n",
    "    A = eval(List[i]).corr()\n",
    "    A.dropna(how='all',axis = 1,inplace = True)\n",
    "    A.dropna(how='all',inplace = True)\n",
    "\n",
    "    B = true_protein_corr\n",
    "    \n",
    "    inter_cell = A.columns.intersection(B.columns)\n",
    "    inter_gene = A.index.intersection(B.index)\n",
    "    B = B[inter_cell]\n",
    "    B = (B.T)[inter_gene].T\n",
    "    \n",
    "    A = (A.T)[inter_gene].T\n",
    "    A = A[inter_cell]\n",
    "\n",
    "    cmd = CMD_dist(A.values.T,B.values)\n",
    "\n",
    "    cmd_protein.append(cmd)\n",
    "\n",
    "sciPENN_protein_cmd = CMD_dist(sciPENN_scale.corr().values.T,C.corr().values)\n",
    "cmd_protein.append(sciPENN_protein_cmd)\n",
    "\n",
    "CMD_protein = pd.DataFrame(data = cmd_protein, index = index,columns = ['cmd_values'])"
   ]
  },
  {
   "cell_type": "code",
   "execution_count": 589,
   "id": "786a3c72-d39d-412f-bd85-ced58431940e",
   "metadata": {},
   "outputs": [],
   "source": [
    "CMD_cell.to_csv(\"../Results/\"+ test_id + \"_from_\" + train_id +\"_cmd_cells_ten.csv\")\n",
    "CMD_protein.to_csv(\"../Results/\"+ test_id + \"_from_\" + train_id +\"_cmd_proteins_ten.csv\")"
   ]
  },
  {
   "cell_type": "code",
   "execution_count": 590,
   "id": "77a893ff-e145-48c4-b1a7-72be775d99e1",
   "metadata": {},
   "outputs": [
    {
     "data": {
      "image/png": "[encoded data removed]",
      "text/plain": [
       "<Figure size 400x320 with 1 Axes>"
      ]
     },
     "metadata": {},
     "output_type": "display_data"
    }
   ],
   "source": [
    "font = {'family':'DejaVu Sans','weight':'normal','size':15}\n",
    "plt.figure(figsize=(5,4), dpi= 80)\n",
    "fig3 = sns.barplot(x = \"cmd_values\",y = index,orient = \"h\",data = CMD_cell, ci = 95, palette = \"Blues_r\")\n",
    "fig3.set_xlabel(\"cmd_cell\")\n",
    "fig3.spines['top'].set_visible(False)\n",
    "fig3.spines['right'].set_visible(False)\n",
    "fig3.set_xticks(np.arange(0,0.55,0.1))\n",
    "plt.title(test_id + \"_from_\" + train_id, fontdict={'size': 12})\n",
    "# plt.savefig(\"../Results/new_pictures/Twobatches/\"+ test_id + \"_from_\" + train_id +\"_cmd_cells_ten.pdf\", bbox_inches=\"tight\")\n",
    "plt.show()"
   ]
  },
  {
   "cell_type": "code",
   "execution_count": 597,
   "id": "d2c5f05c-f3ed-4226-9abe-9275ba5fd416",
   "metadata": {},
   "outputs": [
    {
     "data": {
      "image/png": "[encoded data removed]",
      "text/plain": [
       "<Figure size 400x320 with 1 Axes>"
      ]
     },
     "metadata": {},
     "output_type": "display_data"
    }
   ],
   "source": [
    "font = {'family':'DejaVu Sans','weight':'normal','size':15}\n",
    "plt.figure(figsize=(5,4), dpi= 80)\n",
    "fig4 = sns.barplot(x = \"cmd_values\",y = index,orient = \"h\",data = CMD_protein, ci = 95, palette = \"Blues_r\")\n",
    "fig4.set_xlabel(\"cmd_protein\")\n",
    "fig4.spines['top'].set_visible(False)\n",
    "fig4.spines['right'].set_visible(False)\n",
    "fig4.set_xticks(np.arange(0,0.55,0.1))\n",
    "plt.title(test_id + \"_from_\" + train_id, fontdict={'size': 12})\n",
    "# plt.savefig(\"../Results/\"+ test_id + \"_from_\" + train_id +\"_cmd_proteins_ten.pdf\", bbox_inches=\"tight\")\n",
    "plt.show()"
   ]
  },
  {
   "cell_type": "markdown",
   "id": "e2360086-7c94-4550-817b-926ebc83006c",
   "metadata": {},
   "source": [
    "# Draw pictures"
   ]
  },
  {
   "cell_type": "code",
   "execution_count": null,
   "id": "85bc7ee2-e812-4983-a563-6393f014f8bd",
   "metadata": {},
   "outputs": [],
   "source": [
    "index_new = ['totalVI','scArches','Dengkw','DANCE','CMAE','BABEL','Seurat','Liger','cTp_net','sciPENN']"
   ]
  },
  {
   "cell_type": "code",
   "execution_count": null,
   "id": "d66890d9-0e78-4d08-9e44-8b2e8f66b529",
   "metadata": {},
   "outputs": [],
   "source": [
    "PCCs_protein = PCCs_protein.T[index_new].T\n",
    "PCCs_cell = PCCs_cell.T[index_new].T\n",
    "\n",
    "CMD_cell = CMD_cell.T[index_new].T\n",
    "CMD_protein = CMD_protein.T[index_new].T"
   ]
  },
  {
   "cell_type": "code",
   "execution_count": null,
   "id": "d26c785b-3688-4014-b02d-0a36de5c3263",
   "metadata": {},
   "outputs": [],
   "source": [
    "my_pal = {'totalVI':'#E6D885','scArches':'#F1C67F','Dengkw':'#E7A365','DANCE':'#EE9185','CMAE':'#E2A6C0','BABEL':'#BEABCB','Seurat':'#7DC9C4','sciPENN':'#84a4e8','Liger':'#65AADD','cTp_net':'#7CC38A'}"
   ]
  },
  {
   "cell_type": "code",
   "execution_count": null,
   "id": "5f44ad7f-c677-4319-ade8-2d37e4c0f975",
   "metadata": {},
   "outputs": [],
   "source": [
    "plt.figure(figsize=(18,3), dpi= 80)\n",
    "\n",
    "ax1 = plt.subplot(141)\n",
    "ax1 = sns.boxplot(data=PCCs_protein.T,orient = \"h\",linewidth=1,width=0.7, palette=my_pal,fliersize=0,flierprops = {'marker':'o'})\n",
    "ax1.set_xlabel(\"pcc_protein\")\n",
    "ax1.set_xlim(-1.1,1.1)\n",
    "ax1.spines['top'].set_visible(False)\n",
    "ax1.spines['right'].set_visible(False)\n",
    "\n",
    "ax2 = plt.subplot(142)\n",
    "ax2 = sns.boxplot(data=PCCs_cell.T,orient = \"h\",linewidth=1,width=0.7, palette=my_pal,fliersize=0,flierprops = {'marker':'o'})\n",
    "ax2.set_xlabel(\"pcc_cell\")\n",
    "ax2.set_xlim(-1.1,1.1)\n",
    "ax2.spines['top'].set_visible(False)\n",
    "ax2.spines['right'].set_visible(False)\n",
    "plt.yticks(alpha=0)\n",
    "\n",
    "ax3 = plt.subplot(143)\n",
    "ax3 = sns.barplot(x = \"cmd_values\",y = CMD_cell.index,orient = \"h\",data = CMD_cell, ci = 95, palette = my_pal)\n",
    "ax3.set_xlabel(\"cmd_cell\")\n",
    "ax3.spines['top'].set_visible(False)\n",
    "ax3.spines['right'].set_visible(False)\n",
    "ax3.set_xticks(np.arange(0,0.55,0.1))\n",
    "plt.yticks(alpha=0)\n",
    "\n",
    "ax4 = plt.subplot(144)\n",
    "ax4 = sns.barplot(x = \"cmd_values\",y = CMD_protein.index,orient = \"h\",data = CMD_protein, ci = 95, palette = my_pal)\n",
    "ax4.set_xlabel(\"cmd_protein\")\n",
    "ax4.spines['top'].set_visible(False)\n",
    "ax4.spines['right'].set_visible(False)\n",
    "ax4.set_xticks(np.arange(0,0.55,0.1))\n",
    "plt.yticks(alpha=0)\n",
    "\n",
    "# plt.savefig(\"../Results/\"+ test_id + \"_from_\" + train_id +\"_total_ten.pdf\", bbox_inches=\"tight\")\n",
    "plt.show()\n"
   ]
  }
 ],
 "metadata": {
  "kernelspec": {
   "display_name": "Python [conda env:celleagle] *",
   "language": "python",
   "name": "conda-env-celleagle-py"
  },
  "language_info": {
   "codemirror_mode": {
    "name": "ipython",
    "version": 3
   },
   "file_extension": ".py",
   "mimetype": "text/x-python",
   "name": "python",
   "nbconvert_exporter": "python",
   "pygments_lexer": "ipython3",
   "version": "3.8.0"
  }
 },
 "nbformat": 4,
 "nbformat_minor": 5
}
