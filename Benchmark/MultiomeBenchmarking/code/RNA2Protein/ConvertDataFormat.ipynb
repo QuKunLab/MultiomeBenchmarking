{
 "cells": [
  {
   "cell_type": "code",
   "execution_count": 1,
   "id": "a3514f3c-0790-4f18-b0a6-8bd6088ea316",
   "metadata": {},
   "outputs": [],
   "source": [
    "import numpy as np\n",
    "import pandas as pd\n",
    "import anndata as ad\n",
    "import scanpy as sc\n",
    "\n",
    "from scipy.sparse import csr_matrix\n",
    "from scipy.io import mmread,mmwrite"
   ]
  },
  {
   "cell_type": "markdown",
   "id": "c9449f79-3982-4cf6-9359-47f45e301020",
   "metadata": {},
   "source": [
    "### txt"
   ]
  },
  {
   "cell_type": "code",
   "execution_count": 12,
   "id": "5eeebd89-6d4d-47ee-a2d7-db20178591ee",
   "metadata": {},
   "outputs": [],
   "source": [
    "adata_raw = pd.read_csv(\"../Data2Provide/Dataset21_GSE100501/\"+\"GSM2685238_mRNA_2_PBMCs_matrix.txt\",sep = \"\\t\").T\n",
    "adata_ADT = pd.read_csv(\"../Data2Provide/Dataset21_GSE100501/\"+\"GSM2685243_protein_2_PBMCs_matrix.txt\",sep = \"\\t\").T"
   ]
  },
  {
   "cell_type": "code",
   "execution_count": 17,
   "id": "369e24a6-4452-4827-bff5-7bb08619df91",
   "metadata": {},
   "outputs": [],
   "source": [
    "adata_raw = ad.AnnData(adata_raw)\n",
    "adata_raw.obsm['protein_expression'] = adata_ADT"
   ]
  },
  {
   "cell_type": "markdown",
   "id": "db7942cf-f0a1-42b9-ae1d-4d5ddbc711af",
   "metadata": {},
   "source": [
    "### csv"
   ]
  },
  {
   "cell_type": "code",
   "execution_count": 25,
   "id": "1b044941-cff4-4996-bfbf-7e42bbedf959",
   "metadata": {},
   "outputs": [],
   "source": [
    "adata_raw = sc.read_csv(\"../Data2Provide/Dataset1_GSE100866/\"+\"GSE100866_CBMC_8K_13AB_10X-RNA_umi.csv\").T\n",
    "adata_ADT = sc.read_csv(\"../Data2Provide/Dataset1_GSE100866/\"+\"GSE100866_CBMC_8K_13AB_10X-ADT_umi.csv\").T\n",
    "adata_raw.obsm['protein_expression'] = adata_ADT.to_df()"
   ]
  },
  {
   "cell_type": "markdown",
   "id": "94a6b695-27ea-43ad-ba2d-cf063f68bcde",
   "metadata": {},
   "source": [
    "### barcode.tsv/feature.tsv/matrix.mtx"
   ]
  },
  {
   "cell_type": "code",
   "execution_count": 6,
   "id": "f96924d8-bc28-4e40-babe-0744716d45e6",
   "metadata": {},
   "outputs": [],
   "source": [
    "RNA_path = '../Data2Provide/dataset13_GSE144744/RNA_counts/'\n",
    "ADT_path = '../Data2Provide/dataset13_GSE144744/ADT_counts/'"
   ]
  },
  {
   "cell_type": "code",
   "execution_count": 7,
   "id": "05474ade-1657-4fbe-a6ce-fe11dbb075e6",
   "metadata": {
    "tags": []
   },
   "outputs": [],
   "source": [
    "cell_names = pd.read_csv(RNA_path+'barcodes.tsv', sep = '\\t', header=None, index_col=None)\n",
    "# cell_names = pd.read_csv(RNA_path+'barcode.csv', index_col=None)\n",
    "cell_names.columns =  ['cell_ids'] \n",
    "cell_names = cell_names['barcode']\n",
    "\n",
    "X = csr_matrix(mmread(RNA_path+'matrix.mtx').T)\n",
    "\n",
    "gene_names = pd.read_csv(RNA_path+'genes.tsv', sep = '\\t',  header=None, index_col=None) \n",
    "# gene_names = pd.read_csv(RNA_path+'genes.csv', index_col=None) \n",
    "gene_names = gene_names['genes']\n",
    "gene_names = pd.DataFrame(gene_names)\n",
    "gene_names.columns =  ['gene_ids'] \n",
    "\n",
    "adata_raw = ad.AnnData(X, obs=pd.DataFrame(index=cell_names.cell_ids), var=pd.DataFrame(index = gene_names.gene_ids))"
   ]
  },
  {
   "cell_type": "code",
   "execution_count": 15,
   "id": "e62d15fd-6e48-4874-8142-935c893d3942",
   "metadata": {},
   "outputs": [],
   "source": [
    "## ADT.csv\n",
    "adata_ADT = sc.read_csv(ADT_path+\"ADT.csv\",first_column_names=True).T\n",
    "adata_raw.obsm['protein_expression'] = adata_ADT.to_df()\n",
    "\n",
    "## ADT_matrix.mtx\n",
    "X = csr_matrix(mmread(ADT_path + 'adt_matrix.mtx').T)\n",
    "protein_names = pd.read_csv(ADT_path+'proteins.csv', index_col=None) \n",
    "protein_names = protein_names['proteins']\n",
    "protein_names = pd.DataFrame(protein_names)\n",
    "protein_names.columns = ['protein_ids']\n",
    "adata_ADT = ad.AnnData(X, obs=pd.DataFrame(index=cell_names.cell_ids), var=pd.DataFrame(index = protein_names.protein_ids))\n",
    "adata_raw.obsm['protein_expression'] = adata_ADT.to_df()"
   ]
  },
  {
   "cell_type": "markdown",
   "id": "b549e9eb-1e89-4d80-a530-120fd507fc9c",
   "metadata": {},
   "source": [
    "### h5ad"
   ]
  },
  {
   "cell_type": "code",
   "execution_count": 85,
   "id": "3f473b75-6fad-42b3-a20e-c609c1606313",
   "metadata": {},
   "outputs": [],
   "source": [
    "adata_total = sc.read_h5ad('../Data2Provide/dataset5_GSE194122/cite_gex_processed_training.h5ad')"
   ]
  },
  {
   "cell_type": "code",
   "execution_count": 86,
   "id": "f86833ea-f447-4f20-aa04-360ad04c9c14",
   "metadata": {},
   "outputs": [],
   "source": [
    "count = pd.DataFrame(adata_total.X)\n",
    "adata_raw = ad.AnnData(count, obs=pd.DataFrame(index=adata_total.obs_names), var=pd.DataFrame(index=adata_total.var_names))"
   ]
  },
  {
   "cell_type": "code",
   "execution_count": 88,
   "id": "bd5ff48b-e3e5-42e6-b757-7eb6469bbc15",
   "metadata": {},
   "outputs": [],
   "source": [
    "protein_count = pd.DataFrame(adata_total.obsm['protein_expression'])\n",
    "adata_ADT = ad.AnnData(protein_count, obs=pd.DataFrame(index=adata_total.obs_names), var=pd.DataFrame(index = adata_total.uns['protein_names']))\n"
   ]
  },
  {
   "cell_type": "code",
   "execution_count": 90,
   "id": "83ce8755-884a-440e-93fd-bf00dd536c21",
   "metadata": {},
   "outputs": [],
   "source": [
    "adata_raw.obsm['protein_expression'] = adata_ADT.to_df()"
   ]
  },
  {
   "cell_type": "markdown",
   "id": "0294a1ad-6c54-45f6-bcf7-fc239d0c92d5",
   "metadata": {},
   "source": [
    "## Save Data"
   ]
  },
  {
   "cell_type": "code",
   "execution_count": 119,
   "id": "2b0f02ef-107f-4085-81e6-92b8760ec31f",
   "metadata": {},
   "outputs": [],
   "source": [
    "adata_raw.write(\"../Data/adata_raw.h5ad\")"
   ]
  },
  {
   "cell_type": "code",
   "execution_count": null,
   "id": "02df2b91-1d48-42bc-bc65-822ad86c7f79",
   "metadata": {},
   "outputs": [],
   "source": []
  }
 ],
 "metadata": {
  "kernelspec": {
   "display_name": "Python [conda env:celleagle] *",
   "language": "python",
   "name": "conda-env-celleagle-py"
  },
  "language_info": {
   "codemirror_mode": {
    "name": "ipython",
    "version": 3
   },
   "file_extension": ".py",
   "mimetype": "text/x-python",
   "name": "python",
   "nbconvert_exporter": "python",
   "pygments_lexer": "ipython3",
   "version": "3.8.0"
  }
 },
 "nbformat": 4,
 "nbformat_minor": 5
}
